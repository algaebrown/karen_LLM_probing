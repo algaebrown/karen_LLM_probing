{
 "cells": [
  {
   "cell_type": "code",
   "execution_count": 1,
   "id": "897606a5-74d8-4831-a6e0-9d855f1ca812",
   "metadata": {},
   "outputs": [],
   "source": [
    "import pandas as pd\n",
    "rbns_status = pd.read_csv('/tscc/nfs/home/hsher/projects/rbns_thermo/RBNS_status.csv', names = ['rbp', 'status'])\n",
    "rbns_status['status'] = rbns_status['status'].fillna('NAN').str.upper()\n",
    "available_rbps = rbns_status.loc[rbns_status['status']!='FAIL']['rbp'].tolist()"
   ]
  },
  {
   "cell_type": "code",
   "execution_count": 2,
   "id": "98ba1976-f3fd-4de9-82d4-c6c27d03af0c",
   "metadata": {},
   "outputs": [],
   "source": [
    "from collections import defaultdict\n",
    "import os\n",
    "rbp_to_file = defaultdict(list)\n",
    "for f in os.listdir('/tscc/nfs/home/hsher/projects/rbns_thermo/Burge_RBNS/'):\n",
    "    rbp = f.split('_')[0]\n",
    "    if rbp in available_rbps:\n",
    "        rbp_to_file[rbp].append(os.path.join('/tscc/nfs/home/hsher/projects/rbns_thermo/Burge_RBNS/',f))"
   ]
  },
  {
   "cell_type": "code",
   "execution_count": 3,
   "id": "24207295-3957-4616-bf77-6965f8bfff2b",
   "metadata": {},
   "outputs": [],
   "source": [
    "from pathlib import Path\n",
    "indir = Path('/tscc/nfs/home/hsher/ps-yeolab5/selex_motif/linear/')\n",
    "rbp_to_selex = {}\n",
    "for file in indir.glob('*.motif.csv'):\n",
    "    rbp_to_selex[file.name.split('.')[0]]=file\n",
    "indir = Path('/tscc/nfs/home/hsher/ps-yeolab5/selex_motif/struct/')\n",
    "for file in indir.glob('*.motif.csv'):\n",
    "    rbp_to_selex[file.name.split('.')[0]]=file"
   ]
  },
  {
   "cell_type": "code",
   "execution_count": 12,
   "id": "63fcadda-bbde-4885-ad6b-795778bb02e2",
   "metadata": {},
   "outputs": [],
   "source": [
    "import numpy as np\n",
    "from scipy.stats import entropy\n",
    "class Motif:\n",
    "    def __init__(self, pwm, pseudocount = 0.000001):\n",
    "        self.pwm = pwm\n",
    "        \n",
    "        self.filter_by_entropy()\n",
    "        self.pwm += pseudocount\n",
    "\n",
    "        # clean up index, make U to T (same as bedtools)\n",
    "        \n",
    "        self.pwm.columns = ['T' if i == 'U' else i for i in list(self.pwm.columns)]\n",
    "        self.logodds_score()\n",
    "    def filter_by_entropy(self, thres = 1):\n",
    "        '''calculate entropy for each position '''\n",
    "        m_entropy = np.apply_along_axis(arr = self.pwm.values, func1d = entropy, axis = 1)\n",
    "        self.pwm = self.pwm.loc[m_entropy <thres]\n",
    "        self.pwm.reset_index(inplace = True)\n",
    "        self.pwm.drop('index', axis = 1, inplace = True)\n",
    "    def score_samelen_seq(self, seq):\n",
    "        ''' return log likelihood score of a sequence '''\n",
    "        score = 0\n",
    "        assert len(seq) == self.pwm.shape[0]\n",
    "        for index, s in enumerate(seq):\n",
    "            score += np.log(self.pwm.loc[index, s]) # the higher the better (higher prob)\n",
    "        return score\n",
    "    def score_entire_seq(self, seq):\n",
    "        ''' return the scores of every kmer in sequence '''\n",
    "        k = self.pwm.shape[0]\n",
    "        scores = []\n",
    "        for i in range(len(seq)-k+1):\n",
    "            substr = seq[i:i+k]\n",
    "            substr_score = self.score_samelen_seq(substr)\n",
    "            scores.append(substr_score)\n",
    "        return scores\n",
    "    def max_scoring_substring(self, seq):\n",
    "        scores = self.score_entire_seq(seq)\n",
    "        max_score = max(scores)\n",
    "        index_start = scores.index(max_score)\n",
    "        index_end = index_start+ self.pwm.shape[0]\n",
    "        return max_score, index_start, index_end\n",
    "    def logodds_score(self):\n",
    "        max_pos = self.pwm.idxmax(axis = 1)\n",
    "        s = 0\n",
    "        for i, seq in zip(self.pwm.index, max_pos):\n",
    "            s += np.log(self.pwm.loc[i, seq]/0.25)\n",
    "        self.logodds_score = s\n",
    "        self.sequence = ''.join(max_pos)\n",
    "        \n",
    "        "
   ]
  },
  {
   "cell_type": "code",
   "execution_count": 9,
   "id": "588b2a5d-47f7-4175-80a5-8f8a3d908658",
   "metadata": {},
   "outputs": [],
   "source": [
    "def motif2homer(m, name, out_handle):\n",
    "    string = f'>{m.sequence}\\t{name}_{m.sequence}\\t{m.logodds_score}\\n'\n",
    "    \n",
    "    out_handle.write(string)\n",
    "    m.pwm[['A', 'C', 'G', 'T']].to_csv(out_handle, index = False, header = False, float_format='%.3f', sep = '\\t')"
   ]
  },
  {
   "cell_type": "code",
   "execution_count": 20,
   "id": "b43e7481-8fc4-40a3-b0a4-69babfa36c28",
   "metadata": {},
   "outputs": [
    {
     "data": {
      "text/html": [
       "<div>\n",
       "<style scoped>\n",
       "    .dataframe tbody tr th:only-of-type {\n",
       "        vertical-align: middle;\n",
       "    }\n",
       "\n",
       "    .dataframe tbody tr th {\n",
       "        vertical-align: top;\n",
       "    }\n",
       "\n",
       "    .dataframe thead th {\n",
       "        text-align: right;\n",
       "    }\n",
       "</style>\n",
       "<table border=\"1\" class=\"dataframe\">\n",
       "  <thead>\n",
       "    <tr style=\"text-align: right;\">\n",
       "      <th></th>\n",
       "      <th>A</th>\n",
       "      <th>C</th>\n",
       "      <th>G</th>\n",
       "      <th>U</th>\n",
       "    </tr>\n",
       "    <tr>\n",
       "      <th>PO</th>\n",
       "      <th></th>\n",
       "      <th></th>\n",
       "      <th></th>\n",
       "      <th></th>\n",
       "    </tr>\n",
       "  </thead>\n",
       "  <tbody>\n",
       "    <tr>\n",
       "      <th>0</th>\n",
       "      <td>0.050905</td>\n",
       "      <td>0.050805</td>\n",
       "      <td>0.847485</td>\n",
       "      <td>0.050805</td>\n",
       "    </tr>\n",
       "    <tr>\n",
       "      <th>1</th>\n",
       "      <td>0.000000</td>\n",
       "      <td>1.000000</td>\n",
       "      <td>0.000000</td>\n",
       "      <td>0.000000</td>\n",
       "    </tr>\n",
       "    <tr>\n",
       "      <th>2</th>\n",
       "      <td>0.406341</td>\n",
       "      <td>0.593659</td>\n",
       "      <td>0.000000</td>\n",
       "      <td>0.000000</td>\n",
       "    </tr>\n",
       "    <tr>\n",
       "      <th>3</th>\n",
       "      <td>0.192619</td>\n",
       "      <td>0.197720</td>\n",
       "      <td>0.609661</td>\n",
       "      <td>0.000000</td>\n",
       "    </tr>\n",
       "    <tr>\n",
       "      <th>4</th>\n",
       "      <td>0.000000</td>\n",
       "      <td>1.000000</td>\n",
       "      <td>0.000000</td>\n",
       "      <td>0.000000</td>\n",
       "    </tr>\n",
       "    <tr>\n",
       "      <th>5</th>\n",
       "      <td>0.046905</td>\n",
       "      <td>0.859386</td>\n",
       "      <td>0.046905</td>\n",
       "      <td>0.046805</td>\n",
       "    </tr>\n",
       "  </tbody>\n",
       "</table>\n",
       "</div>"
      ],
      "text/plain": [
       "           A         C         G         U\n",
       "PO                                        \n",
       "0   0.050905  0.050805  0.847485  0.050805\n",
       "1   0.000000  1.000000  0.000000  0.000000\n",
       "2   0.406341  0.593659  0.000000  0.000000\n",
       "3   0.192619  0.197720  0.609661  0.000000\n",
       "4   0.000000  1.000000  0.000000  0.000000\n",
       "5   0.046905  0.859386  0.046905  0.046805"
      ]
     },
     "execution_count": 20,
     "metadata": {},
     "output_type": "execute_result"
    }
   ],
   "source": [
    "pd.read_csv(rbp_to_file[key][0], index_col = 0, sep = '\\t', skiprows = 1)"
   ]
  },
  {
   "cell_type": "code",
   "execution_count": 21,
   "id": "48f39dd4-5718-482a-8b49-10f943911e3c",
   "metadata": {},
   "outputs": [
    {
     "name": "stderr",
     "output_type": "stream",
     "text": [
      "/tscc/nfs/home/hsher/miniconda3/envs/my_metadensity/lib/python3.7/site-packages/pandas/core/frame.py:4913: SettingWithCopyWarning: \n",
      "A value is trying to be set on a copy of a slice from a DataFrame\n",
      "\n",
      "See the caveats in the documentation: https://pandas.pydata.org/pandas-docs/stable/user_guide/indexing.html#returning-a-view-versus-a-copy\n",
      "  errors=errors,\n"
     ]
    }
   ],
   "source": [
    "with open('all_RBP_SELEX_RBNS.homer', 'w') as f:\n",
    "    for key in rbp_to_selex.keys():\n",
    "        m=Motif(pd.read_csv(rbp_to_selex[key], index_col = 0))\n",
    "        motif2homer(m, key,f)\n",
    "    for key in rbp_to_file.keys():\n",
    "        df = pd.read_csv(rbp_to_file[key][0], index_col = 0, sep = '\\t', skiprows = 1)\n",
    "        df.index.name = 'index'\n",
    "        m=Motif(df)\n",
    "        motif2homer(m, key,f)"
   ]
  },
  {
   "cell_type": "code",
   "execution_count": 22,
   "id": "72c91e46-1eb5-4747-ba39-36091d9dda4b",
   "metadata": {},
   "outputs": [],
   "source": [
    "# from plot_params import *\n",
    "# import pandas as pd\n",
    "# df=pd.read_csv(outdir / 'Mouse_annotated.csv.gz')"
   ]
  },
  {
   "cell_type": "code",
   "execution_count": 23,
   "id": "90ebf44b-6e37-485b-abf0-217e63a5b603",
   "metadata": {},
   "outputs": [],
   "source": [
    "# n_c = df['subseq'].str.count('C').sum()\n",
    "# n_g = df['subseq'].str.count('G').sum()\n",
    "# n_t = df['subseq'].str.count('T').sum()\n",
    "# n_a = df['subseq'].str.count('A').sum()"
   ]
  },
  {
   "cell_type": "code",
   "execution_count": null,
   "id": "64820391-82bd-40da-982a-3244117c39f0",
   "metadata": {},
   "outputs": [],
   "source": []
  },
  {
   "cell_type": "code",
   "execution_count": null,
   "id": "6b373eeb-10a4-445e-8950-8860342b5ea7",
   "metadata": {},
   "outputs": [],
   "source": []
  },
  {
   "cell_type": "code",
   "execution_count": null,
   "id": "0cb45ed8-b089-4ba1-b66c-bdf95f7ee416",
   "metadata": {},
   "outputs": [],
   "source": []
  },
  {
   "cell_type": "code",
   "execution_count": null,
   "id": "7ce0b477-f14f-445d-8054-15ba8d7777bb",
   "metadata": {},
   "outputs": [],
   "source": [
    "# m.max_scoring_substring(df.iloc[0]['subseq'])"
   ]
  },
  {
   "cell_type": "code",
   "execution_count": null,
   "id": "57bc74e1-8374-48cf-9940-b48dbd10f626",
   "metadata": {},
   "outputs": [],
   "source": [
    "# df.iloc[:50]['subseq'].apply(m.max_scoring_substring)"
   ]
  },
  {
   "cell_type": "markdown",
   "id": "5e04130f-feeb-4f58-b0eb-ceecfc3620b2",
   "metadata": {},
   "source": [
    "module load homer\n",
    "cd /tscc/nfs/home/hsher/ps-yeolab5/karen_data\n",
    "<!-- findMotifs.pl utr3_forefround.fa fasta utr3_homer_results/ -fasta utr3_backfround.fa \\\n",
    "    -rna -nofacts -->\n",
    "\n",
    "# mouse\n",
    "findMotifs.pl all.fa fasta test_homer_find -find /tscc/nfs/home/hsher/projects/karen_LLM/all_RBP_SELEX_RBNS.homer -rna > homer_output.tsv\n",
    "\n",
    "# human\n",
    "findMotifs.pl all_human.fa fasta test_homer_find_human -find /tscc/nfs/home/hsher/projects/karen_LLM/all_RBP_SELEX_RBNS.homer -rna > homer_output_human.tsv\n",
    "<!-- findMotifs.pl all.fa fasta test_homer_find -find ~/scratch/ENCODE3_HepG2/output/homer/finemapped_results/RBFOX2_HepG2_ENCSR987FTF/homerMotifs.all.motifs -rna > ~/scratch/testhomerfind.txt\n",
    " -->\n",
    "\n",
    "findMotifs.pl all_human_30bp.fa fasta test_homer_find_human -find /tscc/nfs/home/hsher/projects/karen_LLM/all_RBP_SELEX_RBNS.homer -rna > homer_output_human.tsv"
   ]
  }
 ],
 "metadata": {
  "kernelspec": {
   "display_name": "my_metadensity",
   "language": "python",
   "name": "my_metadensity"
  },
  "language_info": {
   "codemirror_mode": {
    "name": "ipython",
    "version": 3
   },
   "file_extension": ".py",
   "mimetype": "text/x-python",
   "name": "python",
   "nbconvert_exporter": "python",
   "pygments_lexer": "ipython3",
   "version": "3.7.12"
  }
 },
 "nbformat": 4,
 "nbformat_minor": 5
}
