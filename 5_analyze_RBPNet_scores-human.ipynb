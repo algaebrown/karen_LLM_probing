{
 "cells": [
  {
   "cell_type": "code",
   "execution_count": 1,
   "id": "ba1c7683-ced3-4b0a-994a-b0460b1840ec",
   "metadata": {},
   "outputs": [
    {
     "name": "stderr",
     "output_type": "stream",
     "text": [
      "/tscc/nfs/home/hsher/miniconda3/envs/my_metadensity/lib/python3.7/site-packages/ipykernel_launcher.py:15: PerformanceWarning: DataFrame is highly fragmented.  This is usually the result of calling `frame.insert` many times, which has poor performance.  Consider joining all columns at once using pd.concat(axis=1) instead.  To get a de-fragmented frame, use `newframe = frame.copy()`\n",
      "  from ipykernel import kernelapp as app\n"
     ]
    }
   ],
   "source": [
    "import pandas as pd\n",
    "from plot_params import *\n",
    "import pandas as pd\n",
    "data=pd.read_csv(outdir / 'Human_annotated.csv.gz')\n",
    "\n",
    "outdir = Path('/tscc/nfs/home/hsher/ps-yeolab5/karen_data/eclip_model_scores_human/output/')\n",
    "for f in outdir.glob('*.score.csv'):\n",
    "    name = f.name.split('.')[0]\n",
    "    df = pd.read_csv(f,\n",
    "                    index_col = 0)\n",
    "    df.set_index('ID', inplace = True)\n",
    "    df.rename({'dlogodds_pred': name}, axis = 1, inplace = True)\n",
    "\n",
    "\n",
    "    data[name]=df[name]"
   ]
  },
  {
   "cell_type": "code",
   "execution_count": 2,
   "id": "1795b3d0-be4c-4818-a88c-252bf834a3a3",
   "metadata": {},
   "outputs": [],
   "source": [
    "data['annotation']=data.apply(\n",
    "    lambda row: 'UTR5' if row['start_annotation']=='UTR5' and row['end_annotation']=='UTR5' else\n",
    "     'UTR3' if row['start_annotation']=='UTR3' and row['end_annotation']=='UTR3' else 'CDS', axis = 1)"
   ]
  },
  {
   "cell_type": "code",
   "execution_count": 3,
   "id": "d9461fb5-5ac3-4aba-acf7-a3ca7f583fc4",
   "metadata": {},
   "outputs": [],
   "source": [
    "# data.to_csv(outdir / 'Human_annotated_RBPNet.csv.gz')"
   ]
  },
  {
   "cell_type": "code",
   "execution_count": 4,
   "id": "c027ea9a-5087-4601-9d89-ccebb50bc162",
   "metadata": {},
   "outputs": [
    {
     "data": {
      "text/plain": [
       "<AxesSubplot:>"
      ]
     },
     "execution_count": 4,
     "metadata": {},
     "output_type": "execute_result"
    },
    {
     "data": {
      "image/png": "[encoded data removed]",
      "text/plain": [
       "<Figure size 432x288 with 1 Axes>"
      ]
     },
     "metadata": {},
     "output_type": "display_data"
    }
   ],
   "source": [
    "data['difference'].hist(bins = 100)"
   ]
  },
  {
   "cell_type": "code",
   "execution_count": 5,
   "id": "30cf335e-8c6b-4739-beb3-3e210cf9659b",
   "metadata": {},
   "outputs": [],
   "source": [
    "import numpy as np\n",
    "data['difference_bin'] = pd.cut(data['difference'], bins = [-np.inf, -0.1, 0.1, np.inf],\n",
    "                               labels = ['<-0.1', 'middle', '>0.1'])"
   ]
  },
  {
   "cell_type": "code",
   "execution_count": 6,
   "id": "941b6231-2a29-4a85-bcbe-3086b51c83a2",
   "metadata": {},
   "outputs": [],
   "source": []
  },
  {
   "cell_type": "code",
   "execution_count": 14,
   "id": "7cb0072e-5c3f-4f2b-87ce-52da05a237b2",
   "metadata": {},
   "outputs": [],
   "source": [
    "from scipy.stats import ks_2samp\n",
    "from statsmodels.stats.multitest import fdrcorrection\n",
    "fdr_thres = 0.2\n",
    "stat_all = []\n",
    "for exp in data.columns[9:-2]:\n",
    "    for cat in ['<-0.1', '>0.1']:\n",
    "        sample = data.loc[(data['difference_bin']==cat),\n",
    "                                    exp]\n",
    "        bg = data.loc[          \n",
    "                                    (data['difference_bin']=='middle'), exp]\n",
    "        ks, pv = ks_2samp(sample, \n",
    "                          bg, alternative='two-sided')\n",
    "        \n",
    "        median_difference = sample.median() - bg.median()\n",
    "        stat_all.append([ks, pv, exp, cat, median_difference])\n",
    "        \n",
    "stat_all = pd.DataFrame(stat_all, \n",
    "                        columns = ['KS statistics', 'pvalue', 'RBPNet_model', 'category', 'median difference'])\n",
    "\n",
    "\n"
   ]
  },
  {
   "cell_type": "code",
   "execution_count": 22,
   "id": "ee11edfe-9f7e-4294-90ba-7ccecef405e2",
   "metadata": {},
   "outputs": [],
   "source": [
    "stat_all['sig'],stat_all['FDR'] = fdrcorrection(stat_all['pvalue'], alpha = fdr_thres)\n",
    "#stat_all['l2or'] = np.log2(stat_all['odds ratio'])\n",
    "stat_all['-log10 FDR']= -np.log10(stat_all['FDR']+stat_all.loc[stat_all['pvalue']>0, 'pvalue'].min())"
   ]
  },
  {
   "cell_type": "code",
   "execution_count": 24,
   "id": "08e446e0-1108-4e6f-9e0a-b9769b4908e3",
   "metadata": {},
   "outputs": [
    {
     "data": {
      "text/html": [
       "<div>\n",
       "<style scoped>\n",
       "    .dataframe tbody tr th:only-of-type {\n",
       "        vertical-align: middle;\n",
       "    }\n",
       "\n",
       "    .dataframe tbody tr th {\n",
       "        vertical-align: top;\n",
       "    }\n",
       "\n",
       "    .dataframe thead th {\n",
       "        text-align: right;\n",
       "    }\n",
       "</style>\n",
       "<table border=\"1\" class=\"dataframe\">\n",
       "  <thead>\n",
       "    <tr style=\"text-align: right;\">\n",
       "      <th></th>\n",
       "      <th>KS statistics</th>\n",
       "      <th>pvalue</th>\n",
       "      <th>RBPNet_model</th>\n",
       "      <th>category</th>\n",
       "      <th>median difference</th>\n",
       "      <th>sig</th>\n",
       "      <th>FDR</th>\n",
       "      <th>-log10 FDR</th>\n",
       "    </tr>\n",
       "  </thead>\n",
       "  <tbody>\n",
       "    <tr>\n",
       "      <th>0</th>\n",
       "      <td>0.216065</td>\n",
       "      <td>0.000000e+00</td>\n",
       "      <td>DDX41_K562_5081</td>\n",
       "      <td>&lt;-0.1</td>\n",
       "      <td>0.081023</td>\n",
       "      <td>True</td>\n",
       "      <td>0.000000e+00</td>\n",
       "      <td>320.567435</td>\n",
       "    </tr>\n",
       "    <tr>\n",
       "      <th>1</th>\n",
       "      <td>0.229187</td>\n",
       "      <td>2.107696e-185</td>\n",
       "      <td>DDX41_K562_5081</td>\n",
       "      <td>&gt;0.1</td>\n",
       "      <td>0.084022</td>\n",
       "      <td>True</td>\n",
       "      <td>5.135653e-185</td>\n",
       "      <td>184.289404</td>\n",
       "    </tr>\n",
       "    <tr>\n",
       "      <th>2</th>\n",
       "      <td>0.130995</td>\n",
       "      <td>6.590994e-201</td>\n",
       "      <td>AQR_HepG2_ENCSR018WPY</td>\n",
       "      <td>&lt;-0.1</td>\n",
       "      <td>0.011737</td>\n",
       "      <td>True</td>\n",
       "      <td>1.652525e-200</td>\n",
       "      <td>199.781852</td>\n",
       "    </tr>\n",
       "    <tr>\n",
       "      <th>3</th>\n",
       "      <td>0.112575</td>\n",
       "      <td>1.147919e-44</td>\n",
       "      <td>AQR_HepG2_ENCSR018WPY</td>\n",
       "      <td>&gt;0.1</td>\n",
       "      <td>0.009870</td>\n",
       "      <td>True</td>\n",
       "      <td>1.341825e-44</td>\n",
       "      <td>43.872304</td>\n",
       "    </tr>\n",
       "    <tr>\n",
       "      <th>4</th>\n",
       "      <td>0.086544</td>\n",
       "      <td>9.456097e-88</td>\n",
       "      <td>HNRNPU_HepG2_ENCSR240MVJ</td>\n",
       "      <td>&lt;-0.1</td>\n",
       "      <td>-0.011314</td>\n",
       "      <td>True</td>\n",
       "      <td>1.298337e-87</td>\n",
       "      <td>86.886613</td>\n",
       "    </tr>\n",
       "    <tr>\n",
       "      <th>...</th>\n",
       "      <td>...</td>\n",
       "      <td>...</td>\n",
       "      <td>...</td>\n",
       "      <td>...</td>\n",
       "      <td>...</td>\n",
       "      <td>...</td>\n",
       "      <td>...</td>\n",
       "      <td>...</td>\n",
       "    </tr>\n",
       "    <tr>\n",
       "      <th>341</th>\n",
       "      <td>0.052587</td>\n",
       "      <td>4.575525e-10</td>\n",
       "      <td>PTBP1_K562_5015</td>\n",
       "      <td>&gt;0.1</td>\n",
       "      <td>0.008614</td>\n",
       "      <td>True</td>\n",
       "      <td>4.739915e-10</td>\n",
       "      <td>9.324229</td>\n",
       "    </tr>\n",
       "    <tr>\n",
       "      <th>342</th>\n",
       "      <td>0.195955</td>\n",
       "      <td>0.000000e+00</td>\n",
       "      <td>BUD13_K562_ENCSR663WES</td>\n",
       "      <td>&lt;-0.1</td>\n",
       "      <td>0.083937</td>\n",
       "      <td>True</td>\n",
       "      <td>0.000000e+00</td>\n",
       "      <td>320.567435</td>\n",
       "    </tr>\n",
       "    <tr>\n",
       "      <th>343</th>\n",
       "      <td>0.207981</td>\n",
       "      <td>1.961457e-152</td>\n",
       "      <td>BUD13_K562_ENCSR663WES</td>\n",
       "      <td>&gt;0.1</td>\n",
       "      <td>0.091997</td>\n",
       "      <td>True</td>\n",
       "      <td>4.113115e-152</td>\n",
       "      <td>151.385829</td>\n",
       "    </tr>\n",
       "    <tr>\n",
       "      <th>344</th>\n",
       "      <td>0.086359</td>\n",
       "      <td>2.237899e-87</td>\n",
       "      <td>ZNF800_K562_ENCSR586DGV</td>\n",
       "      <td>&lt;-0.1</td>\n",
       "      <td>0.015855</td>\n",
       "      <td>True</td>\n",
       "      <td>3.048476e-87</td>\n",
       "      <td>86.515917</td>\n",
       "    </tr>\n",
       "    <tr>\n",
       "      <th>345</th>\n",
       "      <td>0.185375</td>\n",
       "      <td>6.046267e-121</td>\n",
       "      <td>ZNF800_K562_ENCSR586DGV</td>\n",
       "      <td>&gt;0.1</td>\n",
       "      <td>0.034718</td>\n",
       "      <td>True</td>\n",
       "      <td>1.020492e-120</td>\n",
       "      <td>119.991190</td>\n",
       "    </tr>\n",
       "  </tbody>\n",
       "</table>\n",
       "<p>346 rows × 8 columns</p>\n",
       "</div>"
      ],
      "text/plain": [
       "     KS statistics         pvalue              RBPNet_model category  \\\n",
       "0         0.216065   0.000000e+00           DDX41_K562_5081    <-0.1   \n",
       "1         0.229187  2.107696e-185           DDX41_K562_5081     >0.1   \n",
       "2         0.130995  6.590994e-201     AQR_HepG2_ENCSR018WPY    <-0.1   \n",
       "3         0.112575   1.147919e-44     AQR_HepG2_ENCSR018WPY     >0.1   \n",
       "4         0.086544   9.456097e-88  HNRNPU_HepG2_ENCSR240MVJ    <-0.1   \n",
       "..             ...            ...                       ...      ...   \n",
       "341       0.052587   4.575525e-10           PTBP1_K562_5015     >0.1   \n",
       "342       0.195955   0.000000e+00    BUD13_K562_ENCSR663WES    <-0.1   \n",
       "343       0.207981  1.961457e-152    BUD13_K562_ENCSR663WES     >0.1   \n",
       "344       0.086359   2.237899e-87   ZNF800_K562_ENCSR586DGV    <-0.1   \n",
       "345       0.185375  6.046267e-121   ZNF800_K562_ENCSR586DGV     >0.1   \n",
       "\n",
       "     median difference   sig            FDR  -log10 FDR  \n",
       "0             0.081023  True   0.000000e+00  320.567435  \n",
       "1             0.084022  True  5.135653e-185  184.289404  \n",
       "2             0.011737  True  1.652525e-200  199.781852  \n",
       "3             0.009870  True   1.341825e-44   43.872304  \n",
       "4            -0.011314  True   1.298337e-87   86.886613  \n",
       "..                 ...   ...            ...         ...  \n",
       "341           0.008614  True   4.739915e-10    9.324229  \n",
       "342           0.083937  True   0.000000e+00  320.567435  \n",
       "343           0.091997  True  4.113115e-152  151.385829  \n",
       "344           0.015855  True   3.048476e-87   86.515917  \n",
       "345           0.034718  True  1.020492e-120  119.991190  \n",
       "\n",
       "[346 rows x 8 columns]"
      ]
     },
     "execution_count": 24,
     "metadata": {},
     "output_type": "execute_result"
    }
   ],
   "source": [
    "stat_all.loc"
   ]
  },
  {
   "cell_type": "code",
   "execution_count": 36,
   "id": "4ad24063-c77f-4787-be14-870e3bfc5d26",
   "metadata": {},
   "outputs": [],
   "source": [
    "stat_all.to_csv(outdir / 'neural_network_enrichment_human.csv')"
   ]
  },
  {
   "cell_type": "code",
   "execution_count": 40,
   "id": "b3ea87a9-d6c0-4976-8e80-5dba6fe7da8e",
   "metadata": {},
   "outputs": [],
   "source": [
    "tabledir=Path('/tscc/nfs/home/hsher/ps-yeolab5/ENCODE_paper_tables')\n",
    "annotation = pd.read_csv(tabledir/'Hierachial_class.csv')"
   ]
  },
  {
   "cell_type": "code",
   "execution_count": 45,
   "id": "3322cdf6-79a2-4aec-a0c6-b76f095c8006",
   "metadata": {},
   "outputs": [],
   "source": [
    "stat_all['RBP_official']=stat_all['RBPNet_model'].map(annotation.set_index('id')['RBP_official'])"
   ]
  },
  {
   "cell_type": "code",
   "execution_count": 38,
   "id": "cc9912a9-610f-40e9-8d9c-63ddb5eca515",
   "metadata": {},
   "outputs": [],
   "source": [
    "syngo = pd.read_excel('synGo/syngo_genes.xlsx')"
   ]
  },
  {
   "cell_type": "code",
   "execution_count": 46,
   "id": "5153fb0c-69a8-47bf-a714-96deed06498e",
   "metadata": {},
   "outputs": [],
   "source": [
    "stat_all['is_SynGo'] = stat_all['RBP_official'].isin(syngo['hgnc_symbol'])"
   ]
  },
  {
   "cell_type": "code",
   "execution_count": 48,
   "id": "e3316f11-5d94-4bda-9299-ed6ca8ec9549",
   "metadata": {},
   "outputs": [
    {
     "data": {
      "image/png": "[encoded data removed]",
      "text/plain": [
       "<Figure size 864x432 with 2 Axes>"
      ]
     },
     "metadata": {},
     "output_type": "display_data"
    }
   ],
   "source": [
    "f, axes = plt.subplots(1,2, figsize = (12,6))\n",
    "for ax, (name, group) in zip(axes.flatten(),stat_all.groupby(by = ['category'])):\n",
    "    sns.scatterplot(data = group, x = 'median difference', y = '-log10 FDR', ax = ax, hue = 'is_SynGo')\n",
    "    ax.set_title(name)\n",
    "    sig1 = group.loc[(group['sig'])].sort_values(by = 'median difference', ascending = False).iloc[:5]\n",
    "    sig2 = group.loc[(group['sig'])].sort_values(by = '-log10 FDR', ascending = False).iloc[:5]\n",
    "    sig = pd.concat([sig1, sig2], axis = 0)\n",
    "    for index, row in sig.iterrows():\n",
    "        ax.text(row['median difference'], row['-log10 FDR'], row['RBPNet_model'].split('_')[0])\n",
    "    ax.vlines(x = 0, ymin = ax.get_ylim()[0],ymax = ax.get_ylim()[1], linestyle = 'dashed', color = 'black')\n",
    "sns.despine()"
   ]
  },
  {
   "cell_type": "code",
   "execution_count": 32,
   "id": "9596035c-871b-4565-bb93-570ba5fd2f8f",
   "metadata": {},
   "outputs": [
    {
     "data": {
      "text/html": [
       "<div>\n",
       "<style scoped>\n",
       "    .dataframe tbody tr th:only-of-type {\n",
       "        vertical-align: middle;\n",
       "    }\n",
       "\n",
       "    .dataframe tbody tr th {\n",
       "        vertical-align: top;\n",
       "    }\n",
       "\n",
       "    .dataframe thead th {\n",
       "        text-align: right;\n",
       "    }\n",
       "</style>\n",
       "<table border=\"1\" class=\"dataframe\">\n",
       "  <thead>\n",
       "    <tr style=\"text-align: right;\">\n",
       "      <th></th>\n",
       "      <th>KS statistics</th>\n",
       "      <th>pvalue</th>\n",
       "      <th>RBPNet_model</th>\n",
       "      <th>category</th>\n",
       "      <th>median difference</th>\n",
       "      <th>sig</th>\n",
       "      <th>FDR</th>\n",
       "      <th>-log10 FDR</th>\n",
       "    </tr>\n",
       "  </thead>\n",
       "  <tbody>\n",
       "    <tr>\n",
       "      <th>250</th>\n",
       "      <td>0.107778</td>\n",
       "      <td>5.627408e-136</td>\n",
       "      <td>ELAVL1_HepG2_4083</td>\n",
       "      <td>&lt;-0.1</td>\n",
       "      <td>-0.014918</td>\n",
       "      <td>True</td>\n",
       "      <td>1.063980e-135</td>\n",
       "      <td>134.973067</td>\n",
       "    </tr>\n",
       "    <tr>\n",
       "      <th>251</th>\n",
       "      <td>0.085575</td>\n",
       "      <td>5.769114e-26</td>\n",
       "      <td>ELAVL1_HepG2_4083</td>\n",
       "      <td>&gt;0.1</td>\n",
       "      <td>-0.009341</td>\n",
       "      <td>True</td>\n",
       "      <td>6.277086e-26</td>\n",
       "      <td>25.202242</td>\n",
       "    </tr>\n",
       "  </tbody>\n",
       "</table>\n",
       "</div>"
      ],
      "text/plain": [
       "     KS statistics         pvalue       RBPNet_model category  \\\n",
       "250       0.107778  5.627408e-136  ELAVL1_HepG2_4083    <-0.1   \n",
       "251       0.085575   5.769114e-26  ELAVL1_HepG2_4083     >0.1   \n",
       "\n",
       "     median difference   sig            FDR  -log10 FDR  \n",
       "250          -0.014918  True  1.063980e-135  134.973067  \n",
       "251          -0.009341  True   6.277086e-26   25.202242  "
      ]
     },
     "execution_count": 32,
     "metadata": {},
     "output_type": "execute_result"
    }
   ],
   "source": [
    "stat_all.loc[stat_all['RBPNet_model'].str.contains('ELAV')]"
   ]
  },
  {
   "cell_type": "code",
   "execution_count": 34,
   "id": "80e047a4-c821-4394-ad19-8e3c82cc84bf",
   "metadata": {},
   "outputs": [
    {
     "data": {
      "image/png": "[encoded data removed]",
      "text/plain": [
       "<Figure size 432x288 with 1 Axes>"
      ]
     },
     "metadata": {},
     "output_type": "display_data"
    }
   ],
   "source": [
    "sns.boxplot(data, x = 'annotation', \n",
    "            y = 'PRPF8_HepG2_ENCSR121NVA', \n",
    "            hue = 'difference_bin', \n",
    "            showfliers=False)\n",
    "sns.despine()"
   ]
  },
  {
   "cell_type": "code",
   "execution_count": 35,
   "id": "0296d3be-4b02-4cc6-bba4-10f8d555c037",
   "metadata": {},
   "outputs": [
    {
     "data": {
      "image/png": "[encoded data removed]",
      "text/plain": [
       "<Figure size 432x288 with 1 Axes>"
      ]
     },
     "metadata": {},
     "output_type": "display_data"
    }
   ],
   "source": [
    "sns.boxplot(data, x = 'annotation', \n",
    "            y = 'HNRNPM_K562_ENCSR412NOW', \n",
    "            hue = 'difference_bin', \n",
    "            showfliers=False)\n",
    "sns.despine()"
   ]
  },
  {
   "cell_type": "code",
   "execution_count": 9,
   "id": "7173c4ba-e86f-4426-9601-663278cd5df8",
   "metadata": {},
   "outputs": [],
   "source": [
    "\n",
    "stat = []\n",
    "for exp in data.columns[9:-2]:\n",
    "    for annotation in ['UTR5', 'CDS', 'UTR3']:\n",
    "        for cat in ['<-0.1', '>0.1']:\n",
    "            ks, pv = ks_2samp(data.loc[(data['annotation']==annotation)&\n",
    "                                        (data['difference_bin']==cat),\n",
    "                                        exp], \n",
    "                                        data.loc[(data['annotation']==annotation)&\n",
    "                                        (data['difference_bin']=='middle'),\n",
    "                                        exp], alternative='two-sided')\n",
    "            stat.append([ks, pv, exp, cat, annotation])\n",
    "        \n",
    "    "
   ]
  },
  {
   "cell_type": "code",
   "execution_count": 10,
   "id": "f0e188fe-e9f1-4b04-8d72-ae6a948043ee",
   "metadata": {},
   "outputs": [],
   "source": [
    "stat = pd.DataFrame(stat, columns = ['KS statistics', 'pvalue', 'RBPNet_model', 'category', 'annotation'])"
   ]
  },
  {
   "cell_type": "code",
   "execution_count": 11,
   "id": "02b97d6a-30a1-43cb-83b4-9e2d92c051cf",
   "metadata": {},
   "outputs": [
    {
     "data": {
      "text/html": [
       "<div>\n",
       "<style scoped>\n",
       "    .dataframe tbody tr th:only-of-type {\n",
       "        vertical-align: middle;\n",
       "    }\n",
       "\n",
       "    .dataframe tbody tr th {\n",
       "        vertical-align: top;\n",
       "    }\n",
       "\n",
       "    .dataframe thead th {\n",
       "        text-align: right;\n",
       "    }\n",
       "</style>\n",
       "<table border=\"1\" class=\"dataframe\">\n",
       "  <thead>\n",
       "    <tr style=\"text-align: right;\">\n",
       "      <th></th>\n",
       "      <th>KS statistics</th>\n",
       "      <th>pvalue</th>\n",
       "      <th>RBPNet_model</th>\n",
       "      <th>category</th>\n",
       "      <th>annotation</th>\n",
       "    </tr>\n",
       "  </thead>\n",
       "  <tbody>\n",
       "    <tr>\n",
       "      <th>0</th>\n",
       "      <td>0.028681</td>\n",
       "      <td>6.832860e-01</td>\n",
       "      <td>DDX41_K562_5081</td>\n",
       "      <td>&lt;-0.1</td>\n",
       "      <td>UTR5</td>\n",
       "    </tr>\n",
       "    <tr>\n",
       "      <th>1</th>\n",
       "      <td>0.034531</td>\n",
       "      <td>7.661756e-01</td>\n",
       "      <td>DDX41_K562_5081</td>\n",
       "      <td>&gt;0.1</td>\n",
       "      <td>UTR5</td>\n",
       "    </tr>\n",
       "    <tr>\n",
       "      <th>2</th>\n",
       "      <td>0.046089</td>\n",
       "      <td>1.816721e-28</td>\n",
       "      <td>DDX41_K562_5081</td>\n",
       "      <td>&lt;-0.1</td>\n",
       "      <td>CDS</td>\n",
       "    </tr>\n",
       "    <tr>\n",
       "      <th>3</th>\n",
       "      <td>0.029865</td>\n",
       "      <td>1.954611e-02</td>\n",
       "      <td>DDX41_K562_5081</td>\n",
       "      <td>&gt;0.1</td>\n",
       "      <td>CDS</td>\n",
       "    </tr>\n",
       "    <tr>\n",
       "      <th>4</th>\n",
       "      <td>0.186890</td>\n",
       "      <td>5.382955e-08</td>\n",
       "      <td>DDX41_K562_5081</td>\n",
       "      <td>&lt;-0.1</td>\n",
       "      <td>UTR3</td>\n",
       "    </tr>\n",
       "    <tr>\n",
       "      <th>...</th>\n",
       "      <td>...</td>\n",
       "      <td>...</td>\n",
       "      <td>...</td>\n",
       "      <td>...</td>\n",
       "      <td>...</td>\n",
       "    </tr>\n",
       "    <tr>\n",
       "      <th>1033</th>\n",
       "      <td>0.061878</td>\n",
       "      <td>1.189826e-01</td>\n",
       "      <td>ZNF800_K562_ENCSR586DGV</td>\n",
       "      <td>&gt;0.1</td>\n",
       "      <td>UTR5</td>\n",
       "    </tr>\n",
       "    <tr>\n",
       "      <th>1034</th>\n",
       "      <td>0.132168</td>\n",
       "      <td>9.502480e-232</td>\n",
       "      <td>ZNF800_K562_ENCSR586DGV</td>\n",
       "      <td>&lt;-0.1</td>\n",
       "      <td>CDS</td>\n",
       "    </tr>\n",
       "    <tr>\n",
       "      <th>1035</th>\n",
       "      <td>0.030986</td>\n",
       "      <td>1.372807e-02</td>\n",
       "      <td>ZNF800_K562_ENCSR586DGV</td>\n",
       "      <td>&gt;0.1</td>\n",
       "      <td>CDS</td>\n",
       "    </tr>\n",
       "    <tr>\n",
       "      <th>1036</th>\n",
       "      <td>0.084030</td>\n",
       "      <td>5.846302e-02</td>\n",
       "      <td>ZNF800_K562_ENCSR586DGV</td>\n",
       "      <td>&lt;-0.1</td>\n",
       "      <td>UTR3</td>\n",
       "    </tr>\n",
       "    <tr>\n",
       "      <th>1037</th>\n",
       "      <td>0.138689</td>\n",
       "      <td>1.925290e-02</td>\n",
       "      <td>ZNF800_K562_ENCSR586DGV</td>\n",
       "      <td>&gt;0.1</td>\n",
       "      <td>UTR3</td>\n",
       "    </tr>\n",
       "  </tbody>\n",
       "</table>\n",
       "<p>1038 rows × 5 columns</p>\n",
       "</div>"
      ],
      "text/plain": [
       "      KS statistics         pvalue             RBPNet_model category  \\\n",
       "0          0.028681   6.832860e-01          DDX41_K562_5081    <-0.1   \n",
       "1          0.034531   7.661756e-01          DDX41_K562_5081     >0.1   \n",
       "2          0.046089   1.816721e-28          DDX41_K562_5081    <-0.1   \n",
       "3          0.029865   1.954611e-02          DDX41_K562_5081     >0.1   \n",
       "4          0.186890   5.382955e-08          DDX41_K562_5081    <-0.1   \n",
       "...             ...            ...                      ...      ...   \n",
       "1033       0.061878   1.189826e-01  ZNF800_K562_ENCSR586DGV     >0.1   \n",
       "1034       0.132168  9.502480e-232  ZNF800_K562_ENCSR586DGV    <-0.1   \n",
       "1035       0.030986   1.372807e-02  ZNF800_K562_ENCSR586DGV     >0.1   \n",
       "1036       0.084030   5.846302e-02  ZNF800_K562_ENCSR586DGV    <-0.1   \n",
       "1037       0.138689   1.925290e-02  ZNF800_K562_ENCSR586DGV     >0.1   \n",
       "\n",
       "     annotation  \n",
       "0          UTR5  \n",
       "1          UTR5  \n",
       "2           CDS  \n",
       "3           CDS  \n",
       "4          UTR3  \n",
       "...         ...  \n",
       "1033       UTR5  \n",
       "1034        CDS  \n",
       "1035        CDS  \n",
       "1036       UTR3  \n",
       "1037       UTR3  \n",
       "\n",
       "[1038 rows x 5 columns]"
      ]
     },
     "execution_count": 11,
     "metadata": {},
     "output_type": "execute_result"
    }
   ],
   "source": [
    "stat"
   ]
  },
  {
   "cell_type": "code",
   "execution_count": 12,
   "id": "c00ded7a-66dc-447b-b49f-1a91258ae01a",
   "metadata": {},
   "outputs": [
    {
     "data": {
      "text/html": [
       "<div>\n",
       "<style scoped>\n",
       "    .dataframe tbody tr th:only-of-type {\n",
       "        vertical-align: middle;\n",
       "    }\n",
       "\n",
       "    .dataframe tbody tr th {\n",
       "        vertical-align: top;\n",
       "    }\n",
       "\n",
       "    .dataframe thead th {\n",
       "        text-align: right;\n",
       "    }\n",
       "</style>\n",
       "<table border=\"1\" class=\"dataframe\">\n",
       "  <thead>\n",
       "    <tr style=\"text-align: right;\">\n",
       "      <th></th>\n",
       "      <th>KS statistics</th>\n",
       "      <th>pvalue</th>\n",
       "      <th>RBPNet_model</th>\n",
       "      <th>category</th>\n",
       "      <th>annotation</th>\n",
       "    </tr>\n",
       "  </thead>\n",
       "  <tbody>\n",
       "    <tr>\n",
       "      <th>518</th>\n",
       "      <td>0.276152</td>\n",
       "      <td>0.000000</td>\n",
       "      <td>SFPQ_HepG2_ENCSR965DLL</td>\n",
       "      <td>&lt;-0.1</td>\n",
       "      <td>CDS</td>\n",
       "    </tr>\n",
       "    <tr>\n",
       "      <th>824</th>\n",
       "      <td>0.238017</td>\n",
       "      <td>0.000000</td>\n",
       "      <td>PTBP1_K562_ENCSR981WKN</td>\n",
       "      <td>&lt;-0.1</td>\n",
       "      <td>CDS</td>\n",
       "    </tr>\n",
       "    <tr>\n",
       "      <th>338</th>\n",
       "      <td>0.337973</td>\n",
       "      <td>0.000000</td>\n",
       "      <td>NONO_K562_4001</td>\n",
       "      <td>&lt;-0.1</td>\n",
       "      <td>CDS</td>\n",
       "    </tr>\n",
       "    <tr>\n",
       "      <th>980</th>\n",
       "      <td>0.189231</td>\n",
       "      <td>0.000000</td>\n",
       "      <td>GTF2F1_HepG2_ENCSR265ZIS</td>\n",
       "      <td>&lt;-0.1</td>\n",
       "      <td>CDS</td>\n",
       "    </tr>\n",
       "    <tr>\n",
       "      <th>104</th>\n",
       "      <td>0.263543</td>\n",
       "      <td>0.000000</td>\n",
       "      <td>PRPF39_HepG2_4149</td>\n",
       "      <td>&lt;-0.1</td>\n",
       "      <td>CDS</td>\n",
       "    </tr>\n",
       "    <tr>\n",
       "      <th>...</th>\n",
       "      <td>...</td>\n",
       "      <td>...</td>\n",
       "      <td>...</td>\n",
       "      <td>...</td>\n",
       "      <td>...</td>\n",
       "    </tr>\n",
       "    <tr>\n",
       "      <th>967</th>\n",
       "      <td>0.028519</td>\n",
       "      <td>0.921011</td>\n",
       "      <td>NONO_HepG2_4084</td>\n",
       "      <td>&gt;0.1</td>\n",
       "      <td>UTR5</td>\n",
       "    </tr>\n",
       "    <tr>\n",
       "      <th>31</th>\n",
       "      <td>0.028510</td>\n",
       "      <td>0.921193</td>\n",
       "      <td>PRK2_K562_5064</td>\n",
       "      <td>&gt;0.1</td>\n",
       "      <td>UTR5</td>\n",
       "    </tr>\n",
       "    <tr>\n",
       "      <th>858</th>\n",
       "      <td>0.020811</td>\n",
       "      <td>0.948288</td>\n",
       "      <td>SF3B4_K562_ENCSR267OLV</td>\n",
       "      <td>&lt;-0.1</td>\n",
       "      <td>UTR5</td>\n",
       "    </tr>\n",
       "    <tr>\n",
       "      <th>288</th>\n",
       "      <td>0.020661</td>\n",
       "      <td>0.951202</td>\n",
       "      <td>PDCD4_K562_5075</td>\n",
       "      <td>&lt;-0.1</td>\n",
       "      <td>UTR5</td>\n",
       "    </tr>\n",
       "    <tr>\n",
       "      <th>378</th>\n",
       "      <td>0.018373</td>\n",
       "      <td>0.983476</td>\n",
       "      <td>AKAP8L_K562_ENCSR206RXT</td>\n",
       "      <td>&lt;-0.1</td>\n",
       "      <td>UTR5</td>\n",
       "    </tr>\n",
       "  </tbody>\n",
       "</table>\n",
       "<p>1038 rows × 5 columns</p>\n",
       "</div>"
      ],
      "text/plain": [
       "     KS statistics    pvalue              RBPNet_model category annotation\n",
       "518       0.276152  0.000000    SFPQ_HepG2_ENCSR965DLL    <-0.1        CDS\n",
       "824       0.238017  0.000000    PTBP1_K562_ENCSR981WKN    <-0.1        CDS\n",
       "338       0.337973  0.000000            NONO_K562_4001    <-0.1        CDS\n",
       "980       0.189231  0.000000  GTF2F1_HepG2_ENCSR265ZIS    <-0.1        CDS\n",
       "104       0.263543  0.000000         PRPF39_HepG2_4149    <-0.1        CDS\n",
       "..             ...       ...                       ...      ...        ...\n",
       "967       0.028519  0.921011           NONO_HepG2_4084     >0.1       UTR5\n",
       "31        0.028510  0.921193            PRK2_K562_5064     >0.1       UTR5\n",
       "858       0.020811  0.948288    SF3B4_K562_ENCSR267OLV    <-0.1       UTR5\n",
       "288       0.020661  0.951202           PDCD4_K562_5075    <-0.1       UTR5\n",
       "378       0.018373  0.983476   AKAP8L_K562_ENCSR206RXT    <-0.1       UTR5\n",
       "\n",
       "[1038 rows x 5 columns]"
      ]
     },
     "execution_count": 12,
     "metadata": {},
     "output_type": "execute_result"
    }
   ],
   "source": [
    "stat.sort_values(by = 'pvalue')"
   ]
  },
  {
   "cell_type": "code",
   "execution_count": 13,
   "id": "b3a2dc25-b4c7-4f32-b8c1-95cbd8a923c4",
   "metadata": {},
   "outputs": [
    {
     "data": {
      "text/html": [
       "<div>\n",
       "<style scoped>\n",
       "    .dataframe tbody tr th:only-of-type {\n",
       "        vertical-align: middle;\n",
       "    }\n",
       "\n",
       "    .dataframe tbody tr th {\n",
       "        vertical-align: top;\n",
       "    }\n",
       "\n",
       "    .dataframe thead th {\n",
       "        text-align: right;\n",
       "    }\n",
       "</style>\n",
       "<table border=\"1\" class=\"dataframe\">\n",
       "  <thead>\n",
       "    <tr style=\"text-align: right;\">\n",
       "      <th></th>\n",
       "      <th>KS statistics</th>\n",
       "      <th>pvalue</th>\n",
       "      <th>RBPNet_model</th>\n",
       "      <th>category</th>\n",
       "      <th>annotation</th>\n",
       "    </tr>\n",
       "  </thead>\n",
       "  <tbody>\n",
       "    <tr>\n",
       "      <th>0</th>\n",
       "      <td>0.028681</td>\n",
       "      <td>6.832860e-01</td>\n",
       "      <td>DDX41_K562_5081</td>\n",
       "      <td>&lt;-0.1</td>\n",
       "      <td>UTR5</td>\n",
       "    </tr>\n",
       "    <tr>\n",
       "      <th>1</th>\n",
       "      <td>0.034531</td>\n",
       "      <td>7.661756e-01</td>\n",
       "      <td>DDX41_K562_5081</td>\n",
       "      <td>&gt;0.1</td>\n",
       "      <td>UTR5</td>\n",
       "    </tr>\n",
       "    <tr>\n",
       "      <th>2</th>\n",
       "      <td>0.046089</td>\n",
       "      <td>1.816721e-28</td>\n",
       "      <td>DDX41_K562_5081</td>\n",
       "      <td>&lt;-0.1</td>\n",
       "      <td>CDS</td>\n",
       "    </tr>\n",
       "    <tr>\n",
       "      <th>3</th>\n",
       "      <td>0.029865</td>\n",
       "      <td>1.954611e-02</td>\n",
       "      <td>DDX41_K562_5081</td>\n",
       "      <td>&gt;0.1</td>\n",
       "      <td>CDS</td>\n",
       "    </tr>\n",
       "    <tr>\n",
       "      <th>4</th>\n",
       "      <td>0.186890</td>\n",
       "      <td>5.382955e-08</td>\n",
       "      <td>DDX41_K562_5081</td>\n",
       "      <td>&lt;-0.1</td>\n",
       "      <td>UTR3</td>\n",
       "    </tr>\n",
       "    <tr>\n",
       "      <th>...</th>\n",
       "      <td>...</td>\n",
       "      <td>...</td>\n",
       "      <td>...</td>\n",
       "      <td>...</td>\n",
       "      <td>...</td>\n",
       "    </tr>\n",
       "    <tr>\n",
       "      <th>1033</th>\n",
       "      <td>0.061878</td>\n",
       "      <td>1.189826e-01</td>\n",
       "      <td>ZNF800_K562_ENCSR586DGV</td>\n",
       "      <td>&gt;0.1</td>\n",
       "      <td>UTR5</td>\n",
       "    </tr>\n",
       "    <tr>\n",
       "      <th>1034</th>\n",
       "      <td>0.132168</td>\n",
       "      <td>9.502480e-232</td>\n",
       "      <td>ZNF800_K562_ENCSR586DGV</td>\n",
       "      <td>&lt;-0.1</td>\n",
       "      <td>CDS</td>\n",
       "    </tr>\n",
       "    <tr>\n",
       "      <th>1035</th>\n",
       "      <td>0.030986</td>\n",
       "      <td>1.372807e-02</td>\n",
       "      <td>ZNF800_K562_ENCSR586DGV</td>\n",
       "      <td>&gt;0.1</td>\n",
       "      <td>CDS</td>\n",
       "    </tr>\n",
       "    <tr>\n",
       "      <th>1036</th>\n",
       "      <td>0.084030</td>\n",
       "      <td>5.846302e-02</td>\n",
       "      <td>ZNF800_K562_ENCSR586DGV</td>\n",
       "      <td>&lt;-0.1</td>\n",
       "      <td>UTR3</td>\n",
       "    </tr>\n",
       "    <tr>\n",
       "      <th>1037</th>\n",
       "      <td>0.138689</td>\n",
       "      <td>1.925290e-02</td>\n",
       "      <td>ZNF800_K562_ENCSR586DGV</td>\n",
       "      <td>&gt;0.1</td>\n",
       "      <td>UTR3</td>\n",
       "    </tr>\n",
       "  </tbody>\n",
       "</table>\n",
       "<p>1038 rows × 5 columns</p>\n",
       "</div>"
      ],
      "text/plain": [
       "      KS statistics         pvalue             RBPNet_model category  \\\n",
       "0          0.028681   6.832860e-01          DDX41_K562_5081    <-0.1   \n",
       "1          0.034531   7.661756e-01          DDX41_K562_5081     >0.1   \n",
       "2          0.046089   1.816721e-28          DDX41_K562_5081    <-0.1   \n",
       "3          0.029865   1.954611e-02          DDX41_K562_5081     >0.1   \n",
       "4          0.186890   5.382955e-08          DDX41_K562_5081    <-0.1   \n",
       "...             ...            ...                      ...      ...   \n",
       "1033       0.061878   1.189826e-01  ZNF800_K562_ENCSR586DGV     >0.1   \n",
       "1034       0.132168  9.502480e-232  ZNF800_K562_ENCSR586DGV    <-0.1   \n",
       "1035       0.030986   1.372807e-02  ZNF800_K562_ENCSR586DGV     >0.1   \n",
       "1036       0.084030   5.846302e-02  ZNF800_K562_ENCSR586DGV    <-0.1   \n",
       "1037       0.138689   1.925290e-02  ZNF800_K562_ENCSR586DGV     >0.1   \n",
       "\n",
       "     annotation  \n",
       "0          UTR5  \n",
       "1          UTR5  \n",
       "2           CDS  \n",
       "3           CDS  \n",
       "4          UTR3  \n",
       "...         ...  \n",
       "1033       UTR5  \n",
       "1034        CDS  \n",
       "1035        CDS  \n",
       "1036       UTR3  \n",
       "1037       UTR3  \n",
       "\n",
       "[1038 rows x 5 columns]"
      ]
     },
     "execution_count": 13,
     "metadata": {},
     "output_type": "execute_result"
    }
   ],
   "source": [
    "stat"
   ]
  },
  {
   "cell_type": "code",
   "execution_count": 14,
   "id": "a1eb2869-baa8-497e-a3b6-bd0f92c988c1",
   "metadata": {},
   "outputs": [],
   "source": [
    "#https://www.syngoportal.org/gene_hgnc10774\n",
    "#SynpatomeDB, synsysnet, integrated synapse proteome"
   ]
  },
  {
   "cell_type": "code",
   "execution_count": 15,
   "id": "25f24799-71a7-4ed3-ad0b-18ce920ce104",
   "metadata": {},
   "outputs": [
    {
     "data": {
      "text/plain": [
       "<AxesSubplot:>"
      ]
     },
     "execution_count": 15,
     "metadata": {},
     "output_type": "execute_result"
    },
    {
     "data": {
      "image/png": "[encoded data removed]",
      "text/plain": [
       "<Figure size 432x288 with 1 Axes>"
      ]
     },
     "metadata": {},
     "output_type": "display_data"
    }
   ],
   "source": [
    "stat['pvalue'].hist()"
   ]
  },
  {
   "cell_type": "code",
   "execution_count": 16,
   "id": "3be79722-9163-49ee-baf8-e53571a9c48d",
   "metadata": {},
   "outputs": [
    {
     "data": {
      "text/plain": [
       "<AxesSubplot:xlabel='ZNF800_K562_ENCSR586DGV', ylabel='difference'>"
      ]
     },
     "execution_count": 16,
     "metadata": {},
     "output_type": "execute_result"
    },
    {
     "data": {
      "image/png": "[encoded data removed]",
      "text/plain": [
       "<Figure size 432x288 with 1 Axes>"
      ]
     },
     "metadata": {},
     "output_type": "display_data"
    }
   ],
   "source": [
    "data.plot.scatter(x = name, y = 'difference', alpha = 0.01)"
   ]
  }
 ],
 "metadata": {
  "kernelspec": {
   "display_name": "my_metadensity",
   "language": "python",
   "name": "my_metadensity"
  },
  "language_info": {
   "codemirror_mode": {
    "name": "ipython",
    "version": 3
   },
   "file_extension": ".py",
   "mimetype": "text/x-python",
   "name": "python",
   "nbconvert_exporter": "python",
   "pygments_lexer": "ipython3",
   "version": "3.7.12"
  }
 },
 "nbformat": 4,
 "nbformat_minor": 5
}
