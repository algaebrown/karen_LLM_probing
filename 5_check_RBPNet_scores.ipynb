{
 "cells": [
  {
   "cell_type": "code",
   "execution_count": 1,
   "id": "c953aaba-a9b0-42e0-b7db-9a800bc5aee8",
   "metadata": {
    "execution": {
     "iopub.execute_input": "2025-02-08T18:19:07.703420Z",
     "iopub.status.busy": "2025-02-08T18:19:07.702747Z",
     "iopub.status.idle": "2025-02-08T18:19:10.965264Z",
     "shell.execute_reply": "2025-02-08T18:19:10.964429Z",
     "shell.execute_reply.started": "2025-02-08T18:19:07.703357Z"
    }
   },
   "outputs": [],
   "source": [
    "import pandas as pd\n",
    "df = pd.read_csv('/tscc/nfs/home/hsher/ps-yeolab5/karen_data/eclip_model_scores/output/RBFOX2_HepG2_ENCSR987FTF.score.csv',\n",
    "                index_col = 0)"
   ]
  },
  {
   "cell_type": "code",
   "execution_count": 2,
   "id": "cc5f8a57-0274-4af6-a393-247d93fb831f",
   "metadata": {
    "execution": {
     "iopub.execute_input": "2025-02-08T18:19:10.970459Z",
     "iopub.status.busy": "2025-02-08T18:19:10.969286Z",
     "iopub.status.idle": "2025-02-08T18:19:11.140491Z",
     "shell.execute_reply": "2025-02-08T18:19:11.138826Z",
     "shell.execute_reply.started": "2025-02-08T18:19:10.970436Z"
    }
   },
   "outputs": [
    {
     "name": "stdout",
     "output_type": "stream",
     "text": [
      "/tscc/nfs/home/hsher/ps-yeolab5/karen_data/eclip_model_scores/output/RBFOX2_HepG2_ENCSR987FTF.score.csv\n",
      "/tscc/nfs/home/hsher/ps-yeolab5/karen_data/eclip_model_scores/output/RBFOX2_K562_ENCSR756CKJ.score.csv\n",
      "/tscc/nfs/home/hsher/ps-yeolab5/karen_data/eclip_model_scores/output/RBFOX3_HepG2_4023.score.csv\n",
      "/tscc/nfs/home/hsher/ps-yeolab5/karen_data/eclip_model_scores/output/RBFOX3_K562_4008.score.csv\n"
     ]
    }
   ],
   "source": [
    "!ls /tscc/nfs/home/hsher/ps-yeolab5/karen_data/eclip_model_scores/output/RBFOX*"
   ]
  },
  {
   "cell_type": "code",
   "execution_count": 3,
   "id": "871e9c75-879d-43f9-bae1-69c487366ef3",
   "metadata": {
    "execution": {
     "iopub.execute_input": "2025-02-08T18:19:11.143145Z",
     "iopub.status.busy": "2025-02-08T18:19:11.142545Z",
     "iopub.status.idle": "2025-02-08T18:19:12.488674Z",
     "shell.execute_reply": "2025-02-08T18:19:12.488215Z",
     "shell.execute_reply.started": "2025-02-08T18:19:11.143084Z"
    }
   },
   "outputs": [
    {
     "data": {
      "text/plain": [
       "<Axes: >"
      ]
     },
     "execution_count": 3,
     "metadata": {},
     "output_type": "execute_result"
    },
    {
     "data": {
      "image/png": "[encoded data removed]",
      "text/plain": [
       "<Figure size 640x480 with 1 Axes>"
      ]
     },
     "metadata": {},
     "output_type": "display_data"
    }
   ],
   "source": [
    "df['dlogodds_pred'].hist(bins = 100)"
   ]
  },
  {
   "cell_type": "code",
   "execution_count": 4,
   "id": "303135be-494d-4a74-a756-657f4278e13e",
   "metadata": {
    "execution": {
     "iopub.execute_input": "2025-02-08T18:19:14.871028Z",
     "iopub.status.busy": "2025-02-08T18:19:14.867150Z",
     "iopub.status.idle": "2025-02-08T18:19:14.890292Z",
     "shell.execute_reply": "2025-02-08T18:19:14.889786Z",
     "shell.execute_reply.started": "2025-02-08T18:19:14.870978Z"
    }
   },
   "outputs": [
    {
     "data": {
      "text/plain": [
       "5406615"
      ]
     },
     "execution_count": 4,
     "metadata": {},
     "output_type": "execute_result"
    }
   ],
   "source": [
    "df['dlogodds_pred'].idxmax()"
   ]
  },
  {
   "cell_type": "code",
   "execution_count": 5,
   "id": "26ad7f96-b9e0-4d1c-ac05-ce4b8bdccc3c",
   "metadata": {
    "execution": {
     "iopub.execute_input": "2025-02-08T18:19:18.390208Z",
     "iopub.status.busy": "2025-02-08T18:19:18.389552Z",
     "iopub.status.idle": "2025-02-08T18:19:28.563723Z",
     "shell.execute_reply": "2025-02-08T18:19:28.563013Z",
     "shell.execute_reply.started": "2025-02-08T18:19:18.390148Z"
    }
   },
   "outputs": [],
   "source": [
    "from plot_params import *\n",
    "import pandas as pd\n",
    "data=pd.read_csv(outdir / 'Mouse_annotated.csv.gz')"
   ]
  },
  {
   "cell_type": "code",
   "execution_count": 6,
   "id": "121552dc-eec4-44c0-84a0-092513a54c69",
   "metadata": {
    "execution": {
     "iopub.execute_input": "2025-02-08T18:19:28.567427Z",
     "iopub.status.busy": "2025-02-08T18:19:28.566321Z",
     "iopub.status.idle": "2025-02-08T18:19:28.584701Z",
     "shell.execute_reply": "2025-02-08T18:19:28.584315Z",
     "shell.execute_reply.started": "2025-02-08T18:19:28.567404Z"
    }
   },
   "outputs": [
    {
     "data": {
      "text/plain": [
       "Unnamed: 0                                     5406615\n",
       "transcript_id                       ENSMUST00000223633\n",
       "deletion_index_start                               285\n",
       "deletion_index_end                                 315\n",
       "difference                                    0.001465\n",
       "synapse_probability                           0.039307\n",
       "start_annotation                                   CDS\n",
       "end_annotation                                     CDS\n",
       "subseq                  ATTGCATGCTGGGAGACGGGGAGGTCTCCG\n",
       "Name: 5406615, dtype: object"
      ]
     },
     "execution_count": 6,
     "metadata": {},
     "output_type": "execute_result"
    }
   ],
   "source": [
    "data.loc[df['dlogodds_pred'].idxmax()]"
   ]
  },
  {
   "cell_type": "code",
   "execution_count": 7,
   "id": "5a8b0681-5885-4020-903e-d278eb2235f6",
   "metadata": {
    "execution": {
     "iopub.execute_input": "2025-02-08T18:19:28.587160Z",
     "iopub.status.busy": "2025-02-08T18:19:28.586273Z",
     "iopub.status.idle": "2025-02-08T18:19:28.600942Z",
     "shell.execute_reply": "2025-02-08T18:19:28.600519Z",
     "shell.execute_reply.started": "2025-02-08T18:19:28.587140Z"
    }
   },
   "outputs": [
    {
     "data": {
      "text/plain": [
       "Unnamed: 0                                      438641\n",
       "transcript_id                       ENSMUST00000023693\n",
       "deletion_index_start                              2820\n",
       "deletion_index_end                                2850\n",
       "difference                                   -0.003906\n",
       "synapse_probability                           0.941406\n",
       "start_annotation                                  UTR3\n",
       "end_annotation                                    UTR3\n",
       "subseq                  GACACCCCCCCCCAAAAAAAAAAAAAAAAA\n",
       "Name: 438641, dtype: object"
      ]
     },
     "execution_count": 7,
     "metadata": {},
     "output_type": "execute_result"
    }
   ],
   "source": [
    "data.loc[df['dlogodds_pred'].idxmin()]"
   ]
  },
  {
   "cell_type": "code",
   "execution_count": 8,
   "id": "e9af8b56-b491-411e-b92b-44c174d74d38",
   "metadata": {
    "execution": {
     "iopub.execute_input": "2025-02-08T18:19:28.604040Z",
     "iopub.status.busy": "2025-02-08T18:19:28.602995Z",
     "iopub.status.idle": "2025-02-08T18:19:28.624592Z",
     "shell.execute_reply": "2025-02-08T18:19:28.624088Z",
     "shell.execute_reply.started": "2025-02-08T18:19:28.604019Z"
    }
   },
   "outputs": [
    {
     "data": {
      "text/plain": [
       "Unnamed: 0                                     5406615\n",
       "transcript_id                       ENSMUST00000223633\n",
       "deletion_index_start                               285\n",
       "deletion_index_end                                 315\n",
       "difference                                    0.001465\n",
       "synapse_probability                           0.039307\n",
       "start_annotation                                   CDS\n",
       "end_annotation                                     CDS\n",
       "subseq                  ATTGCATGCTGGGAGACGGGGAGGTCTCCG\n",
       "Name: 5406615, dtype: object"
      ]
     },
     "execution_count": 8,
     "metadata": {},
     "output_type": "execute_result"
    }
   ],
   "source": [
    "data.loc[5406615]"
   ]
  },
  {
   "cell_type": "code",
   "execution_count": 9,
   "id": "0631961c-4518-46dc-8af2-756e98c9e38d",
   "metadata": {
    "execution": {
     "iopub.execute_input": "2025-02-08T18:19:28.627846Z",
     "iopub.status.busy": "2025-02-08T18:19:28.626664Z",
     "iopub.status.idle": "2025-02-08T18:19:28.651577Z",
     "shell.execute_reply": "2025-02-08T18:19:28.651204Z",
     "shell.execute_reply.started": "2025-02-08T18:19:28.627821Z"
    }
   },
   "outputs": [
    {
     "data": {
      "text/html": [
       "<div>\n",
       "<style scoped>\n",
       "    .dataframe tbody tr th:only-of-type {\n",
       "        vertical-align: middle;\n",
       "    }\n",
       "\n",
       "    .dataframe tbody tr th {\n",
       "        vertical-align: top;\n",
       "    }\n",
       "\n",
       "    .dataframe thead th {\n",
       "        text-align: right;\n",
       "    }\n",
       "</style>\n",
       "<table border=\"1\" class=\"dataframe\">\n",
       "  <thead>\n",
       "    <tr style=\"text-align: right;\">\n",
       "      <th></th>\n",
       "      <th>dlogodds_pred</th>\n",
       "      <th>ID</th>\n",
       "    </tr>\n",
       "  </thead>\n",
       "  <tbody>\n",
       "    <tr>\n",
       "      <th>3548577</th>\n",
       "      <td>0.902939</td>\n",
       "      <td>3548577</td>\n",
       "    </tr>\n",
       "    <tr>\n",
       "      <th>5011800</th>\n",
       "      <td>0.903602</td>\n",
       "      <td>5011800</td>\n",
       "    </tr>\n",
       "    <tr>\n",
       "      <th>5406615</th>\n",
       "      <td>0.918709</td>\n",
       "      <td>5406615</td>\n",
       "    </tr>\n",
       "  </tbody>\n",
       "</table>\n",
       "</div>"
      ],
      "text/plain": [
       "         dlogodds_pred       ID\n",
       "3548577       0.902939  3548577\n",
       "5011800       0.903602  5011800\n",
       "5406615       0.918709  5406615"
      ]
     },
     "execution_count": 9,
     "metadata": {},
     "output_type": "execute_result"
    }
   ],
   "source": [
    "df.loc[df['dlogodds_pred']>0.9]"
   ]
  },
  {
   "cell_type": "code",
   "execution_count": null,
   "id": "1cda8336-eee4-4e87-9190-82e6153229f7",
   "metadata": {},
   "outputs": [],
   "source": []
  }
 ],
 "metadata": {
  "kernelspec": {
   "display_name": "Python 3 (ipykernel)",
   "language": "python",
   "name": "python3"
  },
  "language_info": {
   "codemirror_mode": {
    "name": "ipython",
    "version": 3
   },
   "file_extension": ".py",
   "mimetype": "text/x-python",
   "name": "python",
   "nbconvert_exporter": "python",
   "pygments_lexer": "ipython3",
   "version": "3.9.15"
  }
 },
 "nbformat": 4,
 "nbformat_minor": 5
}
