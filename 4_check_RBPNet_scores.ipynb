{
 "cells": [
  {
   "cell_type": "code",
   "execution_count": 1,
   "id": "c953aaba-a9b0-42e0-b7db-9a800bc5aee8",
   "metadata": {},
   "outputs": [],
   "source": [
    "import pandas as pd\n",
    "df = pd.read_csv('/tscc/nfs/home/hsher/ps-yeolab5/karen_data/eclip_model_scores/output/RBFOX2_HepG2_ENCSR987FTF.score.csv',\n",
    "                index_col = 0)"
   ]
  },
  {
   "cell_type": "code",
   "execution_count": 2,
   "id": "cc5f8a57-0274-4af6-a393-247d93fb831f",
   "metadata": {},
   "outputs": [
    {
     "name": "stdout",
     "output_type": "stream",
     "text": [
      "/tscc/nfs/home/hsher/ps-yeolab5/karen_data/eclip_model_scores/output/RBFOX2_HepG2_ENCSR987FTF.score.csv\n",
      "/tscc/nfs/home/hsher/ps-yeolab5/karen_data/eclip_model_scores/output/RBFOX2_K562_ENCSR756CKJ.score.csv\n",
      "/tscc/nfs/home/hsher/ps-yeolab5/karen_data/eclip_model_scores/output/RBFOX3_HepG2_4023.score.csv\n",
      "/tscc/nfs/home/hsher/ps-yeolab5/karen_data/eclip_model_scores/output/RBFOX3_K562_4008.score.csv\n"
     ]
    }
   ],
   "source": [
    "!ls /tscc/nfs/home/hsher/ps-yeolab5/karen_data/eclip_model_scores/output/RBFOX*"
   ]
  },
  {
   "cell_type": "code",
   "execution_count": 3,
   "id": "871e9c75-879d-43f9-bae1-69c487366ef3",
   "metadata": {},
   "outputs": [
    {
     "data": {
      "text/plain": [
       "<AxesSubplot:>"
      ]
     },
     "execution_count": 3,
     "metadata": {},
     "output_type": "execute_result"
    },
    {
     "data": {
      "image/png": "[encoded data removed]",
      "text/plain": [
       "<Figure size 432x288 with 1 Axes>"
      ]
     },
     "metadata": {
      "needs_background": "light"
     },
     "output_type": "display_data"
    }
   ],
   "source": [
    "df['dlogodds_pred'].hist(bins = 100)"
   ]
  },
  {
   "cell_type": "code",
   "execution_count": 4,
   "id": "303135be-494d-4a74-a756-657f4278e13e",
   "metadata": {},
   "outputs": [
    {
     "data": {
      "text/plain": [
       "5406615"
      ]
     },
     "execution_count": 4,
     "metadata": {},
     "output_type": "execute_result"
    }
   ],
   "source": [
    "df['dlogodds_pred'].idxmax()"
   ]
  },
  {
   "cell_type": "code",
   "execution_count": 5,
   "id": "26ad7f96-b9e0-4d1c-ac05-ce4b8bdccc3c",
   "metadata": {},
   "outputs": [],
   "source": [
    "from plot_params import *\n",
    "import pandas as pd\n",
    "data=pd.read_csv(outdir / 'Mouse_annotated.csv.gz')"
   ]
  },
  {
   "cell_type": "code",
   "execution_count": 6,
   "id": "121552dc-eec4-44c0-84a0-092513a54c69",
   "metadata": {},
   "outputs": [
    {
     "data": {
      "text/plain": [
       "Unnamed: 0                                     5406615\n",
       "transcript_id                       ENSMUST00000223633\n",
       "deletion_index_start                               285\n",
       "deletion_index_end                                 315\n",
       "difference                                    0.001465\n",
       "synapse_probability                           0.039307\n",
       "start_annotation                                   CDS\n",
       "end_annotation                                     CDS\n",
       "subseq                  ATTGCATGCTGGGAGACGGGGAGGTCTCCG\n",
       "Name: 5406615, dtype: object"
      ]
     },
     "execution_count": 6,
     "metadata": {},
     "output_type": "execute_result"
    }
   ],
   "source": [
    "data.loc[df['dlogodds_pred'].idxmax()]"
   ]
  },
  {
   "cell_type": "code",
   "execution_count": 7,
   "id": "5a8b0681-5885-4020-903e-d278eb2235f6",
   "metadata": {},
   "outputs": [
    {
     "data": {
      "text/plain": [
       "Unnamed: 0                                      438641\n",
       "transcript_id                       ENSMUST00000023693\n",
       "deletion_index_start                              2820\n",
       "deletion_index_end                                2850\n",
       "difference                                   -0.003906\n",
       "synapse_probability                           0.941406\n",
       "start_annotation                                  UTR3\n",
       "end_annotation                                    UTR3\n",
       "subseq                  GACACCCCCCCCCAAAAAAAAAAAAAAAAA\n",
       "Name: 438641, dtype: object"
      ]
     },
     "execution_count": 7,
     "metadata": {},
     "output_type": "execute_result"
    }
   ],
   "source": [
    "data.loc[df['dlogodds_pred'].idxmin()]"
   ]
  },
  {
   "cell_type": "code",
   "execution_count": 17,
   "id": "e9af8b56-b491-411e-b92b-44c174d74d38",
   "metadata": {},
   "outputs": [
    {
     "data": {
      "text/plain": [
       "Unnamed: 0                                     5406615\n",
       "transcript_id                       ENSMUST00000223633\n",
       "deletion_index_start                               285\n",
       "deletion_index_end                                 315\n",
       "difference                                    0.001465\n",
       "synapse_probability                           0.039307\n",
       "start_annotation                                   CDS\n",
       "end_annotation                                     CDS\n",
       "subseq                  ATTGCATGCTGGGAGACGGGGAGGTCTCCG\n",
       "Name: 5406615, dtype: object"
      ]
     },
     "execution_count": 17,
     "metadata": {},
     "output_type": "execute_result"
    }
   ],
   "source": [
    "data.loc[5406615]"
   ]
  },
  {
   "cell_type": "code",
   "execution_count": 14,
   "id": "0631961c-4518-46dc-8af2-756e98c9e38d",
   "metadata": {},
   "outputs": [
    {
     "data": {
      "text/html": [
       "<div>\n",
       "<style scoped>\n",
       "    .dataframe tbody tr th:only-of-type {\n",
       "        vertical-align: middle;\n",
       "    }\n",
       "\n",
       "    .dataframe tbody tr th {\n",
       "        vertical-align: top;\n",
       "    }\n",
       "\n",
       "    .dataframe thead th {\n",
       "        text-align: right;\n",
       "    }\n",
       "</style>\n",
       "<table border=\"1\" class=\"dataframe\">\n",
       "  <thead>\n",
       "    <tr style=\"text-align: right;\">\n",
       "      <th></th>\n",
       "      <th>dlogodds_pred</th>\n",
       "      <th>ID</th>\n",
       "    </tr>\n",
       "  </thead>\n",
       "  <tbody>\n",
       "    <tr>\n",
       "      <th>3548577</th>\n",
       "      <td>0.902939</td>\n",
       "      <td>3548577</td>\n",
       "    </tr>\n",
       "    <tr>\n",
       "      <th>5011800</th>\n",
       "      <td>0.903602</td>\n",
       "      <td>5011800</td>\n",
       "    </tr>\n",
       "    <tr>\n",
       "      <th>5406615</th>\n",
       "      <td>0.918709</td>\n",
       "      <td>5406615</td>\n",
       "    </tr>\n",
       "  </tbody>\n",
       "</table>\n",
       "</div>"
      ],
      "text/plain": [
       "         dlogodds_pred       ID\n",
       "3548577       0.902939  3548577\n",
       "5011800       0.903602  5011800\n",
       "5406615       0.918709  5406615"
      ]
     },
     "execution_count": 14,
     "metadata": {},
     "output_type": "execute_result"
    }
   ],
   "source": [
    "df.loc[df['dlogodds_pred']>0.9]"
   ]
  },
  {
   "cell_type": "code",
   "execution_count": null,
   "id": "1cda8336-eee4-4e87-9190-82e6153229f7",
   "metadata": {},
   "outputs": [],
   "source": []
  }
 ],
 "metadata": {
  "kernelspec": {
   "display_name": "my_metadensity",
   "language": "python",
   "name": "my_metadensity"
  },
  "language_info": {
   "codemirror_mode": {
    "name": "ipython",
    "version": 3
   },
   "file_extension": ".py",
   "mimetype": "text/x-python",
   "name": "python",
   "nbconvert_exporter": "python",
   "pygments_lexer": "ipython3",
   "version": "3.7.12"
  }
 },
 "nbformat": 4,
 "nbformat_minor": 5
}
