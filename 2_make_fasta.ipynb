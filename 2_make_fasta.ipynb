{
 "cells": [
  {
   "cell_type": "code",
   "execution_count": 1,
   "id": "57542151-cb42-4405-bab7-546d97d0cdc0",
   "metadata": {
    "execution": {
     "iopub.execute_input": "2025-01-16T21:55:10.982422Z",
     "iopub.status.busy": "2025-01-16T21:55:10.982143Z",
     "iopub.status.idle": "2025-01-16T21:55:25.678809Z",
     "shell.execute_reply": "2025-01-16T21:55:25.677925Z",
     "shell.execute_reply.started": "2025-01-16T21:55:10.982390Z"
    }
   },
   "outputs": [],
   "source": [
    "from plot_params import *\n",
    "import pandas as pd\n",
    "df=pd.read_csv(outdir / 'Mouse_annotated.csv.gz')"
   ]
  },
  {
   "cell_type": "code",
   "execution_count": 2,
   "id": "de35faf2-d07b-4cc0-87e0-b904fb330370",
   "metadata": {
    "execution": {
     "iopub.execute_input": "2025-01-16T21:55:25.682173Z",
     "iopub.status.busy": "2025-01-16T21:55:25.681207Z",
     "iopub.status.idle": "2025-01-16T21:55:26.529531Z",
     "shell.execute_reply": "2025-01-16T21:55:26.528813Z",
     "shell.execute_reply.started": "2025-01-16T21:55:25.682149Z"
    }
   },
   "outputs": [
    {
     "data": {
      "text/plain": [
       "30"
      ]
     },
     "execution_count": 2,
     "metadata": {},
     "output_type": "execute_result"
    }
   ],
   "source": [
    "df['subseq'].str.len().min()"
   ]
  },
  {
   "cell_type": "code",
   "execution_count": 3,
   "id": "673d12d0-c891-496b-a171-40d791ac911b",
   "metadata": {
    "execution": {
     "iopub.execute_input": "2025-01-16T21:55:26.531865Z",
     "iopub.status.busy": "2025-01-16T21:55:26.531020Z",
     "iopub.status.idle": "2025-01-16T21:55:27.327987Z",
     "shell.execute_reply": "2025-01-16T21:55:27.327628Z",
     "shell.execute_reply.started": "2025-01-16T21:55:26.531847Z"
    }
   },
   "outputs": [
    {
     "data": {
      "text/plain": [
       "30"
      ]
     },
     "execution_count": 3,
     "metadata": {},
     "output_type": "execute_result"
    }
   ],
   "source": [
    "df['subseq'].str.len().max()"
   ]
  },
  {
   "cell_type": "code",
   "execution_count": 4,
   "id": "80d07450-85a1-43a7-9c66-0b4787c0cc46",
   "metadata": {
    "execution": {
     "iopub.execute_input": "2025-01-16T21:55:27.330719Z",
     "iopub.status.busy": "2025-01-16T21:55:27.329852Z",
     "iopub.status.idle": "2025-01-16T21:55:27.347386Z",
     "shell.execute_reply": "2025-01-16T21:55:27.346345Z",
     "shell.execute_reply.started": "2025-01-16T21:55:27.330701Z"
    }
   },
   "outputs": [
    {
     "data": {
      "text/html": [
       "<div>\n",
       "<style scoped>\n",
       "    .dataframe tbody tr th:only-of-type {\n",
       "        vertical-align: middle;\n",
       "    }\n",
       "\n",
       "    .dataframe tbody tr th {\n",
       "        vertical-align: top;\n",
       "    }\n",
       "\n",
       "    .dataframe thead th {\n",
       "        text-align: right;\n",
       "    }\n",
       "</style>\n",
       "<table border=\"1\" class=\"dataframe\">\n",
       "  <thead>\n",
       "    <tr style=\"text-align: right;\">\n",
       "      <th></th>\n",
       "      <th>Unnamed: 0</th>\n",
       "      <th>transcript_id</th>\n",
       "      <th>deletion_index_start</th>\n",
       "      <th>deletion_index_end</th>\n",
       "      <th>difference</th>\n",
       "      <th>synapse_probability</th>\n",
       "      <th>start_annotation</th>\n",
       "      <th>end_annotation</th>\n",
       "      <th>subseq</th>\n",
       "    </tr>\n",
       "  </thead>\n",
       "  <tbody>\n",
       "    <tr>\n",
       "      <th>0</th>\n",
       "      <td>0</td>\n",
       "      <td>ENSMUST00000000001</td>\n",
       "      <td>0</td>\n",
       "      <td>30</td>\n",
       "      <td>0.001099</td>\n",
       "      <td>0.030640</td>\n",
       "      <td>UTR5</td>\n",
       "      <td>UTR5</td>\n",
       "      <td>CACACATCCGGTTCTTCCGGGAGCTAGGGG</td>\n",
       "    </tr>\n",
       "    <tr>\n",
       "      <th>1</th>\n",
       "      <td>1</td>\n",
       "      <td>ENSMUST00000000001</td>\n",
       "      <td>15</td>\n",
       "      <td>45</td>\n",
       "      <td>0.001587</td>\n",
       "      <td>0.031128</td>\n",
       "      <td>UTR5</td>\n",
       "      <td>UTR5</td>\n",
       "      <td>TCCGGGAGCTAGGGGAGCTGACGGAGAAGG</td>\n",
       "    </tr>\n",
       "    <tr>\n",
       "      <th>2</th>\n",
       "      <td>2</td>\n",
       "      <td>ENSMUST00000000001</td>\n",
       "      <td>30</td>\n",
       "      <td>60</td>\n",
       "      <td>-0.001343</td>\n",
       "      <td>0.028198</td>\n",
       "      <td>UTR5</td>\n",
       "      <td>UTR5</td>\n",
       "      <td>AGCTGACGGAGAAGGCCACCGCCCAGCAGA</td>\n",
       "    </tr>\n",
       "    <tr>\n",
       "      <th>3</th>\n",
       "      <td>3</td>\n",
       "      <td>ENSMUST00000000001</td>\n",
       "      <td>45</td>\n",
       "      <td>75</td>\n",
       "      <td>-0.001099</td>\n",
       "      <td>0.028442</td>\n",
       "      <td>UTR5</td>\n",
       "      <td>UTR5</td>\n",
       "      <td>CCACCGCCCAGCAGAAGACCCGTCTCCGCC</td>\n",
       "    </tr>\n",
       "    <tr>\n",
       "      <th>4</th>\n",
       "      <td>4</td>\n",
       "      <td>ENSMUST00000000001</td>\n",
       "      <td>60</td>\n",
       "      <td>90</td>\n",
       "      <td>0.002197</td>\n",
       "      <td>0.031738</td>\n",
       "      <td>UTR5</td>\n",
       "      <td>UTR5</td>\n",
       "      <td>AGACCCGTCTCCGCCGGTGTGTGGCGATTC</td>\n",
       "    </tr>\n",
       "  </tbody>\n",
       "</table>\n",
       "</div>"
      ],
      "text/plain": [
       "   Unnamed: 0       transcript_id  deletion_index_start  deletion_index_end  \\\n",
       "0           0  ENSMUST00000000001                     0                  30   \n",
       "1           1  ENSMUST00000000001                    15                  45   \n",
       "2           2  ENSMUST00000000001                    30                  60   \n",
       "3           3  ENSMUST00000000001                    45                  75   \n",
       "4           4  ENSMUST00000000001                    60                  90   \n",
       "\n",
       "   difference  synapse_probability start_annotation end_annotation  \\\n",
       "0    0.001099             0.030640             UTR5           UTR5   \n",
       "1    0.001587             0.031128             UTR5           UTR5   \n",
       "2   -0.001343             0.028198             UTR5           UTR5   \n",
       "3   -0.001099             0.028442             UTR5           UTR5   \n",
       "4    0.002197             0.031738             UTR5           UTR5   \n",
       "\n",
       "                           subseq  \n",
       "0  CACACATCCGGTTCTTCCGGGAGCTAGGGG  \n",
       "1  TCCGGGAGCTAGGGGAGCTGACGGAGAAGG  \n",
       "2  AGCTGACGGAGAAGGCCACCGCCCAGCAGA  \n",
       "3  CCACCGCCCAGCAGAAGACCCGTCTCCGCC  \n",
       "4  AGACCCGTCTCCGCCGGTGTGTGGCGATTC  "
      ]
     },
     "execution_count": 4,
     "metadata": {},
     "output_type": "execute_result"
    }
   ],
   "source": [
    "df.head()"
   ]
  },
  {
   "cell_type": "code",
   "execution_count": 5,
   "id": "aff8f5ba-b12e-40d1-b46f-03125a0027ce",
   "metadata": {
    "execution": {
     "iopub.execute_input": "2025-01-16T21:55:27.357125Z",
     "iopub.status.busy": "2025-01-16T21:55:27.356331Z",
     "iopub.status.idle": "2025-01-16T21:55:27.762992Z",
     "shell.execute_reply": "2025-01-16T21:55:27.761629Z",
     "shell.execute_reply.started": "2025-01-16T21:55:27.357108Z"
    }
   },
   "outputs": [],
   "source": [
    "from Bio.SeqRecord import SeqRecord\n",
    "from Bio import SeqIO\n",
    "from Bio.Seq import Seq\n",
    "def df2fasta(df, fname, col='subseq', id='Unnamed: 0'):\n",
    "    \n",
    "    \n",
    "    sequences = []\n",
    "    for index, row in df.iterrows():\n",
    "        sequences.append(SeqRecord(Seq(row[col]), str(row[id]), \"\", \"\"))\n",
    "    with open(fname, \"w\") as output_handle:\n",
    "        SeqIO.write(sequences, output_handle, \"fasta\")\n"
   ]
  },
  {
   "cell_type": "code",
   "execution_count": 6,
   "id": "3d7588d1-1b10-47ad-805f-ffe3302fc508",
   "metadata": {
    "execution": {
     "iopub.execute_input": "2025-01-16T21:55:27.769650Z",
     "iopub.status.busy": "2025-01-16T21:55:27.767113Z",
     "iopub.status.idle": "2025-01-16T21:59:23.300629Z",
     "shell.execute_reply": "2025-01-16T21:59:23.300179Z",
     "shell.execute_reply.started": "2025-01-16T21:55:27.769600Z"
    }
   },
   "outputs": [],
   "source": [
    "df2fasta(df, outdir / 'all.fa')"
   ]
  },
  {
   "cell_type": "code",
   "execution_count": 7,
   "id": "2b0800ae-a2a5-468e-986f-072ad134eb55",
   "metadata": {
    "execution": {
     "iopub.execute_input": "2025-01-16T21:59:23.304011Z",
     "iopub.status.busy": "2025-01-16T21:59:23.303078Z",
     "iopub.status.idle": "2025-01-16T21:59:55.885606Z",
     "shell.execute_reply": "2025-01-16T21:59:55.885024Z",
     "shell.execute_reply.started": "2025-01-16T21:59:23.303990Z"
    }
   },
   "outputs": [],
   "source": [
    "df['annotation']=df.apply(\n",
    "    lambda row: 'UTR5' if row['start_annotation']=='UTR5' and row['end_annotation']=='UTR5' else\n",
    "     'UTR3' if row['start_annotation']=='UTR3' and row['end_annotation']=='UTR3' else 'CDS', axis = 1)"
   ]
  },
  {
   "cell_type": "code",
   "execution_count": 8,
   "id": "2a60e6e1-67e3-4420-a2d5-e48c30a3a04c",
   "metadata": {
    "execution": {
     "iopub.execute_input": "2025-01-16T21:59:55.888617Z",
     "iopub.status.busy": "2025-01-16T21:59:55.887674Z",
     "iopub.status.idle": "2025-01-16T21:59:56.791104Z",
     "shell.execute_reply": "2025-01-16T21:59:56.790022Z",
     "shell.execute_reply.started": "2025-01-16T21:59:55.888597Z"
    }
   },
   "outputs": [],
   "source": [
    "df2fasta(df.loc[(df['annotation']=='UTR3')&(df['difference']<-0.1)], \n",
    "         outdir / 'utr3_forefround.fa')\n",
    "df2fasta(df.loc[(df['annotation']=='UTR3')&(df['difference']>0.1)], \n",
    "         outdir / 'utr3_backfround.fa')\n",
    "\n",
    "df2fasta(df.loc[(df['annotation']=='UTR5')&(df['difference']<-0.1)], \n",
    "         outdir / 'utr5_forefround.fa')\n",
    "df2fasta(df.loc[(df['annotation']=='UTR5')&(df['difference']>0.1)], \n",
    "         outdir / 'utr5_backfround.fa')"
   ]
  },
  {
   "cell_type": "code",
   "execution_count": 9,
   "id": "9ae0a9d7-3418-47ee-a754-be0dd7d2189f",
   "metadata": {
    "execution": {
     "iopub.execute_input": "2025-01-16T21:59:56.796850Z",
     "iopub.status.busy": "2025-01-16T21:59:56.794734Z",
     "iopub.status.idle": "2025-01-16T21:59:57.016977Z",
     "shell.execute_reply": "2025-01-16T21:59:57.016266Z",
     "shell.execute_reply.started": "2025-01-16T21:59:56.796809Z"
    }
   },
   "outputs": [
    {
     "data": {
      "text/html": [
       "<div>\n",
       "<style scoped>\n",
       "    .dataframe tbody tr th:only-of-type {\n",
       "        vertical-align: middle;\n",
       "    }\n",
       "\n",
       "    .dataframe tbody tr th {\n",
       "        vertical-align: top;\n",
       "    }\n",
       "\n",
       "    .dataframe thead th {\n",
       "        text-align: right;\n",
       "    }\n",
       "</style>\n",
       "<table border=\"1\" class=\"dataframe\">\n",
       "  <thead>\n",
       "    <tr style=\"text-align: right;\">\n",
       "      <th></th>\n",
       "      <th>Unnamed: 0</th>\n",
       "      <th>transcript_id</th>\n",
       "      <th>deletion_index_start</th>\n",
       "      <th>deletion_index_end</th>\n",
       "      <th>difference</th>\n",
       "      <th>synapse_probability</th>\n",
       "      <th>start_annotation</th>\n",
       "      <th>end_annotation</th>\n",
       "      <th>subseq</th>\n",
       "      <th>annotation</th>\n",
       "    </tr>\n",
       "  </thead>\n",
       "  <tbody>\n",
       "    <tr>\n",
       "      <th>4034</th>\n",
       "      <td>4034</td>\n",
       "      <td>ENSMUST00000000206</td>\n",
       "      <td>15</td>\n",
       "      <td>45</td>\n",
       "      <td>-0.181641</td>\n",
       "      <td>0.312500</td>\n",
       "      <td>UTR5</td>\n",
       "      <td>UTR5</td>\n",
       "      <td>GTCCCTCCAGTGGACTTAGGGACAGAGCAC</td>\n",
       "      <td>UTR5</td>\n",
       "    </tr>\n",
       "    <tr>\n",
       "      <th>7139</th>\n",
       "      <td>7139</td>\n",
       "      <td>ENSMUST00000000317</td>\n",
       "      <td>210</td>\n",
       "      <td>240</td>\n",
       "      <td>-0.633301</td>\n",
       "      <td>0.073730</td>\n",
       "      <td>UTR5</td>\n",
       "      <td>UTR5</td>\n",
       "      <td>TCTGAATCTTTGTAGCCGCATCCCCAAGCC</td>\n",
       "      <td>UTR5</td>\n",
       "    </tr>\n",
       "    <tr>\n",
       "      <th>7246</th>\n",
       "      <td>7246</td>\n",
       "      <td>ENSMUST00000000335</td>\n",
       "      <td>225</td>\n",
       "      <td>255</td>\n",
       "      <td>-0.173828</td>\n",
       "      <td>0.423828</td>\n",
       "      <td>UTR5</td>\n",
       "      <td>UTR5</td>\n",
       "      <td>AGACCTGTGCGCGGCCTTGACGAGGGGATG</td>\n",
       "      <td>UTR5</td>\n",
       "    </tr>\n",
       "    <tr>\n",
       "      <th>7247</th>\n",
       "      <td>7247</td>\n",
       "      <td>ENSMUST00000000335</td>\n",
       "      <td>240</td>\n",
       "      <td>270</td>\n",
       "      <td>-0.195312</td>\n",
       "      <td>0.402344</td>\n",
       "      <td>UTR5</td>\n",
       "      <td>UTR5</td>\n",
       "      <td>CTTGACGAGGGGATGAGAGAGTCCTACCAC</td>\n",
       "      <td>UTR5</td>\n",
       "    </tr>\n",
       "    <tr>\n",
       "      <th>44452</th>\n",
       "      <td>44452</td>\n",
       "      <td>ENSMUST00000002100</td>\n",
       "      <td>120</td>\n",
       "      <td>150</td>\n",
       "      <td>-0.121094</td>\n",
       "      <td>0.503906</td>\n",
       "      <td>UTR5</td>\n",
       "      <td>UTR5</td>\n",
       "      <td>GAGCCAGCCTGGAGGCCGGTCCCTGATCAC</td>\n",
       "      <td>UTR5</td>\n",
       "    </tr>\n",
       "    <tr>\n",
       "      <th>...</th>\n",
       "      <td>...</td>\n",
       "      <td>...</td>\n",
       "      <td>...</td>\n",
       "      <td>...</td>\n",
       "      <td>...</td>\n",
       "      <td>...</td>\n",
       "      <td>...</td>\n",
       "      <td>...</td>\n",
       "      <td>...</td>\n",
       "      <td>...</td>\n",
       "    </tr>\n",
       "    <tr>\n",
       "      <th>5690888</th>\n",
       "      <td>5690888</td>\n",
       "      <td>ENSMUST00000238943</td>\n",
       "      <td>510</td>\n",
       "      <td>540</td>\n",
       "      <td>-0.160156</td>\n",
       "      <td>0.742188</td>\n",
       "      <td>UTR5</td>\n",
       "      <td>UTR5</td>\n",
       "      <td>TGGTTTTTTCCTGCTCTGTCTTCTCTCTCC</td>\n",
       "      <td>UTR5</td>\n",
       "    </tr>\n",
       "    <tr>\n",
       "      <th>5693970</th>\n",
       "      <td>5693970</td>\n",
       "      <td>ENSMUST00000238972</td>\n",
       "      <td>1530</td>\n",
       "      <td>1560</td>\n",
       "      <td>-0.164062</td>\n",
       "      <td>0.597656</td>\n",
       "      <td>UTR5</td>\n",
       "      <td>UTR5</td>\n",
       "      <td>TGTTACAGGAGCACAGGACCATGCTGCCCA</td>\n",
       "      <td>UTR5</td>\n",
       "    </tr>\n",
       "    <tr>\n",
       "      <th>5693971</th>\n",
       "      <td>5693971</td>\n",
       "      <td>ENSMUST00000238972</td>\n",
       "      <td>1545</td>\n",
       "      <td>1575</td>\n",
       "      <td>-0.167969</td>\n",
       "      <td>0.593750</td>\n",
       "      <td>UTR5</td>\n",
       "      <td>UTR5</td>\n",
       "      <td>GGACCATGCTGCCCATCAGTTTTATGTGGA</td>\n",
       "      <td>UTR5</td>\n",
       "    </tr>\n",
       "    <tr>\n",
       "      <th>5693972</th>\n",
       "      <td>5693972</td>\n",
       "      <td>ENSMUST00000238972</td>\n",
       "      <td>1560</td>\n",
       "      <td>1590</td>\n",
       "      <td>-0.156250</td>\n",
       "      <td>0.605469</td>\n",
       "      <td>UTR5</td>\n",
       "      <td>UTR5</td>\n",
       "      <td>TCAGTTTTATGTGGACACTGGGACTGAACT</td>\n",
       "      <td>UTR5</td>\n",
       "    </tr>\n",
       "    <tr>\n",
       "      <th>5693973</th>\n",
       "      <td>5693973</td>\n",
       "      <td>ENSMUST00000238972</td>\n",
       "      <td>1575</td>\n",
       "      <td>1605</td>\n",
       "      <td>-0.160156</td>\n",
       "      <td>0.601562</td>\n",
       "      <td>UTR5</td>\n",
       "      <td>UTR5</td>\n",
       "      <td>CACTGGGACTGAACTGGTACCTGTGCTTGT</td>\n",
       "      <td>UTR5</td>\n",
       "    </tr>\n",
       "  </tbody>\n",
       "</table>\n",
       "<p>614 rows × 10 columns</p>\n",
       "</div>"
      ],
      "text/plain": [
       "         Unnamed: 0       transcript_id  deletion_index_start  \\\n",
       "4034           4034  ENSMUST00000000206                    15   \n",
       "7139           7139  ENSMUST00000000317                   210   \n",
       "7246           7246  ENSMUST00000000335                   225   \n",
       "7247           7247  ENSMUST00000000335                   240   \n",
       "44452         44452  ENSMUST00000002100                   120   \n",
       "...             ...                 ...                   ...   \n",
       "5690888     5690888  ENSMUST00000238943                   510   \n",
       "5693970     5693970  ENSMUST00000238972                  1530   \n",
       "5693971     5693971  ENSMUST00000238972                  1545   \n",
       "5693972     5693972  ENSMUST00000238972                  1560   \n",
       "5693973     5693973  ENSMUST00000238972                  1575   \n",
       "\n",
       "         deletion_index_end  difference  synapse_probability start_annotation  \\\n",
       "4034                     45   -0.181641             0.312500             UTR5   \n",
       "7139                    240   -0.633301             0.073730             UTR5   \n",
       "7246                    255   -0.173828             0.423828             UTR5   \n",
       "7247                    270   -0.195312             0.402344             UTR5   \n",
       "44452                   150   -0.121094             0.503906             UTR5   \n",
       "...                     ...         ...                  ...              ...   \n",
       "5690888                 540   -0.160156             0.742188             UTR5   \n",
       "5693970                1560   -0.164062             0.597656             UTR5   \n",
       "5693971                1575   -0.167969             0.593750             UTR5   \n",
       "5693972                1590   -0.156250             0.605469             UTR5   \n",
       "5693973                1605   -0.160156             0.601562             UTR5   \n",
       "\n",
       "        end_annotation                          subseq annotation  \n",
       "4034              UTR5  GTCCCTCCAGTGGACTTAGGGACAGAGCAC       UTR5  \n",
       "7139              UTR5  TCTGAATCTTTGTAGCCGCATCCCCAAGCC       UTR5  \n",
       "7246              UTR5  AGACCTGTGCGCGGCCTTGACGAGGGGATG       UTR5  \n",
       "7247              UTR5  CTTGACGAGGGGATGAGAGAGTCCTACCAC       UTR5  \n",
       "44452             UTR5  GAGCCAGCCTGGAGGCCGGTCCCTGATCAC       UTR5  \n",
       "...                ...                             ...        ...  \n",
       "5690888           UTR5  TGGTTTTTTCCTGCTCTGTCTTCTCTCTCC       UTR5  \n",
       "5693970           UTR5  TGTTACAGGAGCACAGGACCATGCTGCCCA       UTR5  \n",
       "5693971           UTR5  GGACCATGCTGCCCATCAGTTTTATGTGGA       UTR5  \n",
       "5693972           UTR5  TCAGTTTTATGTGGACACTGGGACTGAACT       UTR5  \n",
       "5693973           UTR5  CACTGGGACTGAACTGGTACCTGTGCTTGT       UTR5  \n",
       "\n",
       "[614 rows x 10 columns]"
      ]
     },
     "execution_count": 9,
     "metadata": {},
     "output_type": "execute_result"
    }
   ],
   "source": [
    "df.loc[(df['annotation']=='UTR5')&(df['difference']<-0.1)]"
   ]
  },
  {
   "cell_type": "markdown",
   "id": "704a8cfd-dab8-46db-90ac-efee875098b4",
   "metadata": {},
   "source": [
    "# Commands to run HOMER"
   ]
  },
  {
   "cell_type": "markdown",
   "id": "b220068b-04b8-47da-b1ff-5c764e850434",
   "metadata": {},
   "source": [
    "```\n",
    "cd /tscc/nfs/home/hsher/ps-yeolab5/karen_data\n",
    "findMotifs.pl utr3_forefround.fa fasta utr3_homer_results/ -fasta utr3_backfround.fa \\\n",
    "    -rna -nofacts\n",
    "findMotifs.pl utr5_forefround.fa fasta utr5_homer_results/ -fasta utr5_backfround.fa \\\n",
    "    -rna -nofacts\n",
    "```"
   ]
  },
  {
   "cell_type": "code",
   "execution_count": null,
   "id": "0bc0c3bf-c8dc-4512-83e1-b7953658b6da",
   "metadata": {},
   "outputs": [],
   "source": []
  }
 ],
 "metadata": {
  "kernelspec": {
   "display_name": "Python 3 (ipykernel)",
   "language": "python",
   "name": "python3"
  },
  "language_info": {
   "codemirror_mode": {
    "name": "ipython",
    "version": 3
   },
   "file_extension": ".py",
   "mimetype": "text/x-python",
   "name": "python",
   "nbconvert_exporter": "python",
   "pygments_lexer": "ipython3",
   "version": "3.9.15"
  }
 },
 "nbformat": 4,
 "nbformat_minor": 5
}
