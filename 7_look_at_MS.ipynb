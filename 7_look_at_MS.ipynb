{
 "cells": [
  {
   "cell_type": "code",
   "execution_count": 8,
   "id": "0afd13e1-073f-47bf-b446-6e71ed947f62",
   "metadata": {},
   "outputs": [],
   "source": [
    "import pandas as pd\n",
    "from plot_params import *\n",
    "import pandas as pd\n",
    "ipsc_b = pd.read_excel('proteomics/Mei_Ideker_Supp Tables_050324.xlsx', sheet_name = 'Table S4',\n",
    "                  skiprows = 2)\n",
    "ipsc_a = pd.read_excel('proteomics/Mei_Ideker_Supp Tables_050324.xlsx', sheet_name = 'Table S3',\n",
    "                  skiprows = 2)\n",
    "\n",
    "human_b = pd.read_excel('proteomics/Mei_Ideker_Supp Tables_050324.xlsx', sheet_name = 'Table S6',\n",
    "                  skiprows = 2)\n",
    "human_a = pd.read_excel('proteomics/Mei_Ideker_Supp Tables_050324.xlsx', sheet_name = 'Table S5',\n",
    "                  skiprows = 2)"
   ]
  },
  {
   "cell_type": "code",
   "execution_count": 10,
   "id": "5fed6e52-6d53-4c84-ab31-27294be2e2e8",
   "metadata": {},
   "outputs": [],
   "source": [
    "from upsetplot import generate_counts, plot"
   ]
  },
  {
   "cell_type": "code",
   "execution_count": 14,
   "id": "e9326aae-fdac-4060-a6c1-c2cdc105a018",
   "metadata": {},
   "outputs": [
    {
     "data": {
      "text/plain": [
       "<matplotlib_venn._common.VennDiagram at 0x1555224eec10>"
      ]
     },
     "execution_count": 14,
     "metadata": {},
     "output_type": "execute_result"
    },
    {
     "data": {
      "image/png": "[encoded data removed]",
      "text/plain": [
       "<Figure size 432x288 with 1 Axes>"
      ]
     },
     "metadata": {},
     "output_type": "display_data"
    }
   ],
   "source": [
    "from matplotlib_venn import venn2\n",
    "venn2([set(ipsc_a['Gene Symbol']),set(ipsc_b['Gene Symbol'])])"
   ]
  },
  {
   "cell_type": "code",
   "execution_count": 15,
   "id": "988fd3d6-e736-4c29-a399-547e749a1908",
   "metadata": {},
   "outputs": [
    {
     "data": {
      "text/plain": [
       "<matplotlib_venn._common.VennDiagram at 0x155522593650>"
      ]
     },
     "execution_count": 15,
     "metadata": {},
     "output_type": "execute_result"
    },
    {
     "data": {
      "image/png": "[encoded data removed]",
      "text/plain": [
       "<Figure size 432x288 with 1 Axes>"
      ]
     },
     "metadata": {},
     "output_type": "display_data"
    }
   ],
   "source": [
    "venn2([set(human_a['Gene Symbol']),set(human_b['Gene Symbol'])])"
   ]
  },
  {
   "cell_type": "code",
   "execution_count": 16,
   "id": "7ab9f6d8-614a-4beb-a580-4275f726d831",
   "metadata": {},
   "outputs": [
    {
     "data": {
      "text/plain": [
       "<matplotlib_venn._common.VennDiagram at 0x1555225a0950>"
      ]
     },
     "execution_count": 16,
     "metadata": {},
     "output_type": "execute_result"
    },
    {
     "data": {
      "image/png": "[encoded data removed]",
      "text/plain": [
       "<Figure size 432x288 with 1 Axes>"
      ]
     },
     "metadata": {},
     "output_type": "display_data"
    }
   ],
   "source": [
    "venn2([set(human_a['Gene Symbol']),set(ipsc_a['Gene Symbol'])])"
   ]
  },
  {
   "cell_type": "code",
   "execution_count": 17,
   "id": "1e29737f-f4ec-4661-aa4c-e2f17ef6a6c4",
   "metadata": {},
   "outputs": [],
   "source": [
    "syngo = pd.read_excel('synGo/syngo_genes.xlsx')"
   ]
  },
  {
   "cell_type": "code",
   "execution_count": 18,
   "id": "95b57c02-1a4e-4aa2-8c70-45bd93a1d89b",
   "metadata": {},
   "outputs": [
    {
     "data": {
      "text/html": [
       "<div>\n",
       "<style scoped>\n",
       "    .dataframe tbody tr th:only-of-type {\n",
       "        vertical-align: middle;\n",
       "    }\n",
       "\n",
       "    .dataframe tbody tr th {\n",
       "        vertical-align: top;\n",
       "    }\n",
       "\n",
       "    .dataframe thead th {\n",
       "        text-align: right;\n",
       "    }\n",
       "</style>\n",
       "<table border=\"1\" class=\"dataframe\">\n",
       "  <thead>\n",
       "    <tr style=\"text-align: right;\">\n",
       "      <th></th>\n",
       "      <th>hgnc_id</th>\n",
       "      <th>hgnc_symbol</th>\n",
       "      <th>hgnc_synonyms</th>\n",
       "      <th>hgnc_name</th>\n",
       "      <th>ensembl_id</th>\n",
       "      <th>entrez_id</th>\n",
       "    </tr>\n",
       "  </thead>\n",
       "  <tbody>\n",
       "    <tr>\n",
       "      <th>0</th>\n",
       "      <td>HGNC:19679</td>\n",
       "      <td>AAK1</td>\n",
       "      <td>KIAA1048, DKFZP686K16132</td>\n",
       "      <td>AP2 associated kinase 1</td>\n",
       "      <td>ENSG00000115977</td>\n",
       "      <td>22848</td>\n",
       "    </tr>\n",
       "    <tr>\n",
       "      <th>1</th>\n",
       "      <td>HGNC:59</td>\n",
       "      <td>ABCC8</td>\n",
       "      <td>PHHI, SUR1, ABC36, HHF1, TNDM2, SUR, HRINS</td>\n",
       "      <td>ATP binding cassette subfamily C member 8</td>\n",
       "      <td>ENSG00000006071</td>\n",
       "      <td>6833</td>\n",
       "    </tr>\n",
       "    <tr>\n",
       "      <th>2</th>\n",
       "      <td>HGNC:28756</td>\n",
       "      <td>ABHD17A</td>\n",
       "      <td>MGC5244, C19ORF27, FAM108A1</td>\n",
       "      <td>abhydrolase domain containing 17A, depalmitoylase</td>\n",
       "      <td>ENSG00000129968</td>\n",
       "      <td>81926</td>\n",
       "    </tr>\n",
       "    <tr>\n",
       "      <th>3</th>\n",
       "      <td>HGNC:24278</td>\n",
       "      <td>ABHD17B</td>\n",
       "      <td>CGI-67, C9ORF77, FAM108B1</td>\n",
       "      <td>abhydrolase domain containing 17B, depalmitoylase</td>\n",
       "      <td>ENSG00000107362</td>\n",
       "      <td>51104</td>\n",
       "    </tr>\n",
       "    <tr>\n",
       "      <th>4</th>\n",
       "      <td>HGNC:26925</td>\n",
       "      <td>ABHD17C</td>\n",
       "      <td>FAM108C1</td>\n",
       "      <td>abhydrolase domain containing 17C, depalmitoylase</td>\n",
       "      <td>ENSG00000136379</td>\n",
       "      <td>58489</td>\n",
       "    </tr>\n",
       "    <tr>\n",
       "      <th>...</th>\n",
       "      <td>...</td>\n",
       "      <td>...</td>\n",
       "      <td>...</td>\n",
       "      <td>...</td>\n",
       "      <td>...</td>\n",
       "      <td>...</td>\n",
       "    </tr>\n",
       "    <tr>\n",
       "      <th>1597</th>\n",
       "      <td>HGNC:12855</td>\n",
       "      <td>YWHAZ</td>\n",
       "      <td>KCIP-1, 14-3-3-ZETA, YWHAD</td>\n",
       "      <td>tyrosine 3-monooxygenase/tryptophan 5-monooxyg...</td>\n",
       "      <td>ENSG00000164924</td>\n",
       "      <td>7534</td>\n",
       "    </tr>\n",
       "    <tr>\n",
       "      <th>1598</th>\n",
       "      <td>HGNC:18412</td>\n",
       "      <td>ZDHHC17</td>\n",
       "      <td>HIP14, HYPH, KIAA0946</td>\n",
       "      <td>zinc finger DHHC-type palmitoyltransferase 17</td>\n",
       "      <td>ENSG00000186908</td>\n",
       "      <td>23390</td>\n",
       "    </tr>\n",
       "    <tr>\n",
       "      <th>1599</th>\n",
       "      <td>HGNC:18469</td>\n",
       "      <td>ZDHHC2</td>\n",
       "      <td>ZNF372, DHHC2</td>\n",
       "      <td>zinc finger DHHC-type palmitoyltransferase 2</td>\n",
       "      <td>ENSG00000104219</td>\n",
       "      <td>51201</td>\n",
       "    </tr>\n",
       "    <tr>\n",
       "      <th>1600</th>\n",
       "      <td>HGNC:18472</td>\n",
       "      <td>ZDHHC5</td>\n",
       "      <td>KIAA1748, ZNF375, DHHC5</td>\n",
       "      <td>zinc finger DHHC-type palmitoyltransferase 5</td>\n",
       "      <td>ENSG00000156599</td>\n",
       "      <td>25921</td>\n",
       "    </tr>\n",
       "    <tr>\n",
       "      <th>1601</th>\n",
       "      <td>HGNC:18474</td>\n",
       "      <td>ZDHHC8</td>\n",
       "      <td>ZNF378, KIAA1292, DHHC8</td>\n",
       "      <td>zinc finger DHHC-type palmitoyltransferase 8</td>\n",
       "      <td>ENSG00000099904</td>\n",
       "      <td>29801</td>\n",
       "    </tr>\n",
       "  </tbody>\n",
       "</table>\n",
       "<p>1602 rows × 6 columns</p>\n",
       "</div>"
      ],
      "text/plain": [
       "         hgnc_id hgnc_symbol                               hgnc_synonyms  \\\n",
       "0     HGNC:19679        AAK1                    KIAA1048, DKFZP686K16132   \n",
       "1        HGNC:59       ABCC8  PHHI, SUR1, ABC36, HHF1, TNDM2, SUR, HRINS   \n",
       "2     HGNC:28756     ABHD17A                 MGC5244, C19ORF27, FAM108A1   \n",
       "3     HGNC:24278     ABHD17B                   CGI-67, C9ORF77, FAM108B1   \n",
       "4     HGNC:26925     ABHD17C                                    FAM108C1   \n",
       "...          ...         ...                                         ...   \n",
       "1597  HGNC:12855       YWHAZ                  KCIP-1, 14-3-3-ZETA, YWHAD   \n",
       "1598  HGNC:18412     ZDHHC17                       HIP14, HYPH, KIAA0946   \n",
       "1599  HGNC:18469      ZDHHC2                               ZNF372, DHHC2   \n",
       "1600  HGNC:18472      ZDHHC5                     KIAA1748, ZNF375, DHHC5   \n",
       "1601  HGNC:18474      ZDHHC8                     ZNF378, KIAA1292, DHHC8   \n",
       "\n",
       "                                              hgnc_name       ensembl_id  \\\n",
       "0                               AP2 associated kinase 1  ENSG00000115977   \n",
       "1             ATP binding cassette subfamily C member 8  ENSG00000006071   \n",
       "2     abhydrolase domain containing 17A, depalmitoylase  ENSG00000129968   \n",
       "3     abhydrolase domain containing 17B, depalmitoylase  ENSG00000107362   \n",
       "4     abhydrolase domain containing 17C, depalmitoylase  ENSG00000136379   \n",
       "...                                                 ...              ...   \n",
       "1597  tyrosine 3-monooxygenase/tryptophan 5-monooxyg...  ENSG00000164924   \n",
       "1598      zinc finger DHHC-type palmitoyltransferase 17  ENSG00000186908   \n",
       "1599       zinc finger DHHC-type palmitoyltransferase 2  ENSG00000104219   \n",
       "1600       zinc finger DHHC-type palmitoyltransferase 5  ENSG00000156599   \n",
       "1601       zinc finger DHHC-type palmitoyltransferase 8  ENSG00000099904   \n",
       "\n",
       "      entrez_id  \n",
       "0         22848  \n",
       "1          6833  \n",
       "2         81926  \n",
       "3         51104  \n",
       "4         58489  \n",
       "...         ...  \n",
       "1597       7534  \n",
       "1598      23390  \n",
       "1599      51201  \n",
       "1600      25921  \n",
       "1601      29801  \n",
       "\n",
       "[1602 rows x 6 columns]"
      ]
     },
     "execution_count": 18,
     "metadata": {},
     "output_type": "execute_result"
    }
   ],
   "source": [
    "syngo"
   ]
  },
  {
   "cell_type": "code",
   "execution_count": 19,
   "id": "da393c9d-5767-4920-9b08-7670dae5c35b",
   "metadata": {},
   "outputs": [
    {
     "data": {
      "text/plain": [
       "<matplotlib_venn._common.VennDiagram at 0x15552264b310>"
      ]
     },
     "execution_count": 19,
     "metadata": {},
     "output_type": "execute_result"
    },
    {
     "data": {
      "image/png": "[encoded data removed]",
      "text/plain": [
       "<Figure size 432x288 with 1 Axes>"
      ]
     },
     "metadata": {},
     "output_type": "display_data"
    }
   ],
   "source": [
    "venn2([set(human_a['Gene Symbol']),set(syngo['hgnc_symbol'])])"
   ]
  },
  {
   "cell_type": "code",
   "execution_count": 21,
   "id": "fb6e7031-7996-4cc5-835b-0dc9399dcf3e",
   "metadata": {},
   "outputs": [],
   "source": [
    "any_dataset = set(human_a['Gene Symbol']).union(set(human_b['Gene Symbol']\n",
    "                )).union(set(ipsc_a['Gene Symbol'])).union(\n",
    "    set(ipsc_b['Gene Symbol'])).union(set(syngo['hgnc_symbol']))"
   ]
  },
  {
   "cell_type": "code",
   "execution_count": 22,
   "id": "92725888-1210-48b0-9b1c-4e675b8f0dfc",
   "metadata": {},
   "outputs": [
    {
     "data": {
      "text/plain": [
       "4528"
      ]
     },
     "execution_count": 22,
     "metadata": {},
     "output_type": "execute_result"
    }
   ],
   "source": [
    "len(any_dataset)"
   ]
  },
  {
   "cell_type": "code",
   "execution_count": null,
   "id": "0d2699b6-faef-40f2-8a6b-f9da85784744",
   "metadata": {},
   "outputs": [],
   "source": []
  }
 ],
 "metadata": {
  "kernelspec": {
   "display_name": "Python 3 (ipykernel)",
   "language": "python",
   "name": "python3"
  },
  "language_info": {
   "codemirror_mode": {
    "name": "ipython",
    "version": 3
   },
   "file_extension": ".py",
   "mimetype": "text/x-python",
   "name": "python",
   "nbconvert_exporter": "python",
   "pygments_lexer": "ipython3",
   "version": "3.9.15"
  }
 },
 "nbformat": 4,
 "nbformat_minor": 5
}
