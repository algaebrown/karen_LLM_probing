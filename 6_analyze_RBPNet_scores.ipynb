{
 "cells": [
  {
   "cell_type": "code",
   "execution_count": 1,
   "id": "ba1c7683-ced3-4b0a-994a-b0460b1840ec",
   "metadata": {
    "execution": {
     "iopub.execute_input": "2025-02-08T18:24:21.715955Z",
     "iopub.status.busy": "2025-02-08T18:24:21.715802Z",
     "iopub.status.idle": "2025-02-08T18:27:43.366640Z",
     "shell.execute_reply": "2025-02-08T18:27:43.366057Z",
     "shell.execute_reply.started": "2025-02-08T18:24:21.715937Z"
    }
   },
   "outputs": [
    {
     "name": "stderr",
     "output_type": "stream",
     "text": [
      "/tmp/ipykernel_4010927/338753896.py:15: PerformanceWarning: DataFrame is highly fragmented.  This is usually the result of calling `frame.insert` many times, which has poor performance.  Consider joining all columns at once using pd.concat(axis=1) instead. To get a de-fragmented frame, use `newframe = frame.copy()`\n",
      "  data[name]=df[name]\n",
      "/tmp/ipykernel_4010927/338753896.py:15: PerformanceWarning: DataFrame is highly fragmented.  This is usually the result of calling `frame.insert` many times, which has poor performance.  Consider joining all columns at once using pd.concat(axis=1) instead. To get a de-fragmented frame, use `newframe = frame.copy()`\n",
      "  data[name]=df[name]\n",
      "/tmp/ipykernel_4010927/338753896.py:15: PerformanceWarning: DataFrame is highly fragmented.  This is usually the result of calling `frame.insert` many times, which has poor performance.  Consider joining all columns at once using pd.concat(axis=1) instead. To get a de-fragmented frame, use `newframe = frame.copy()`\n",
      "  data[name]=df[name]\n",
      "/tmp/ipykernel_4010927/338753896.py:15: PerformanceWarning: DataFrame is highly fragmented.  This is usually the result of calling `frame.insert` many times, which has poor performance.  Consider joining all columns at once using pd.concat(axis=1) instead. To get a de-fragmented frame, use `newframe = frame.copy()`\n",
      "  data[name]=df[name]\n",
      "/tmp/ipykernel_4010927/338753896.py:15: PerformanceWarning: DataFrame is highly fragmented.  This is usually the result of calling `frame.insert` many times, which has poor performance.  Consider joining all columns at once using pd.concat(axis=1) instead. To get a de-fragmented frame, use `newframe = frame.copy()`\n",
      "  data[name]=df[name]\n",
      "/tmp/ipykernel_4010927/338753896.py:15: PerformanceWarning: DataFrame is highly fragmented.  This is usually the result of calling `frame.insert` many times, which has poor performance.  Consider joining all columns at once using pd.concat(axis=1) instead. To get a de-fragmented frame, use `newframe = frame.copy()`\n",
      "  data[name]=df[name]\n",
      "/tmp/ipykernel_4010927/338753896.py:15: PerformanceWarning: DataFrame is highly fragmented.  This is usually the result of calling `frame.insert` many times, which has poor performance.  Consider joining all columns at once using pd.concat(axis=1) instead. To get a de-fragmented frame, use `newframe = frame.copy()`\n",
      "  data[name]=df[name]\n",
      "/tmp/ipykernel_4010927/338753896.py:15: PerformanceWarning: DataFrame is highly fragmented.  This is usually the result of calling `frame.insert` many times, which has poor performance.  Consider joining all columns at once using pd.concat(axis=1) instead. To get a de-fragmented frame, use `newframe = frame.copy()`\n",
      "  data[name]=df[name]\n",
      "/tmp/ipykernel_4010927/338753896.py:15: PerformanceWarning: DataFrame is highly fragmented.  This is usually the result of calling `frame.insert` many times, which has poor performance.  Consider joining all columns at once using pd.concat(axis=1) instead. To get a de-fragmented frame, use `newframe = frame.copy()`\n",
      "  data[name]=df[name]\n",
      "/tmp/ipykernel_4010927/338753896.py:15: PerformanceWarning: DataFrame is highly fragmented.  This is usually the result of calling `frame.insert` many times, which has poor performance.  Consider joining all columns at once using pd.concat(axis=1) instead. To get a de-fragmented frame, use `newframe = frame.copy()`\n",
      "  data[name]=df[name]\n",
      "/tmp/ipykernel_4010927/338753896.py:15: PerformanceWarning: DataFrame is highly fragmented.  This is usually the result of calling `frame.insert` many times, which has poor performance.  Consider joining all columns at once using pd.concat(axis=1) instead. To get a de-fragmented frame, use `newframe = frame.copy()`\n",
      "  data[name]=df[name]\n",
      "/tmp/ipykernel_4010927/338753896.py:15: PerformanceWarning: DataFrame is highly fragmented.  This is usually the result of calling `frame.insert` many times, which has poor performance.  Consider joining all columns at once using pd.concat(axis=1) instead. To get a de-fragmented frame, use `newframe = frame.copy()`\n",
      "  data[name]=df[name]\n",
      "/tmp/ipykernel_4010927/338753896.py:15: PerformanceWarning: DataFrame is highly fragmented.  This is usually the result of calling `frame.insert` many times, which has poor performance.  Consider joining all columns at once using pd.concat(axis=1) instead. To get a de-fragmented frame, use `newframe = frame.copy()`\n",
      "  data[name]=df[name]\n",
      "/tmp/ipykernel_4010927/338753896.py:15: PerformanceWarning: DataFrame is highly fragmented.  This is usually the result of calling `frame.insert` many times, which has poor performance.  Consider joining all columns at once using pd.concat(axis=1) instead. To get a de-fragmented frame, use `newframe = frame.copy()`\n",
      "  data[name]=df[name]\n",
      "/tmp/ipykernel_4010927/338753896.py:15: PerformanceWarning: DataFrame is highly fragmented.  This is usually the result of calling `frame.insert` many times, which has poor performance.  Consider joining all columns at once using pd.concat(axis=1) instead. To get a de-fragmented frame, use `newframe = frame.copy()`\n",
      "  data[name]=df[name]\n",
      "/tmp/ipykernel_4010927/338753896.py:15: PerformanceWarning: DataFrame is highly fragmented.  This is usually the result of calling `frame.insert` many times, which has poor performance.  Consider joining all columns at once using pd.concat(axis=1) instead. To get a de-fragmented frame, use `newframe = frame.copy()`\n",
      "  data[name]=df[name]\n",
      "/tmp/ipykernel_4010927/338753896.py:15: PerformanceWarning: DataFrame is highly fragmented.  This is usually the result of calling `frame.insert` many times, which has poor performance.  Consider joining all columns at once using pd.concat(axis=1) instead. To get a de-fragmented frame, use `newframe = frame.copy()`\n",
      "  data[name]=df[name]\n",
      "/tmp/ipykernel_4010927/338753896.py:15: PerformanceWarning: DataFrame is highly fragmented.  This is usually the result of calling `frame.insert` many times, which has poor performance.  Consider joining all columns at once using pd.concat(axis=1) instead. To get a de-fragmented frame, use `newframe = frame.copy()`\n",
      "  data[name]=df[name]\n",
      "/tmp/ipykernel_4010927/338753896.py:15: PerformanceWarning: DataFrame is highly fragmented.  This is usually the result of calling `frame.insert` many times, which has poor performance.  Consider joining all columns at once using pd.concat(axis=1) instead. To get a de-fragmented frame, use `newframe = frame.copy()`\n",
      "  data[name]=df[name]\n",
      "/tmp/ipykernel_4010927/338753896.py:15: PerformanceWarning: DataFrame is highly fragmented.  This is usually the result of calling `frame.insert` many times, which has poor performance.  Consider joining all columns at once using pd.concat(axis=1) instead. To get a de-fragmented frame, use `newframe = frame.copy()`\n",
      "  data[name]=df[name]\n",
      "/tmp/ipykernel_4010927/338753896.py:15: PerformanceWarning: DataFrame is highly fragmented.  This is usually the result of calling `frame.insert` many times, which has poor performance.  Consider joining all columns at once using pd.concat(axis=1) instead. To get a de-fragmented frame, use `newframe = frame.copy()`\n",
      "  data[name]=df[name]\n",
      "/tmp/ipykernel_4010927/338753896.py:15: PerformanceWarning: DataFrame is highly fragmented.  This is usually the result of calling `frame.insert` many times, which has poor performance.  Consider joining all columns at once using pd.concat(axis=1) instead. To get a de-fragmented frame, use `newframe = frame.copy()`\n",
      "  data[name]=df[name]\n",
      "/tmp/ipykernel_4010927/338753896.py:15: PerformanceWarning: DataFrame is highly fragmented.  This is usually the result of calling `frame.insert` many times, which has poor performance.  Consider joining all columns at once using pd.concat(axis=1) instead. To get a de-fragmented frame, use `newframe = frame.copy()`\n",
      "  data[name]=df[name]\n",
      "/tmp/ipykernel_4010927/338753896.py:15: PerformanceWarning: DataFrame is highly fragmented.  This is usually the result of calling `frame.insert` many times, which has poor performance.  Consider joining all columns at once using pd.concat(axis=1) instead. To get a de-fragmented frame, use `newframe = frame.copy()`\n",
      "  data[name]=df[name]\n",
      "/tmp/ipykernel_4010927/338753896.py:15: PerformanceWarning: DataFrame is highly fragmented.  This is usually the result of calling `frame.insert` many times, which has poor performance.  Consider joining all columns at once using pd.concat(axis=1) instead. To get a de-fragmented frame, use `newframe = frame.copy()`\n",
      "  data[name]=df[name]\n",
      "/tmp/ipykernel_4010927/338753896.py:15: PerformanceWarning: DataFrame is highly fragmented.  This is usually the result of calling `frame.insert` many times, which has poor performance.  Consider joining all columns at once using pd.concat(axis=1) instead. To get a de-fragmented frame, use `newframe = frame.copy()`\n",
      "  data[name]=df[name]\n",
      "/tmp/ipykernel_4010927/338753896.py:15: PerformanceWarning: DataFrame is highly fragmented.  This is usually the result of calling `frame.insert` many times, which has poor performance.  Consider joining all columns at once using pd.concat(axis=1) instead. To get a de-fragmented frame, use `newframe = frame.copy()`\n",
      "  data[name]=df[name]\n",
      "/tmp/ipykernel_4010927/338753896.py:15: PerformanceWarning: DataFrame is highly fragmented.  This is usually the result of calling `frame.insert` many times, which has poor performance.  Consider joining all columns at once using pd.concat(axis=1) instead. To get a de-fragmented frame, use `newframe = frame.copy()`\n",
      "  data[name]=df[name]\n",
      "/tmp/ipykernel_4010927/338753896.py:15: PerformanceWarning: DataFrame is highly fragmented.  This is usually the result of calling `frame.insert` many times, which has poor performance.  Consider joining all columns at once using pd.concat(axis=1) instead. To get a de-fragmented frame, use `newframe = frame.copy()`\n",
      "  data[name]=df[name]\n",
      "/tmp/ipykernel_4010927/338753896.py:15: PerformanceWarning: DataFrame is highly fragmented.  This is usually the result of calling `frame.insert` many times, which has poor performance.  Consider joining all columns at once using pd.concat(axis=1) instead. To get a de-fragmented frame, use `newframe = frame.copy()`\n",
      "  data[name]=df[name]\n",
      "/tmp/ipykernel_4010927/338753896.py:15: PerformanceWarning: DataFrame is highly fragmented.  This is usually the result of calling `frame.insert` many times, which has poor performance.  Consider joining all columns at once using pd.concat(axis=1) instead. To get a de-fragmented frame, use `newframe = frame.copy()`\n",
      "  data[name]=df[name]\n",
      "/tmp/ipykernel_4010927/338753896.py:15: PerformanceWarning: DataFrame is highly fragmented.  This is usually the result of calling `frame.insert` many times, which has poor performance.  Consider joining all columns at once using pd.concat(axis=1) instead. To get a de-fragmented frame, use `newframe = frame.copy()`\n",
      "  data[name]=df[name]\n",
      "/tmp/ipykernel_4010927/338753896.py:15: PerformanceWarning: DataFrame is highly fragmented.  This is usually the result of calling `frame.insert` many times, which has poor performance.  Consider joining all columns at once using pd.concat(axis=1) instead. To get a de-fragmented frame, use `newframe = frame.copy()`\n",
      "  data[name]=df[name]\n",
      "/tmp/ipykernel_4010927/338753896.py:15: PerformanceWarning: DataFrame is highly fragmented.  This is usually the result of calling `frame.insert` many times, which has poor performance.  Consider joining all columns at once using pd.concat(axis=1) instead. To get a de-fragmented frame, use `newframe = frame.copy()`\n",
      "  data[name]=df[name]\n",
      "/tmp/ipykernel_4010927/338753896.py:15: PerformanceWarning: DataFrame is highly fragmented.  This is usually the result of calling `frame.insert` many times, which has poor performance.  Consider joining all columns at once using pd.concat(axis=1) instead. To get a de-fragmented frame, use `newframe = frame.copy()`\n",
      "  data[name]=df[name]\n",
      "/tmp/ipykernel_4010927/338753896.py:15: PerformanceWarning: DataFrame is highly fragmented.  This is usually the result of calling `frame.insert` many times, which has poor performance.  Consider joining all columns at once using pd.concat(axis=1) instead. To get a de-fragmented frame, use `newframe = frame.copy()`\n",
      "  data[name]=df[name]\n",
      "/tmp/ipykernel_4010927/338753896.py:15: PerformanceWarning: DataFrame is highly fragmented.  This is usually the result of calling `frame.insert` many times, which has poor performance.  Consider joining all columns at once using pd.concat(axis=1) instead. To get a de-fragmented frame, use `newframe = frame.copy()`\n",
      "  data[name]=df[name]\n",
      "/tmp/ipykernel_4010927/338753896.py:15: PerformanceWarning: DataFrame is highly fragmented.  This is usually the result of calling `frame.insert` many times, which has poor performance.  Consider joining all columns at once using pd.concat(axis=1) instead. To get a de-fragmented frame, use `newframe = frame.copy()`\n",
      "  data[name]=df[name]\n",
      "/tmp/ipykernel_4010927/338753896.py:15: PerformanceWarning: DataFrame is highly fragmented.  This is usually the result of calling `frame.insert` many times, which has poor performance.  Consider joining all columns at once using pd.concat(axis=1) instead. To get a de-fragmented frame, use `newframe = frame.copy()`\n",
      "  data[name]=df[name]\n",
      "/tmp/ipykernel_4010927/338753896.py:15: PerformanceWarning: DataFrame is highly fragmented.  This is usually the result of calling `frame.insert` many times, which has poor performance.  Consider joining all columns at once using pd.concat(axis=1) instead. To get a de-fragmented frame, use `newframe = frame.copy()`\n",
      "  data[name]=df[name]\n",
      "/tmp/ipykernel_4010927/338753896.py:15: PerformanceWarning: DataFrame is highly fragmented.  This is usually the result of calling `frame.insert` many times, which has poor performance.  Consider joining all columns at once using pd.concat(axis=1) instead. To get a de-fragmented frame, use `newframe = frame.copy()`\n",
      "  data[name]=df[name]\n",
      "/tmp/ipykernel_4010927/338753896.py:15: PerformanceWarning: DataFrame is highly fragmented.  This is usually the result of calling `frame.insert` many times, which has poor performance.  Consider joining all columns at once using pd.concat(axis=1) instead. To get a de-fragmented frame, use `newframe = frame.copy()`\n",
      "  data[name]=df[name]\n",
      "/tmp/ipykernel_4010927/338753896.py:15: PerformanceWarning: DataFrame is highly fragmented.  This is usually the result of calling `frame.insert` many times, which has poor performance.  Consider joining all columns at once using pd.concat(axis=1) instead. To get a de-fragmented frame, use `newframe = frame.copy()`\n",
      "  data[name]=df[name]\n",
      "/tmp/ipykernel_4010927/338753896.py:15: PerformanceWarning: DataFrame is highly fragmented.  This is usually the result of calling `frame.insert` many times, which has poor performance.  Consider joining all columns at once using pd.concat(axis=1) instead. To get a de-fragmented frame, use `newframe = frame.copy()`\n",
      "  data[name]=df[name]\n",
      "/tmp/ipykernel_4010927/338753896.py:15: PerformanceWarning: DataFrame is highly fragmented.  This is usually the result of calling `frame.insert` many times, which has poor performance.  Consider joining all columns at once using pd.concat(axis=1) instead. To get a de-fragmented frame, use `newframe = frame.copy()`\n",
      "  data[name]=df[name]\n",
      "/tmp/ipykernel_4010927/338753896.py:15: PerformanceWarning: DataFrame is highly fragmented.  This is usually the result of calling `frame.insert` many times, which has poor performance.  Consider joining all columns at once using pd.concat(axis=1) instead. To get a de-fragmented frame, use `newframe = frame.copy()`\n",
      "  data[name]=df[name]\n",
      "/tmp/ipykernel_4010927/338753896.py:15: PerformanceWarning: DataFrame is highly fragmented.  This is usually the result of calling `frame.insert` many times, which has poor performance.  Consider joining all columns at once using pd.concat(axis=1) instead. To get a de-fragmented frame, use `newframe = frame.copy()`\n",
      "  data[name]=df[name]\n",
      "/tmp/ipykernel_4010927/338753896.py:15: PerformanceWarning: DataFrame is highly fragmented.  This is usually the result of calling `frame.insert` many times, which has poor performance.  Consider joining all columns at once using pd.concat(axis=1) instead. To get a de-fragmented frame, use `newframe = frame.copy()`\n",
      "  data[name]=df[name]\n",
      "/tmp/ipykernel_4010927/338753896.py:15: PerformanceWarning: DataFrame is highly fragmented.  This is usually the result of calling `frame.insert` many times, which has poor performance.  Consider joining all columns at once using pd.concat(axis=1) instead. To get a de-fragmented frame, use `newframe = frame.copy()`\n",
      "  data[name]=df[name]\n",
      "/tmp/ipykernel_4010927/338753896.py:15: PerformanceWarning: DataFrame is highly fragmented.  This is usually the result of calling `frame.insert` many times, which has poor performance.  Consider joining all columns at once using pd.concat(axis=1) instead. To get a de-fragmented frame, use `newframe = frame.copy()`\n",
      "  data[name]=df[name]\n",
      "/tmp/ipykernel_4010927/338753896.py:15: PerformanceWarning: DataFrame is highly fragmented.  This is usually the result of calling `frame.insert` many times, which has poor performance.  Consider joining all columns at once using pd.concat(axis=1) instead. To get a de-fragmented frame, use `newframe = frame.copy()`\n",
      "  data[name]=df[name]\n",
      "/tmp/ipykernel_4010927/338753896.py:15: PerformanceWarning: DataFrame is highly fragmented.  This is usually the result of calling `frame.insert` many times, which has poor performance.  Consider joining all columns at once using pd.concat(axis=1) instead. To get a de-fragmented frame, use `newframe = frame.copy()`\n",
      "  data[name]=df[name]\n",
      "/tmp/ipykernel_4010927/338753896.py:15: PerformanceWarning: DataFrame is highly fragmented.  This is usually the result of calling `frame.insert` many times, which has poor performance.  Consider joining all columns at once using pd.concat(axis=1) instead. To get a de-fragmented frame, use `newframe = frame.copy()`\n",
      "  data[name]=df[name]\n",
      "/tmp/ipykernel_4010927/338753896.py:15: PerformanceWarning: DataFrame is highly fragmented.  This is usually the result of calling `frame.insert` many times, which has poor performance.  Consider joining all columns at once using pd.concat(axis=1) instead. To get a de-fragmented frame, use `newframe = frame.copy()`\n",
      "  data[name]=df[name]\n",
      "/tmp/ipykernel_4010927/338753896.py:15: PerformanceWarning: DataFrame is highly fragmented.  This is usually the result of calling `frame.insert` many times, which has poor performance.  Consider joining all columns at once using pd.concat(axis=1) instead. To get a de-fragmented frame, use `newframe = frame.copy()`\n",
      "  data[name]=df[name]\n",
      "/tmp/ipykernel_4010927/338753896.py:15: PerformanceWarning: DataFrame is highly fragmented.  This is usually the result of calling `frame.insert` many times, which has poor performance.  Consider joining all columns at once using pd.concat(axis=1) instead. To get a de-fragmented frame, use `newframe = frame.copy()`\n",
      "  data[name]=df[name]\n",
      "/tmp/ipykernel_4010927/338753896.py:15: PerformanceWarning: DataFrame is highly fragmented.  This is usually the result of calling `frame.insert` many times, which has poor performance.  Consider joining all columns at once using pd.concat(axis=1) instead. To get a de-fragmented frame, use `newframe = frame.copy()`\n",
      "  data[name]=df[name]\n",
      "/tmp/ipykernel_4010927/338753896.py:15: PerformanceWarning: DataFrame is highly fragmented.  This is usually the result of calling `frame.insert` many times, which has poor performance.  Consider joining all columns at once using pd.concat(axis=1) instead. To get a de-fragmented frame, use `newframe = frame.copy()`\n",
      "  data[name]=df[name]\n",
      "/tmp/ipykernel_4010927/338753896.py:15: PerformanceWarning: DataFrame is highly fragmented.  This is usually the result of calling `frame.insert` many times, which has poor performance.  Consider joining all columns at once using pd.concat(axis=1) instead. To get a de-fragmented frame, use `newframe = frame.copy()`\n",
      "  data[name]=df[name]\n",
      "/tmp/ipykernel_4010927/338753896.py:15: PerformanceWarning: DataFrame is highly fragmented.  This is usually the result of calling `frame.insert` many times, which has poor performance.  Consider joining all columns at once using pd.concat(axis=1) instead. To get a de-fragmented frame, use `newframe = frame.copy()`\n",
      "  data[name]=df[name]\n",
      "/tmp/ipykernel_4010927/338753896.py:15: PerformanceWarning: DataFrame is highly fragmented.  This is usually the result of calling `frame.insert` many times, which has poor performance.  Consider joining all columns at once using pd.concat(axis=1) instead. To get a de-fragmented frame, use `newframe = frame.copy()`\n",
      "  data[name]=df[name]\n",
      "/tmp/ipykernel_4010927/338753896.py:15: PerformanceWarning: DataFrame is highly fragmented.  This is usually the result of calling `frame.insert` many times, which has poor performance.  Consider joining all columns at once using pd.concat(axis=1) instead. To get a de-fragmented frame, use `newframe = frame.copy()`\n",
      "  data[name]=df[name]\n",
      "/tmp/ipykernel_4010927/338753896.py:15: PerformanceWarning: DataFrame is highly fragmented.  This is usually the result of calling `frame.insert` many times, which has poor performance.  Consider joining all columns at once using pd.concat(axis=1) instead. To get a de-fragmented frame, use `newframe = frame.copy()`\n",
      "  data[name]=df[name]\n",
      "/tmp/ipykernel_4010927/338753896.py:15: PerformanceWarning: DataFrame is highly fragmented.  This is usually the result of calling `frame.insert` many times, which has poor performance.  Consider joining all columns at once using pd.concat(axis=1) instead. To get a de-fragmented frame, use `newframe = frame.copy()`\n",
      "  data[name]=df[name]\n",
      "/tmp/ipykernel_4010927/338753896.py:15: PerformanceWarning: DataFrame is highly fragmented.  This is usually the result of calling `frame.insert` many times, which has poor performance.  Consider joining all columns at once using pd.concat(axis=1) instead. To get a de-fragmented frame, use `newframe = frame.copy()`\n",
      "  data[name]=df[name]\n",
      "/tmp/ipykernel_4010927/338753896.py:15: PerformanceWarning: DataFrame is highly fragmented.  This is usually the result of calling `frame.insert` many times, which has poor performance.  Consider joining all columns at once using pd.concat(axis=1) instead. To get a de-fragmented frame, use `newframe = frame.copy()`\n",
      "  data[name]=df[name]\n",
      "/tmp/ipykernel_4010927/338753896.py:15: PerformanceWarning: DataFrame is highly fragmented.  This is usually the result of calling `frame.insert` many times, which has poor performance.  Consider joining all columns at once using pd.concat(axis=1) instead. To get a de-fragmented frame, use `newframe = frame.copy()`\n",
      "  data[name]=df[name]\n",
      "/tmp/ipykernel_4010927/338753896.py:15: PerformanceWarning: DataFrame is highly fragmented.  This is usually the result of calling `frame.insert` many times, which has poor performance.  Consider joining all columns at once using pd.concat(axis=1) instead. To get a de-fragmented frame, use `newframe = frame.copy()`\n",
      "  data[name]=df[name]\n",
      "/tmp/ipykernel_4010927/338753896.py:15: PerformanceWarning: DataFrame is highly fragmented.  This is usually the result of calling `frame.insert` many times, which has poor performance.  Consider joining all columns at once using pd.concat(axis=1) instead. To get a de-fragmented frame, use `newframe = frame.copy()`\n",
      "  data[name]=df[name]\n",
      "/tmp/ipykernel_4010927/338753896.py:15: PerformanceWarning: DataFrame is highly fragmented.  This is usually the result of calling `frame.insert` many times, which has poor performance.  Consider joining all columns at once using pd.concat(axis=1) instead. To get a de-fragmented frame, use `newframe = frame.copy()`\n",
      "  data[name]=df[name]\n",
      "/tmp/ipykernel_4010927/338753896.py:15: PerformanceWarning: DataFrame is highly fragmented.  This is usually the result of calling `frame.insert` many times, which has poor performance.  Consider joining all columns at once using pd.concat(axis=1) instead. To get a de-fragmented frame, use `newframe = frame.copy()`\n",
      "  data[name]=df[name]\n",
      "/tmp/ipykernel_4010927/338753896.py:15: PerformanceWarning: DataFrame is highly fragmented.  This is usually the result of calling `frame.insert` many times, which has poor performance.  Consider joining all columns at once using pd.concat(axis=1) instead. To get a de-fragmented frame, use `newframe = frame.copy()`\n",
      "  data[name]=df[name]\n",
      "/tmp/ipykernel_4010927/338753896.py:15: PerformanceWarning: DataFrame is highly fragmented.  This is usually the result of calling `frame.insert` many times, which has poor performance.  Consider joining all columns at once using pd.concat(axis=1) instead. To get a de-fragmented frame, use `newframe = frame.copy()`\n",
      "  data[name]=df[name]\n",
      "/tmp/ipykernel_4010927/338753896.py:15: PerformanceWarning: DataFrame is highly fragmented.  This is usually the result of calling `frame.insert` many times, which has poor performance.  Consider joining all columns at once using pd.concat(axis=1) instead. To get a de-fragmented frame, use `newframe = frame.copy()`\n",
      "  data[name]=df[name]\n",
      "/tmp/ipykernel_4010927/338753896.py:15: PerformanceWarning: DataFrame is highly fragmented.  This is usually the result of calling `frame.insert` many times, which has poor performance.  Consider joining all columns at once using pd.concat(axis=1) instead. To get a de-fragmented frame, use `newframe = frame.copy()`\n",
      "  data[name]=df[name]\n",
      "/tmp/ipykernel_4010927/338753896.py:15: PerformanceWarning: DataFrame is highly fragmented.  This is usually the result of calling `frame.insert` many times, which has poor performance.  Consider joining all columns at once using pd.concat(axis=1) instead. To get a de-fragmented frame, use `newframe = frame.copy()`\n",
      "  data[name]=df[name]\n"
     ]
    }
   ],
   "source": [
    "import pandas as pd\n",
    "from plot_params import *\n",
    "import pandas as pd\n",
    "data=pd.read_csv(outdir / 'Mouse_annotated.csv.gz')\n",
    "\n",
    "outdir = Path('/tscc/nfs/home/hsher/ps-yeolab5/karen_data/eclip_model_scores/output/')\n",
    "for f in outdir.glob('*.score.csv'):\n",
    "    name = f.name.split('.')[0]\n",
    "    df = pd.read_csv(f,\n",
    "                    index_col = 0)\n",
    "    df.set_index('ID', inplace = True)\n",
    "    df.rename({'dlogodds_pred': name}, axis = 1, inplace = True)\n",
    "\n",
    "\n",
    "    data[name]=df[name]"
   ]
  },
  {
   "cell_type": "code",
   "execution_count": 2,
   "id": "1795b3d0-be4c-4818-a88c-252bf834a3a3",
   "metadata": {
    "execution": {
     "iopub.execute_input": "2025-02-08T18:27:43.372548Z",
     "iopub.status.busy": "2025-02-08T18:27:43.371620Z",
     "iopub.status.idle": "2025-02-08T18:29:01.082503Z",
     "shell.execute_reply": "2025-02-08T18:29:01.082055Z",
     "shell.execute_reply.started": "2025-02-08T18:27:43.372523Z"
    }
   },
   "outputs": [
    {
     "name": "stderr",
     "output_type": "stream",
     "text": [
      "/tmp/ipykernel_4010927/3756099528.py:1: PerformanceWarning: DataFrame is highly fragmented.  This is usually the result of calling `frame.insert` many times, which has poor performance.  Consider joining all columns at once using pd.concat(axis=1) instead. To get a de-fragmented frame, use `newframe = frame.copy()`\n",
      "  data['annotation']=data.apply(\n"
     ]
    },
    {
     "data": {
      "text/html": [
       "<div>\n",
       "<style scoped>\n",
       "    .dataframe tbody tr th:only-of-type {\n",
       "        vertical-align: middle;\n",
       "    }\n",
       "\n",
       "    .dataframe tbody tr th {\n",
       "        vertical-align: top;\n",
       "    }\n",
       "\n",
       "    .dataframe thead th {\n",
       "        text-align: right;\n",
       "    }\n",
       "</style>\n",
       "<table border=\"1\" class=\"dataframe\">\n",
       "  <thead>\n",
       "    <tr style=\"text-align: right;\">\n",
       "      <th></th>\n",
       "      <th>Unnamed: 0</th>\n",
       "      <th>transcript_id</th>\n",
       "      <th>deletion_index_start</th>\n",
       "      <th>deletion_index_end</th>\n",
       "      <th>difference</th>\n",
       "      <th>synapse_probability</th>\n",
       "      <th>start_annotation</th>\n",
       "      <th>end_annotation</th>\n",
       "      <th>subseq</th>\n",
       "      <th>DDX41_K562_5081</th>\n",
       "      <th>...</th>\n",
       "      <th>PSMA1_K562_4017</th>\n",
       "      <th>HNRNPM_HepG2_ENCSR267UCX</th>\n",
       "      <th>DDX5_K562_5094</th>\n",
       "      <th>EIF2B5_K562_5020</th>\n",
       "      <th>GRSF1_HepG2_ENCSR668MJX</th>\n",
       "      <th>CTCF_K562_4065</th>\n",
       "      <th>PTBP1_K562_5015</th>\n",
       "      <th>BUD13_K562_ENCSR663WES</th>\n",
       "      <th>ZNF800_K562_ENCSR586DGV</th>\n",
       "      <th>annotation</th>\n",
       "    </tr>\n",
       "  </thead>\n",
       "  <tbody>\n",
       "    <tr>\n",
       "      <th>0</th>\n",
       "      <td>0</td>\n",
       "      <td>ENSMUST00000000001</td>\n",
       "      <td>0</td>\n",
       "      <td>30</td>\n",
       "      <td>0.001099</td>\n",
       "      <td>0.030640</td>\n",
       "      <td>UTR5</td>\n",
       "      <td>UTR5</td>\n",
       "      <td>CACACATCCGGTTCTTCCGGGAGCTAGGGG</td>\n",
       "      <td>0.683058</td>\n",
       "      <td>...</td>\n",
       "      <td>1.283283</td>\n",
       "      <td>0.876995</td>\n",
       "      <td>0.657180</td>\n",
       "      <td>0.930025</td>\n",
       "      <td>1.087041</td>\n",
       "      <td>0.832847</td>\n",
       "      <td>1.062546</td>\n",
       "      <td>0.805986</td>\n",
       "      <td>1.030347</td>\n",
       "      <td>UTR5</td>\n",
       "    </tr>\n",
       "    <tr>\n",
       "      <th>1</th>\n",
       "      <td>1</td>\n",
       "      <td>ENSMUST00000000001</td>\n",
       "      <td>15</td>\n",
       "      <td>45</td>\n",
       "      <td>0.001587</td>\n",
       "      <td>0.031128</td>\n",
       "      <td>UTR5</td>\n",
       "      <td>UTR5</td>\n",
       "      <td>TCCGGGAGCTAGGGGAGCTGACGGAGAAGG</td>\n",
       "      <td>0.717885</td>\n",
       "      <td>...</td>\n",
       "      <td>1.298946</td>\n",
       "      <td>0.854862</td>\n",
       "      <td>0.655983</td>\n",
       "      <td>0.935063</td>\n",
       "      <td>1.091558</td>\n",
       "      <td>0.830559</td>\n",
       "      <td>0.993782</td>\n",
       "      <td>0.825500</td>\n",
       "      <td>1.037019</td>\n",
       "      <td>UTR5</td>\n",
       "    </tr>\n",
       "    <tr>\n",
       "      <th>2</th>\n",
       "      <td>2</td>\n",
       "      <td>ENSMUST00000000001</td>\n",
       "      <td>30</td>\n",
       "      <td>60</td>\n",
       "      <td>-0.001343</td>\n",
       "      <td>0.028198</td>\n",
       "      <td>UTR5</td>\n",
       "      <td>UTR5</td>\n",
       "      <td>AGCTGACGGAGAAGGCCACCGCCCAGCAGA</td>\n",
       "      <td>0.703676</td>\n",
       "      <td>...</td>\n",
       "      <td>1.278871</td>\n",
       "      <td>0.762711</td>\n",
       "      <td>0.551953</td>\n",
       "      <td>0.989337</td>\n",
       "      <td>1.065208</td>\n",
       "      <td>0.833857</td>\n",
       "      <td>0.989719</td>\n",
       "      <td>0.878108</td>\n",
       "      <td>1.066518</td>\n",
       "      <td>UTR5</td>\n",
       "    </tr>\n",
       "    <tr>\n",
       "      <th>3</th>\n",
       "      <td>3</td>\n",
       "      <td>ENSMUST00000000001</td>\n",
       "      <td>45</td>\n",
       "      <td>75</td>\n",
       "      <td>-0.001099</td>\n",
       "      <td>0.028442</td>\n",
       "      <td>UTR5</td>\n",
       "      <td>UTR5</td>\n",
       "      <td>CCACCGCCCAGCAGAAGACCCGTCTCCGCC</td>\n",
       "      <td>0.693309</td>\n",
       "      <td>...</td>\n",
       "      <td>1.272163</td>\n",
       "      <td>0.718610</td>\n",
       "      <td>0.550091</td>\n",
       "      <td>0.954692</td>\n",
       "      <td>1.044909</td>\n",
       "      <td>0.850214</td>\n",
       "      <td>1.028174</td>\n",
       "      <td>0.850598</td>\n",
       "      <td>1.045744</td>\n",
       "      <td>UTR5</td>\n",
       "    </tr>\n",
       "    <tr>\n",
       "      <th>4</th>\n",
       "      <td>4</td>\n",
       "      <td>ENSMUST00000000001</td>\n",
       "      <td>60</td>\n",
       "      <td>90</td>\n",
       "      <td>0.002197</td>\n",
       "      <td>0.031738</td>\n",
       "      <td>UTR5</td>\n",
       "      <td>UTR5</td>\n",
       "      <td>AGACCCGTCTCCGCCGGTGTGTGGCGATTC</td>\n",
       "      <td>0.690357</td>\n",
       "      <td>...</td>\n",
       "      <td>1.287343</td>\n",
       "      <td>0.899127</td>\n",
       "      <td>0.635593</td>\n",
       "      <td>0.883729</td>\n",
       "      <td>1.067133</td>\n",
       "      <td>0.852685</td>\n",
       "      <td>1.053793</td>\n",
       "      <td>0.775946</td>\n",
       "      <td>1.029454</td>\n",
       "      <td>UTR5</td>\n",
       "    </tr>\n",
       "  </tbody>\n",
       "</table>\n",
       "<p>5 rows × 183 columns</p>\n",
       "</div>"
      ],
      "text/plain": [
       "   Unnamed: 0       transcript_id  deletion_index_start  deletion_index_end  \\\n",
       "0           0  ENSMUST00000000001                     0                  30   \n",
       "1           1  ENSMUST00000000001                    15                  45   \n",
       "2           2  ENSMUST00000000001                    30                  60   \n",
       "3           3  ENSMUST00000000001                    45                  75   \n",
       "4           4  ENSMUST00000000001                    60                  90   \n",
       "\n",
       "   difference  synapse_probability start_annotation end_annotation  \\\n",
       "0    0.001099             0.030640             UTR5           UTR5   \n",
       "1    0.001587             0.031128             UTR5           UTR5   \n",
       "2   -0.001343             0.028198             UTR5           UTR5   \n",
       "3   -0.001099             0.028442             UTR5           UTR5   \n",
       "4    0.002197             0.031738             UTR5           UTR5   \n",
       "\n",
       "                           subseq  DDX41_K562_5081  ...  PSMA1_K562_4017  \\\n",
       "0  CACACATCCGGTTCTTCCGGGAGCTAGGGG         0.683058  ...         1.283283   \n",
       "1  TCCGGGAGCTAGGGGAGCTGACGGAGAAGG         0.717885  ...         1.298946   \n",
       "2  AGCTGACGGAGAAGGCCACCGCCCAGCAGA         0.703676  ...         1.278871   \n",
       "3  CCACCGCCCAGCAGAAGACCCGTCTCCGCC         0.693309  ...         1.272163   \n",
       "4  AGACCCGTCTCCGCCGGTGTGTGGCGATTC         0.690357  ...         1.287343   \n",
       "\n",
       "   HNRNPM_HepG2_ENCSR267UCX  DDX5_K562_5094  EIF2B5_K562_5020  \\\n",
       "0                  0.876995        0.657180          0.930025   \n",
       "1                  0.854862        0.655983          0.935063   \n",
       "2                  0.762711        0.551953          0.989337   \n",
       "3                  0.718610        0.550091          0.954692   \n",
       "4                  0.899127        0.635593          0.883729   \n",
       "\n",
       "   GRSF1_HepG2_ENCSR668MJX  CTCF_K562_4065  PTBP1_K562_5015  \\\n",
       "0                 1.087041        0.832847         1.062546   \n",
       "1                 1.091558        0.830559         0.993782   \n",
       "2                 1.065208        0.833857         0.989719   \n",
       "3                 1.044909        0.850214         1.028174   \n",
       "4                 1.067133        0.852685         1.053793   \n",
       "\n",
       "   BUD13_K562_ENCSR663WES  ZNF800_K562_ENCSR586DGV  annotation  \n",
       "0                0.805986                 1.030347        UTR5  \n",
       "1                0.825500                 1.037019        UTR5  \n",
       "2                0.878108                 1.066518        UTR5  \n",
       "3                0.850598                 1.045744        UTR5  \n",
       "4                0.775946                 1.029454        UTR5  \n",
       "\n",
       "[5 rows x 183 columns]"
      ]
     },
     "execution_count": 2,
     "metadata": {},
     "output_type": "execute_result"
    }
   ],
   "source": [
    "data['annotation']=data.apply(\n",
    "    lambda row: 'UTR5' if row['start_annotation']=='UTR5' and row['end_annotation']=='UTR5' else\n",
    "     'UTR3' if row['start_annotation']=='UTR3' and row['end_annotation']=='UTR3' else 'CDS', axis = 1)\n",
    "data.head()"
   ]
  },
  {
   "cell_type": "code",
   "execution_count": 3,
   "id": "d9461fb5-5ac3-4aba-acf7-a3ca7f583fc4",
   "metadata": {
    "execution": {
     "iopub.execute_input": "2025-02-08T18:29:01.085500Z",
     "iopub.status.busy": "2025-02-08T18:29:01.084592Z",
     "iopub.status.idle": "2025-02-08T18:29:01.088207Z",
     "shell.execute_reply": "2025-02-08T18:29:01.087804Z",
     "shell.execute_reply.started": "2025-02-08T18:29:01.085479Z"
    }
   },
   "outputs": [],
   "source": [
    "# data.to_csv(outdir / 'Mouse_annotated_RBPNet.csv.gz')"
   ]
  },
  {
   "cell_type": "code",
   "execution_count": 4,
   "id": "c027ea9a-5087-4601-9d89-ccebb50bc162",
   "metadata": {
    "execution": {
     "iopub.execute_input": "2025-02-08T18:29:01.090828Z",
     "iopub.status.busy": "2025-02-08T18:29:01.089800Z",
     "iopub.status.idle": "2025-02-08T18:29:01.508171Z",
     "shell.execute_reply": "2025-02-08T18:29:01.507772Z",
     "shell.execute_reply.started": "2025-02-08T18:29:01.090809Z"
    }
   },
   "outputs": [
    {
     "data": {
      "text/plain": [
       "<Axes: >"
      ]
     },
     "execution_count": 4,
     "metadata": {},
     "output_type": "execute_result"
    },
    {
     "data": {
      "image/png": "[encoded data removed]",
      "text/plain": [
       "<Figure size 640x480 with 1 Axes>"
      ]
     },
     "metadata": {},
     "output_type": "display_data"
    }
   ],
   "source": [
    "data['difference'].hist(bins = 100)"
   ]
  },
  {
   "cell_type": "code",
   "execution_count": 5,
   "id": "30cf335e-8c6b-4739-beb3-3e210cf9659b",
   "metadata": {
    "execution": {
     "iopub.execute_input": "2025-02-08T18:29:01.510905Z",
     "iopub.status.busy": "2025-02-08T18:29:01.509926Z",
     "iopub.status.idle": "2025-02-08T18:29:01.605940Z",
     "shell.execute_reply": "2025-02-08T18:29:01.605536Z",
     "shell.execute_reply.started": "2025-02-08T18:29:01.510883Z"
    }
   },
   "outputs": [
    {
     "name": "stderr",
     "output_type": "stream",
     "text": [
      "/tmp/ipykernel_4010927/369381809.py:2: PerformanceWarning: DataFrame is highly fragmented.  This is usually the result of calling `frame.insert` many times, which has poor performance.  Consider joining all columns at once using pd.concat(axis=1) instead. To get a de-fragmented frame, use `newframe = frame.copy()`\n",
      "  data['difference_bin'] = pd.cut(data['difference'], bins = [-np.inf, -0.1, 0.1, np.inf],\n"
     ]
    }
   ],
   "source": [
    "import numpy as np\n",
    "data['difference_bin'] = pd.cut(data['difference'], bins = [-np.inf, -0.1, 0.1, np.inf],\n",
    "                               labels = ['<-0.1', 'middle', '>0.1'])"
   ]
  },
  {
   "cell_type": "code",
   "execution_count": 6,
   "id": "32b46b18-d62a-42f4-a25a-555d6589157e",
   "metadata": {
    "execution": {
     "iopub.execute_input": "2025-02-08T18:29:01.608462Z",
     "iopub.status.busy": "2025-02-08T18:29:01.607554Z",
     "iopub.status.idle": "2025-02-08T18:29:01.612662Z",
     "shell.execute_reply": "2025-02-08T18:29:01.612146Z",
     "shell.execute_reply.started": "2025-02-08T18:29:01.608441Z"
    }
   },
   "outputs": [
    {
     "data": {
      "text/plain": [
       "'ZNF800_K562_ENCSR586DGV'"
      ]
     },
     "execution_count": 6,
     "metadata": {},
     "output_type": "execute_result"
    }
   ],
   "source": [
    "name"
   ]
  },
  {
   "cell_type": "code",
   "execution_count": 7,
   "id": "941b6231-2a29-4a85-bcbe-3086b51c83a2",
   "metadata": {
    "execution": {
     "iopub.execute_input": "2025-02-08T18:29:01.615360Z",
     "iopub.status.busy": "2025-02-08T18:29:01.614398Z",
     "iopub.status.idle": "2025-02-08T18:29:08.795213Z",
     "shell.execute_reply": "2025-02-08T18:29:08.794811Z",
     "shell.execute_reply.started": "2025-02-08T18:29:01.615339Z"
    }
   },
   "outputs": [
    {
     "data": {
      "text/plain": [
       "<Axes: xlabel='annotation', ylabel='SFPQ_HepG2_ENCSR965DLL'>"
      ]
     },
     "execution_count": 7,
     "metadata": {},
     "output_type": "execute_result"
    },
    {
     "data": {
      "image/png": "[encoded data removed]",
      "text/plain": [
       "<Figure size 640x480 with 1 Axes>"
      ]
     },
     "metadata": {},
     "output_type": "display_data"
    }
   ],
   "source": [
    "sns.boxplot(data, x = 'annotation', y = 'SFPQ_HepG2_ENCSR965DLL', hue = 'difference_bin', showfliers=False)"
   ]
  },
  {
   "cell_type": "code",
   "execution_count": 8,
   "id": "7cb0072e-5c3f-4f2b-87ce-52da05a237b2",
   "metadata": {
    "execution": {
     "iopub.execute_input": "2025-02-08T18:29:08.797809Z",
     "iopub.status.busy": "2025-02-08T18:29:08.796906Z",
     "iopub.status.idle": "2025-02-08T18:29:08.822892Z",
     "shell.execute_reply": "2025-02-08T18:29:08.822478Z",
     "shell.execute_reply.started": "2025-02-08T18:29:08.797787Z"
    }
   },
   "outputs": [
    {
     "data": {
      "text/plain": [
       "0          middle\n",
       "1          middle\n",
       "2          middle\n",
       "3          middle\n",
       "4          middle\n",
       "            ...  \n",
       "5722825    middle\n",
       "5722826    middle\n",
       "5722827    middle\n",
       "5722828    middle\n",
       "5722829    middle\n",
       "Name: difference_bin, Length: 5722830, dtype: category\n",
       "Categories (3, object): ['<-0.1' < 'middle' < '>0.1']"
      ]
     },
     "execution_count": 8,
     "metadata": {},
     "output_type": "execute_result"
    }
   ],
   "source": [
    "data['difference_bin']"
   ]
  },
  {
   "cell_type": "code",
   "execution_count": 9,
   "id": "7173c4ba-e86f-4426-9601-663278cd5df8",
   "metadata": {
    "execution": {
     "iopub.execute_input": "2025-02-08T18:29:08.826539Z",
     "iopub.status.busy": "2025-02-08T18:29:08.825492Z",
     "iopub.status.idle": "2025-02-08T18:38:14.949615Z",
     "shell.execute_reply": "2025-02-08T18:38:14.948946Z",
     "shell.execute_reply.started": "2025-02-08T18:29:08.826515Z"
    }
   },
   "outputs": [],
   "source": [
    "from scipy.stats import ks_2samp\n",
    "stat = []\n",
    "for exp in data.columns[9:-2]:\n",
    "    for annotation in ['UTR5', 'CDS', 'UTR3']:\n",
    "        for cat in ['<-0.1', '>0.1']:\n",
    "            ks, pv = ks_2samp(data.loc[(data['annotation']==annotation)&\n",
    "                                        (data['difference_bin']==cat),\n",
    "                                        exp], \n",
    "                                        data.loc[(data['annotation']==annotation)&\n",
    "                                        (data['difference_bin']=='middle'),\n",
    "                                        exp], alternative='two-sided')\n",
    "            stat.append([ks, pv, exp, cat, annotation])\n",
    "        \n",
    "    "
   ]
  },
  {
   "cell_type": "code",
   "execution_count": 10,
   "id": "f0e188fe-e9f1-4b04-8d72-ae6a948043ee",
   "metadata": {
    "execution": {
     "iopub.execute_input": "2025-02-08T18:38:14.952918Z",
     "iopub.status.busy": "2025-02-08T18:38:14.951913Z",
     "iopub.status.idle": "2025-02-08T18:38:14.957084Z",
     "shell.execute_reply": "2025-02-08T18:38:14.956741Z",
     "shell.execute_reply.started": "2025-02-08T18:38:14.952897Z"
    }
   },
   "outputs": [],
   "source": [
    "stat = pd.DataFrame(stat, columns = ['KS statistics', 'pvalue', 'RBPNet_model', 'category', 'annotation'])"
   ]
  },
  {
   "cell_type": "code",
   "execution_count": 11,
   "id": "02b97d6a-30a1-43cb-83b4-9e2d92c051cf",
   "metadata": {
    "execution": {
     "iopub.execute_input": "2025-02-08T18:38:14.959443Z",
     "iopub.status.busy": "2025-02-08T18:38:14.958547Z",
     "iopub.status.idle": "2025-02-08T18:38:15.144180Z",
     "shell.execute_reply": "2025-02-08T18:38:15.143778Z",
     "shell.execute_reply.started": "2025-02-08T18:38:14.959424Z"
    }
   },
   "outputs": [
    {
     "data": {
      "text/html": [
       "<div>\n",
       "<style scoped>\n",
       "    .dataframe tbody tr th:only-of-type {\n",
       "        vertical-align: middle;\n",
       "    }\n",
       "\n",
       "    .dataframe tbody tr th {\n",
       "        vertical-align: top;\n",
       "    }\n",
       "\n",
       "    .dataframe thead th {\n",
       "        text-align: right;\n",
       "    }\n",
       "</style>\n",
       "<table border=\"1\" class=\"dataframe\">\n",
       "  <thead>\n",
       "    <tr style=\"text-align: right;\">\n",
       "      <th></th>\n",
       "      <th>KS statistics</th>\n",
       "      <th>pvalue</th>\n",
       "      <th>RBPNet_model</th>\n",
       "      <th>category</th>\n",
       "      <th>annotation</th>\n",
       "    </tr>\n",
       "  </thead>\n",
       "  <tbody>\n",
       "    <tr>\n",
       "      <th>0</th>\n",
       "      <td>0.028681</td>\n",
       "      <td>6.832860e-01</td>\n",
       "      <td>DDX41_K562_5081</td>\n",
       "      <td>&lt;-0.1</td>\n",
       "      <td>UTR5</td>\n",
       "    </tr>\n",
       "    <tr>\n",
       "      <th>1</th>\n",
       "      <td>0.034531</td>\n",
       "      <td>7.661756e-01</td>\n",
       "      <td>DDX41_K562_5081</td>\n",
       "      <td>&gt;0.1</td>\n",
       "      <td>UTR5</td>\n",
       "    </tr>\n",
       "    <tr>\n",
       "      <th>2</th>\n",
       "      <td>0.046089</td>\n",
       "      <td>1.816721e-28</td>\n",
       "      <td>DDX41_K562_5081</td>\n",
       "      <td>&lt;-0.1</td>\n",
       "      <td>CDS</td>\n",
       "    </tr>\n",
       "    <tr>\n",
       "      <th>3</th>\n",
       "      <td>0.029865</td>\n",
       "      <td>1.954611e-02</td>\n",
       "      <td>DDX41_K562_5081</td>\n",
       "      <td>&gt;0.1</td>\n",
       "      <td>CDS</td>\n",
       "    </tr>\n",
       "    <tr>\n",
       "      <th>4</th>\n",
       "      <td>0.186890</td>\n",
       "      <td>5.382955e-08</td>\n",
       "      <td>DDX41_K562_5081</td>\n",
       "      <td>&lt;-0.1</td>\n",
       "      <td>UTR3</td>\n",
       "    </tr>\n",
       "    <tr>\n",
       "      <th>...</th>\n",
       "      <td>...</td>\n",
       "      <td>...</td>\n",
       "      <td>...</td>\n",
       "      <td>...</td>\n",
       "      <td>...</td>\n",
       "    </tr>\n",
       "    <tr>\n",
       "      <th>1033</th>\n",
       "      <td>0.061878</td>\n",
       "      <td>1.189826e-01</td>\n",
       "      <td>ZNF800_K562_ENCSR586DGV</td>\n",
       "      <td>&gt;0.1</td>\n",
       "      <td>UTR5</td>\n",
       "    </tr>\n",
       "    <tr>\n",
       "      <th>1034</th>\n",
       "      <td>0.132168</td>\n",
       "      <td>9.502480e-232</td>\n",
       "      <td>ZNF800_K562_ENCSR586DGV</td>\n",
       "      <td>&lt;-0.1</td>\n",
       "      <td>CDS</td>\n",
       "    </tr>\n",
       "    <tr>\n",
       "      <th>1035</th>\n",
       "      <td>0.030986</td>\n",
       "      <td>1.372807e-02</td>\n",
       "      <td>ZNF800_K562_ENCSR586DGV</td>\n",
       "      <td>&gt;0.1</td>\n",
       "      <td>CDS</td>\n",
       "    </tr>\n",
       "    <tr>\n",
       "      <th>1036</th>\n",
       "      <td>0.084030</td>\n",
       "      <td>5.846302e-02</td>\n",
       "      <td>ZNF800_K562_ENCSR586DGV</td>\n",
       "      <td>&lt;-0.1</td>\n",
       "      <td>UTR3</td>\n",
       "    </tr>\n",
       "    <tr>\n",
       "      <th>1037</th>\n",
       "      <td>0.138689</td>\n",
       "      <td>1.925290e-02</td>\n",
       "      <td>ZNF800_K562_ENCSR586DGV</td>\n",
       "      <td>&gt;0.1</td>\n",
       "      <td>UTR3</td>\n",
       "    </tr>\n",
       "  </tbody>\n",
       "</table>\n",
       "<p>1038 rows × 5 columns</p>\n",
       "</div>"
      ],
      "text/plain": [
       "      KS statistics         pvalue             RBPNet_model category  \\\n",
       "0          0.028681   6.832860e-01          DDX41_K562_5081    <-0.1   \n",
       "1          0.034531   7.661756e-01          DDX41_K562_5081     >0.1   \n",
       "2          0.046089   1.816721e-28          DDX41_K562_5081    <-0.1   \n",
       "3          0.029865   1.954611e-02          DDX41_K562_5081     >0.1   \n",
       "4          0.186890   5.382955e-08          DDX41_K562_5081    <-0.1   \n",
       "...             ...            ...                      ...      ...   \n",
       "1033       0.061878   1.189826e-01  ZNF800_K562_ENCSR586DGV     >0.1   \n",
       "1034       0.132168  9.502480e-232  ZNF800_K562_ENCSR586DGV    <-0.1   \n",
       "1035       0.030986   1.372807e-02  ZNF800_K562_ENCSR586DGV     >0.1   \n",
       "1036       0.084030   5.846302e-02  ZNF800_K562_ENCSR586DGV    <-0.1   \n",
       "1037       0.138689   1.925290e-02  ZNF800_K562_ENCSR586DGV     >0.1   \n",
       "\n",
       "     annotation  \n",
       "0          UTR5  \n",
       "1          UTR5  \n",
       "2           CDS  \n",
       "3           CDS  \n",
       "4          UTR3  \n",
       "...         ...  \n",
       "1033       UTR5  \n",
       "1034        CDS  \n",
       "1035        CDS  \n",
       "1036       UTR3  \n",
       "1037       UTR3  \n",
       "\n",
       "[1038 rows x 5 columns]"
      ]
     },
     "execution_count": 11,
     "metadata": {},
     "output_type": "execute_result"
    }
   ],
   "source": [
    "stat"
   ]
  },
  {
   "cell_type": "code",
   "execution_count": 12,
   "id": "c00ded7a-66dc-447b-b49f-1a91258ae01a",
   "metadata": {
    "execution": {
     "iopub.execute_input": "2025-02-08T18:38:15.146798Z",
     "iopub.status.busy": "2025-02-08T18:38:15.145853Z",
     "iopub.status.idle": "2025-02-08T18:38:15.156140Z",
     "shell.execute_reply": "2025-02-08T18:38:15.155770Z",
     "shell.execute_reply.started": "2025-02-08T18:38:15.146777Z"
    }
   },
   "outputs": [
    {
     "data": {
      "text/html": [
       "<div>\n",
       "<style scoped>\n",
       "    .dataframe tbody tr th:only-of-type {\n",
       "        vertical-align: middle;\n",
       "    }\n",
       "\n",
       "    .dataframe tbody tr th {\n",
       "        vertical-align: top;\n",
       "    }\n",
       "\n",
       "    .dataframe thead th {\n",
       "        text-align: right;\n",
       "    }\n",
       "</style>\n",
       "<table border=\"1\" class=\"dataframe\">\n",
       "  <thead>\n",
       "    <tr style=\"text-align: right;\">\n",
       "      <th></th>\n",
       "      <th>KS statistics</th>\n",
       "      <th>pvalue</th>\n",
       "      <th>RBPNet_model</th>\n",
       "      <th>category</th>\n",
       "      <th>annotation</th>\n",
       "    </tr>\n",
       "  </thead>\n",
       "  <tbody>\n",
       "    <tr>\n",
       "      <th>140</th>\n",
       "      <td>0.303193</td>\n",
       "      <td>0.000000</td>\n",
       "      <td>ELAC2_K562_4224</td>\n",
       "      <td>&lt;-0.1</td>\n",
       "      <td>CDS</td>\n",
       "    </tr>\n",
       "    <tr>\n",
       "      <th>848</th>\n",
       "      <td>0.312983</td>\n",
       "      <td>0.000000</td>\n",
       "      <td>TIA1_K562_ENCSR057DWB</td>\n",
       "      <td>&lt;-0.1</td>\n",
       "      <td>CDS</td>\n",
       "    </tr>\n",
       "    <tr>\n",
       "      <th>758</th>\n",
       "      <td>0.210529</td>\n",
       "      <td>0.000000</td>\n",
       "      <td>DDX3X_K562_ENCSR930BZL</td>\n",
       "      <td>&lt;-0.1</td>\n",
       "      <td>CDS</td>\n",
       "    </tr>\n",
       "    <tr>\n",
       "      <th>320</th>\n",
       "      <td>0.222635</td>\n",
       "      <td>0.000000</td>\n",
       "      <td>PRPF39_HepG2_4114</td>\n",
       "      <td>&lt;-0.1</td>\n",
       "      <td>CDS</td>\n",
       "    </tr>\n",
       "    <tr>\n",
       "      <th>314</th>\n",
       "      <td>0.195389</td>\n",
       "      <td>0.000000</td>\n",
       "      <td>TIAL1_HepG2_ENCSR322HHA</td>\n",
       "      <td>&lt;-0.1</td>\n",
       "      <td>CDS</td>\n",
       "    </tr>\n",
       "    <tr>\n",
       "      <th>...</th>\n",
       "      <td>...</td>\n",
       "      <td>...</td>\n",
       "      <td>...</td>\n",
       "      <td>...</td>\n",
       "      <td>...</td>\n",
       "    </tr>\n",
       "    <tr>\n",
       "      <th>967</th>\n",
       "      <td>0.028519</td>\n",
       "      <td>0.921011</td>\n",
       "      <td>NONO_HepG2_4084</td>\n",
       "      <td>&gt;0.1</td>\n",
       "      <td>UTR5</td>\n",
       "    </tr>\n",
       "    <tr>\n",
       "      <th>31</th>\n",
       "      <td>0.028510</td>\n",
       "      <td>0.921193</td>\n",
       "      <td>PRK2_K562_5064</td>\n",
       "      <td>&gt;0.1</td>\n",
       "      <td>UTR5</td>\n",
       "    </tr>\n",
       "    <tr>\n",
       "      <th>858</th>\n",
       "      <td>0.020811</td>\n",
       "      <td>0.948288</td>\n",
       "      <td>SF3B4_K562_ENCSR267OLV</td>\n",
       "      <td>&lt;-0.1</td>\n",
       "      <td>UTR5</td>\n",
       "    </tr>\n",
       "    <tr>\n",
       "      <th>288</th>\n",
       "      <td>0.020661</td>\n",
       "      <td>0.951202</td>\n",
       "      <td>PDCD4_K562_5075</td>\n",
       "      <td>&lt;-0.1</td>\n",
       "      <td>UTR5</td>\n",
       "    </tr>\n",
       "    <tr>\n",
       "      <th>378</th>\n",
       "      <td>0.018373</td>\n",
       "      <td>0.983476</td>\n",
       "      <td>AKAP8L_K562_ENCSR206RXT</td>\n",
       "      <td>&lt;-0.1</td>\n",
       "      <td>UTR5</td>\n",
       "    </tr>\n",
       "  </tbody>\n",
       "</table>\n",
       "<p>1038 rows × 5 columns</p>\n",
       "</div>"
      ],
      "text/plain": [
       "     KS statistics    pvalue             RBPNet_model category annotation\n",
       "140       0.303193  0.000000          ELAC2_K562_4224    <-0.1        CDS\n",
       "848       0.312983  0.000000    TIA1_K562_ENCSR057DWB    <-0.1        CDS\n",
       "758       0.210529  0.000000   DDX3X_K562_ENCSR930BZL    <-0.1        CDS\n",
       "320       0.222635  0.000000        PRPF39_HepG2_4114    <-0.1        CDS\n",
       "314       0.195389  0.000000  TIAL1_HepG2_ENCSR322HHA    <-0.1        CDS\n",
       "..             ...       ...                      ...      ...        ...\n",
       "967       0.028519  0.921011          NONO_HepG2_4084     >0.1       UTR5\n",
       "31        0.028510  0.921193           PRK2_K562_5064     >0.1       UTR5\n",
       "858       0.020811  0.948288   SF3B4_K562_ENCSR267OLV    <-0.1       UTR5\n",
       "288       0.020661  0.951202          PDCD4_K562_5075    <-0.1       UTR5\n",
       "378       0.018373  0.983476  AKAP8L_K562_ENCSR206RXT    <-0.1       UTR5\n",
       "\n",
       "[1038 rows x 5 columns]"
      ]
     },
     "execution_count": 12,
     "metadata": {},
     "output_type": "execute_result"
    }
   ],
   "source": [
    "stat.sort_values(by = 'pvalue')"
   ]
  },
  {
   "cell_type": "code",
   "execution_count": 13,
   "id": "b3a2dc25-b4c7-4f32-b8c1-95cbd8a923c4",
   "metadata": {
    "execution": {
     "iopub.execute_input": "2025-02-08T18:38:15.158688Z",
     "iopub.status.busy": "2025-02-08T18:38:15.157726Z",
     "iopub.status.idle": "2025-02-08T18:38:15.175303Z",
     "shell.execute_reply": "2025-02-08T18:38:15.174841Z",
     "shell.execute_reply.started": "2025-02-08T18:38:15.158668Z"
    }
   },
   "outputs": [
    {
     "data": {
      "text/html": [
       "<div>\n",
       "<style scoped>\n",
       "    .dataframe tbody tr th:only-of-type {\n",
       "        vertical-align: middle;\n",
       "    }\n",
       "\n",
       "    .dataframe tbody tr th {\n",
       "        vertical-align: top;\n",
       "    }\n",
       "\n",
       "    .dataframe thead th {\n",
       "        text-align: right;\n",
       "    }\n",
       "</style>\n",
       "<table border=\"1\" class=\"dataframe\">\n",
       "  <thead>\n",
       "    <tr style=\"text-align: right;\">\n",
       "      <th></th>\n",
       "      <th>KS statistics</th>\n",
       "      <th>pvalue</th>\n",
       "      <th>RBPNet_model</th>\n",
       "      <th>category</th>\n",
       "      <th>annotation</th>\n",
       "    </tr>\n",
       "  </thead>\n",
       "  <tbody>\n",
       "    <tr>\n",
       "      <th>0</th>\n",
       "      <td>0.028681</td>\n",
       "      <td>6.832860e-01</td>\n",
       "      <td>DDX41_K562_5081</td>\n",
       "      <td>&lt;-0.1</td>\n",
       "      <td>UTR5</td>\n",
       "    </tr>\n",
       "    <tr>\n",
       "      <th>1</th>\n",
       "      <td>0.034531</td>\n",
       "      <td>7.661756e-01</td>\n",
       "      <td>DDX41_K562_5081</td>\n",
       "      <td>&gt;0.1</td>\n",
       "      <td>UTR5</td>\n",
       "    </tr>\n",
       "    <tr>\n",
       "      <th>2</th>\n",
       "      <td>0.046089</td>\n",
       "      <td>1.816721e-28</td>\n",
       "      <td>DDX41_K562_5081</td>\n",
       "      <td>&lt;-0.1</td>\n",
       "      <td>CDS</td>\n",
       "    </tr>\n",
       "    <tr>\n",
       "      <th>3</th>\n",
       "      <td>0.029865</td>\n",
       "      <td>1.954611e-02</td>\n",
       "      <td>DDX41_K562_5081</td>\n",
       "      <td>&gt;0.1</td>\n",
       "      <td>CDS</td>\n",
       "    </tr>\n",
       "    <tr>\n",
       "      <th>4</th>\n",
       "      <td>0.186890</td>\n",
       "      <td>5.382955e-08</td>\n",
       "      <td>DDX41_K562_5081</td>\n",
       "      <td>&lt;-0.1</td>\n",
       "      <td>UTR3</td>\n",
       "    </tr>\n",
       "    <tr>\n",
       "      <th>...</th>\n",
       "      <td>...</td>\n",
       "      <td>...</td>\n",
       "      <td>...</td>\n",
       "      <td>...</td>\n",
       "      <td>...</td>\n",
       "    </tr>\n",
       "    <tr>\n",
       "      <th>1033</th>\n",
       "      <td>0.061878</td>\n",
       "      <td>1.189826e-01</td>\n",
       "      <td>ZNF800_K562_ENCSR586DGV</td>\n",
       "      <td>&gt;0.1</td>\n",
       "      <td>UTR5</td>\n",
       "    </tr>\n",
       "    <tr>\n",
       "      <th>1034</th>\n",
       "      <td>0.132168</td>\n",
       "      <td>9.502480e-232</td>\n",
       "      <td>ZNF800_K562_ENCSR586DGV</td>\n",
       "      <td>&lt;-0.1</td>\n",
       "      <td>CDS</td>\n",
       "    </tr>\n",
       "    <tr>\n",
       "      <th>1035</th>\n",
       "      <td>0.030986</td>\n",
       "      <td>1.372807e-02</td>\n",
       "      <td>ZNF800_K562_ENCSR586DGV</td>\n",
       "      <td>&gt;0.1</td>\n",
       "      <td>CDS</td>\n",
       "    </tr>\n",
       "    <tr>\n",
       "      <th>1036</th>\n",
       "      <td>0.084030</td>\n",
       "      <td>5.846302e-02</td>\n",
       "      <td>ZNF800_K562_ENCSR586DGV</td>\n",
       "      <td>&lt;-0.1</td>\n",
       "      <td>UTR3</td>\n",
       "    </tr>\n",
       "    <tr>\n",
       "      <th>1037</th>\n",
       "      <td>0.138689</td>\n",
       "      <td>1.925290e-02</td>\n",
       "      <td>ZNF800_K562_ENCSR586DGV</td>\n",
       "      <td>&gt;0.1</td>\n",
       "      <td>UTR3</td>\n",
       "    </tr>\n",
       "  </tbody>\n",
       "</table>\n",
       "<p>1038 rows × 5 columns</p>\n",
       "</div>"
      ],
      "text/plain": [
       "      KS statistics         pvalue             RBPNet_model category  \\\n",
       "0          0.028681   6.832860e-01          DDX41_K562_5081    <-0.1   \n",
       "1          0.034531   7.661756e-01          DDX41_K562_5081     >0.1   \n",
       "2          0.046089   1.816721e-28          DDX41_K562_5081    <-0.1   \n",
       "3          0.029865   1.954611e-02          DDX41_K562_5081     >0.1   \n",
       "4          0.186890   5.382955e-08          DDX41_K562_5081    <-0.1   \n",
       "...             ...            ...                      ...      ...   \n",
       "1033       0.061878   1.189826e-01  ZNF800_K562_ENCSR586DGV     >0.1   \n",
       "1034       0.132168  9.502480e-232  ZNF800_K562_ENCSR586DGV    <-0.1   \n",
       "1035       0.030986   1.372807e-02  ZNF800_K562_ENCSR586DGV     >0.1   \n",
       "1036       0.084030   5.846302e-02  ZNF800_K562_ENCSR586DGV    <-0.1   \n",
       "1037       0.138689   1.925290e-02  ZNF800_K562_ENCSR586DGV     >0.1   \n",
       "\n",
       "     annotation  \n",
       "0          UTR5  \n",
       "1          UTR5  \n",
       "2           CDS  \n",
       "3           CDS  \n",
       "4          UTR3  \n",
       "...         ...  \n",
       "1033       UTR5  \n",
       "1034        CDS  \n",
       "1035        CDS  \n",
       "1036       UTR3  \n",
       "1037       UTR3  \n",
       "\n",
       "[1038 rows x 5 columns]"
      ]
     },
     "execution_count": 13,
     "metadata": {},
     "output_type": "execute_result"
    }
   ],
   "source": [
    "stat"
   ]
  },
  {
   "cell_type": "code",
   "execution_count": 14,
   "id": "a1eb2869-baa8-497e-a3b6-bd0f92c988c1",
   "metadata": {
    "execution": {
     "iopub.execute_input": "2025-02-08T18:38:15.177999Z",
     "iopub.status.busy": "2025-02-08T18:38:15.177047Z",
     "iopub.status.idle": "2025-02-08T18:38:15.299304Z",
     "shell.execute_reply": "2025-02-08T18:38:15.297828Z",
     "shell.execute_reply.started": "2025-02-08T18:38:15.177979Z"
    }
   },
   "outputs": [],
   "source": [
    "#https://www.syngoportal.org/gene_hgnc10774\n",
    "#SynpatomeDB, synsysnet, integrated synapse proteome"
   ]
  },
  {
   "cell_type": "code",
   "execution_count": 15,
   "id": "25f24799-71a7-4ed3-ad0b-18ce920ce104",
   "metadata": {
    "execution": {
     "iopub.execute_input": "2025-02-08T18:38:15.306483Z",
     "iopub.status.busy": "2025-02-08T18:38:15.304539Z",
     "iopub.status.idle": "2025-02-08T18:38:15.501543Z",
     "shell.execute_reply": "2025-02-08T18:38:15.501145Z",
     "shell.execute_reply.started": "2025-02-08T18:38:15.306448Z"
    }
   },
   "outputs": [
    {
     "data": {
      "text/plain": [
       "<Axes: >"
      ]
     },
     "execution_count": 15,
     "metadata": {},
     "output_type": "execute_result"
    },
    {
     "data": {
      "image/png": "[encoded data removed]",
      "text/plain": [
       "<Figure size 640x480 with 1 Axes>"
      ]
     },
     "metadata": {},
     "output_type": "display_data"
    }
   ],
   "source": [
    "stat['pvalue'].hist()"
   ]
  },
  {
   "cell_type": "code",
   "execution_count": 16,
   "id": "3be79722-9163-49ee-baf8-e53571a9c48d",
   "metadata": {
    "execution": {
     "iopub.execute_input": "2025-02-08T18:38:15.504048Z",
     "iopub.status.busy": "2025-02-08T18:38:15.503157Z",
     "iopub.status.idle": "2025-02-08T18:38:47.361981Z",
     "shell.execute_reply": "2025-02-08T18:38:47.361000Z",
     "shell.execute_reply.started": "2025-02-08T18:38:15.504028Z"
    }
   },
   "outputs": [
    {
     "data": {
      "text/plain": [
       "<Axes: xlabel='ZNF800_K562_ENCSR586DGV', ylabel='difference'>"
      ]
     },
     "execution_count": 16,
     "metadata": {},
     "output_type": "execute_result"
    },
    {
     "data": {
      "image/png": "[encoded data removed]",
      "text/plain": [
       "<Figure size 640x480 with 1 Axes>"
      ]
     },
     "metadata": {},
     "output_type": "display_data"
    }
   ],
   "source": [
    "data.plot.scatter(x = name, y = 'difference', alpha = 0.01)"
   ]
  },
  {
   "cell_type": "code",
   "execution_count": 17,
   "id": "89f25006-80c7-41f6-bfd2-96e5178fd870",
   "metadata": {
    "execution": {
     "iopub.execute_input": "2025-02-08T18:38:47.363216Z",
     "iopub.status.busy": "2025-02-08T18:38:47.362964Z",
     "iopub.status.idle": "2025-02-08T18:38:47.387656Z",
     "shell.execute_reply": "2025-02-08T18:38:47.386446Z",
     "shell.execute_reply.started": "2025-02-08T18:38:47.363189Z"
    }
   },
   "outputs": [
    {
     "ename": "SyntaxError",
     "evalue": "EOL while scanning string literal (670594129.py, line 1)",
     "output_type": "error",
     "traceback": [
      "\u001b[0;36m  Cell \u001b[0;32mIn[17], line 1\u001b[0;36m\u001b[0m\n\u001b[0;31m    data.plot.scatter(x = name, y = 'difference', alpha = 0.01, hue = ')\u001b[0m\n\u001b[0m                                                                        ^\u001b[0m\n\u001b[0;31mSyntaxError\u001b[0m\u001b[0;31m:\u001b[0m EOL while scanning string literal\n"
     ]
    }
   ],
   "source": [
    "data.plot.scatter(x = name, y = 'difference', alpha = 0.01, hue = ')"
   ]
  },
  {
   "cell_type": "code",
   "execution_count": null,
   "id": "8d0949c6-a724-4f36-98d2-9b98c83789ae",
   "metadata": {},
   "outputs": [],
   "source": []
  }
 ],
 "metadata": {
  "kernelspec": {
   "display_name": "Python 3 (ipykernel)",
   "language": "python",
   "name": "python3"
  },
  "language_info": {
   "codemirror_mode": {
    "name": "ipython",
    "version": 3
   },
   "file_extension": ".py",
   "mimetype": "text/x-python",
   "name": "python",
   "nbconvert_exporter": "python",
   "pygments_lexer": "ipython3",
   "version": "3.9.15"
  }
 },
 "nbformat": 4,
 "nbformat_minor": 5
}
