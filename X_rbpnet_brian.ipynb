{
 "cells": [
  {
   "cell_type": "markdown",
   "id": "7845df4b-e17a-44e0-a644-0aa2f07fffa0",
   "metadata": {},
   "source": [
    "# Compares logodds prediction scores between my run and Charlene's"
   ]
  },
  {
   "cell_type": "code",
   "execution_count": 6,
   "id": "7d9f3be8-6c22-40a8-8dd0-9687c47f603e",
   "metadata": {
    "execution": {
     "iopub.execute_input": "2025-02-11T23:23:04.494452Z",
     "iopub.status.busy": "2025-02-11T23:23:04.494309Z",
     "iopub.status.idle": "2025-02-11T23:23:04.496974Z",
     "shell.execute_reply": "2025-02-11T23:23:04.496581Z",
     "shell.execute_reply.started": "2025-02-11T23:23:04.494433Z"
    }
   },
   "outputs": [],
   "source": [
    "import pandas as pd\n",
    "import os\n",
    "import numpy as np\n",
    "import glob\n",
    "from tqdm import trange, tqdm_notebook"
   ]
  },
  {
   "cell_type": "code",
   "execution_count": 7,
   "id": "b93c4a84-d474-4fbe-b042-7238d594008d",
   "metadata": {
    "execution": {
     "iopub.execute_input": "2025-02-11T23:23:45.310716Z",
     "iopub.status.busy": "2025-02-11T23:23:45.310514Z",
     "iopub.status.idle": "2025-02-11T23:23:45.313027Z",
     "shell.execute_reply": "2025-02-11T23:23:45.312611Z",
     "shell.execute_reply.started": "2025-02-11T23:23:45.310700Z"
    }
   },
   "outputs": [],
   "source": [
    "d1 = '/tscc/nfs/home/bay001/projects/karen_synapse_20240529/permanent_data/charlene_work/eclip_model_scores_human_30bp/output'\n",
    "d2 = '/tscc/projects/ps-yeolab5/hsher/karen_data/eclip_model_scores_human_30bp/output/'"
   ]
  },
  {
   "cell_type": "code",
   "execution_count": 11,
   "id": "b3047fab-3d23-4335-b35f-9d633154d31d",
   "metadata": {
    "execution": {
     "iopub.execute_input": "2025-02-11T23:25:08.720158Z",
     "iopub.status.busy": "2025-02-11T23:25:08.720005Z",
     "iopub.status.idle": "2025-02-11T23:34:50.418267Z",
     "shell.execute_reply": "2025-02-11T23:34:50.417820Z",
     "shell.execute_reply.started": "2025-02-11T23:25:08.720143Z"
    }
   },
   "outputs": [
    {
     "name": "stderr",
     "output_type": "stream",
     "text": [
      "ADAT1_K562_4217.score.csv:   0%|          | 0/173 [00:00<?, ?it/s]      "
     ]
    },
    {
     "name": "stdout",
     "output_type": "stream",
     "text": [
      "Cant find original file (/tscc/projects/ps-yeolab5/hsher/karen_data/eclip_model_scores_human_30bp/output/AARS_K562_ENCSR825SVO.score.csv)\n"
     ]
    },
    {
     "name": "stderr",
     "output_type": "stream",
     "text": [
      "ZRANB2_K562_ENCSR663NRA.score.csv:  99%|█████████▉| 172/173 [09:41<00:03,  3.75s/it]  "
     ]
    }
   ],
   "source": [
    "f1s = sorted(glob.glob(os.path.join(d1, '*.score.csv')))\n",
    "progress = trange(len(f1s), position=0, leave=False)\n",
    "for f1 in f1s:\n",
    "    progress.set_description(os.path.basename(f1))\n",
    "    f2 = os.path.join(d2, os.path.basename(f1))\n",
    "    try:\n",
    "        assert os.path.exists(f2)\n",
    "    except AssertionError:\n",
    "        print(f\"Cant find original file ({f2})\")\n",
    "        continue\n",
    "    df1 = pd.read_csv(f1, index_col=0)\n",
    "    df2 = pd.read_csv(f2, index_col=0)\n",
    "    merged = pd.merge(df1, df2, left_index=True, right_index=True)\n",
    "    try:\n",
    "        assert merged[['dlogodds_pred_x', 'dlogodds_pred_y']].corr().iloc[0, 0] >= 0.99\n",
    "    except AssertionError:\n",
    "        print(f1, f2)\n",
    "    progress.update(1)"
   ]
  },
  {
   "cell_type": "code",
   "execution_count": null,
   "id": "69bf5dc3-5169-4a09-8bf7-8dbc145f69e7",
   "metadata": {},
   "outputs": [],
   "source": []
  }
 ],
 "metadata": {
  "kernelspec": {
   "display_name": "Python 3 (ipykernel)",
   "language": "python",
   "name": "python3"
  },
  "language_info": {
   "codemirror_mode": {
    "name": "ipython",
    "version": 3
   },
   "file_extension": ".py",
   "mimetype": "text/x-python",
   "name": "python",
   "nbconvert_exporter": "python",
   "pygments_lexer": "ipython3",
   "version": "3.9.12"
  }
 },
 "nbformat": 4,
 "nbformat_minor": 5
}
