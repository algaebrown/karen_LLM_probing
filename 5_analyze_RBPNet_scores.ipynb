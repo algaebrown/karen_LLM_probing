{
 "cells": [
  {
   "cell_type": "code",
   "execution_count": 1,
   "id": "ba1c7683-ced3-4b0a-994a-b0460b1840ec",
   "metadata": {},
   "outputs": [
    {
     "name": "stderr",
     "output_type": "stream",
     "text": [
      "/tscc/nfs/home/hsher/miniconda3/envs/my_metadensity/lib/python3.7/site-packages/ipykernel_launcher.py:15: PerformanceWarning: DataFrame is highly fragmented.  This is usually the result of calling `frame.insert` many times, which has poor performance.  Consider joining all columns at once using pd.concat(axis=1) instead.  To get a de-fragmented frame, use `newframe = frame.copy()`\n",
      "  from ipykernel import kernelapp as app\n"
     ]
    }
   ],
   "source": [
    "import pandas as pd\n",
    "from plot_params import *\n",
    "import pandas as pd\n",
    "data=pd.read_csv(outdir / 'Mouse_annotated.csv.gz')\n",
    "\n",
    "outdir = Path('/tscc/nfs/home/hsher/ps-yeolab5/karen_data/eclip_model_scores/output/')\n",
    "for f in outdir.glob('*.score.csv'):\n",
    "    name = f.name.split('.')[0]\n",
    "    df = pd.read_csv(f,\n",
    "                    index_col = 0)\n",
    "    df.set_index('ID', inplace = True)\n",
    "    df.rename({'dlogodds_pred': name}, axis = 1, inplace = True)\n",
    "\n",
    "\n",
    "    data[name]=df[name]"
   ]
  },
  {
   "cell_type": "code",
   "execution_count": 2,
   "id": "1795b3d0-be4c-4818-a88c-252bf834a3a3",
   "metadata": {},
   "outputs": [],
   "source": [
    "data['annotation']=data.apply(\n",
    "    lambda row: 'UTR5' if row['start_annotation']=='UTR5' and row['end_annotation']=='UTR5' else\n",
    "     'UTR3' if row['start_annotation']=='UTR3' and row['end_annotation']=='UTR3' else 'CDS', axis = 1)"
   ]
  },
  {
   "cell_type": "code",
   "execution_count": 3,
   "id": "d9461fb5-5ac3-4aba-acf7-a3ca7f583fc4",
   "metadata": {},
   "outputs": [],
   "source": [
    "# data.to_csv(outdir / 'Mouse_annotated_RBPNet.csv.gz')"
   ]
  },
  {
   "cell_type": "code",
   "execution_count": 4,
   "id": "c027ea9a-5087-4601-9d89-ccebb50bc162",
   "metadata": {},
   "outputs": [
    {
     "data": {
      "text/plain": [
       "<AxesSubplot:>"
      ]
     },
     "execution_count": 4,
     "metadata": {},
     "output_type": "execute_result"
    },
    {
     "data": {
      "image/png": "[encoded data removed]",
      "text/plain": [
       "<Figure size 432x288 with 1 Axes>"
      ]
     },
     "metadata": {},
     "output_type": "display_data"
    }
   ],
   "source": [
    "data['difference'].hist(bins = 100)"
   ]
  },
  {
   "cell_type": "code",
   "execution_count": 5,
   "id": "30cf335e-8c6b-4739-beb3-3e210cf9659b",
   "metadata": {},
   "outputs": [],
   "source": [
    "import numpy as np\n",
    "data['difference_bin'] = pd.cut(data['difference'], bins = [-np.inf, -0.1, 0.1, np.inf],\n",
    "                               labels = ['<-0.1', 'middle', '>0.1'])"
   ]
  },
  {
   "cell_type": "code",
   "execution_count": 6,
   "id": "ddd0fb9d-ee71-49d0-9299-e65a37e68b6c",
   "metadata": {},
   "outputs": [
    {
     "data": {
      "text/plain": [
       "'ZNF800_K562_ENCSR586DGV'"
      ]
     },
     "execution_count": 6,
     "metadata": {},
     "output_type": "execute_result"
    }
   ],
   "source": [
    "name"
   ]
  },
  {
   "cell_type": "code",
   "execution_count": 7,
   "id": "941b6231-2a29-4a85-bcbe-3086b51c83a2",
   "metadata": {},
   "outputs": [
    {
     "data": {
      "text/plain": [
       "<AxesSubplot:xlabel='annotation', ylabel='SFPQ_HepG2_ENCSR965DLL'>"
      ]
     },
     "execution_count": 7,
     "metadata": {},
     "output_type": "execute_result"
    },
    {
     "data": {
      "image/png": "[encoded data removed]",
      "text/plain": [
       "<Figure size 432x288 with 1 Axes>"
      ]
     },
     "metadata": {},
     "output_type": "display_data"
    }
   ],
   "source": [
    "sns.boxplot(data, x = 'annotation', y = 'SFPQ_HepG2_ENCSR965DLL', hue = 'difference_bin', showfliers=False)"
   ]
  },
  {
   "cell_type": "code",
   "execution_count": 8,
   "id": "7cb0072e-5c3f-4f2b-87ce-52da05a237b2",
   "metadata": {},
   "outputs": [
    {
     "data": {
      "text/plain": [
       "0          middle\n",
       "1          middle\n",
       "2          middle\n",
       "3          middle\n",
       "4          middle\n",
       "            ...  \n",
       "5722825    middle\n",
       "5722826    middle\n",
       "5722827    middle\n",
       "5722828    middle\n",
       "5722829    middle\n",
       "Name: difference_bin, Length: 5722830, dtype: category\n",
       "Categories (3, object): ['<-0.1' < 'middle' < '>0.1']"
      ]
     },
     "execution_count": 8,
     "metadata": {},
     "output_type": "execute_result"
    }
   ],
   "source": [
    "data['difference_bin']"
   ]
  },
  {
   "cell_type": "code",
   "execution_count": 9,
   "id": "7173c4ba-e86f-4426-9601-663278cd5df8",
   "metadata": {},
   "outputs": [],
   "source": [
    "from scipy.stats import ks_2samp\n",
    "stat = []\n",
    "for exp in data.columns[9:-2]:\n",
    "    for annotation in ['UTR5', 'CDS', 'UTR3']:\n",
    "        for cat in ['<-0.1', '>0.1']:\n",
    "            ks, pv = ks_2samp(data.loc[(data['annotation']==annotation)&\n",
    "                                        (data['difference_bin']==cat),\n",
    "                                        exp], \n",
    "                                        data.loc[(data['annotation']==annotation)&\n",
    "                                        (data['difference_bin']=='middle'),\n",
    "                                        exp], alternative='two-sided')\n",
    "            stat.append([ks, pv, exp, cat, annotation])\n",
    "        \n",
    "    "
   ]
  },
  {
   "cell_type": "code",
   "execution_count": 10,
   "id": "f0e188fe-e9f1-4b04-8d72-ae6a948043ee",
   "metadata": {},
   "outputs": [],
   "source": [
    "stat = pd.DataFrame(stat, columns = ['KS statistics', 'pvalue', 'RBPNet_model', 'category', 'annotation'])"
   ]
  },
  {
   "cell_type": "code",
   "execution_count": 11,
   "id": "02b97d6a-30a1-43cb-83b4-9e2d92c051cf",
   "metadata": {},
   "outputs": [
    {
     "data": {
      "text/html": [
       "<div>\n",
       "<style scoped>\n",
       "    .dataframe tbody tr th:only-of-type {\n",
       "        vertical-align: middle;\n",
       "    }\n",
       "\n",
       "    .dataframe tbody tr th {\n",
       "        vertical-align: top;\n",
       "    }\n",
       "\n",
       "    .dataframe thead th {\n",
       "        text-align: right;\n",
       "    }\n",
       "</style>\n",
       "<table border=\"1\" class=\"dataframe\">\n",
       "  <thead>\n",
       "    <tr style=\"text-align: right;\">\n",
       "      <th></th>\n",
       "      <th>KS statistics</th>\n",
       "      <th>pvalue</th>\n",
       "      <th>RBPNet_model</th>\n",
       "      <th>category</th>\n",
       "      <th>annotation</th>\n",
       "    </tr>\n",
       "  </thead>\n",
       "  <tbody>\n",
       "    <tr>\n",
       "      <th>0</th>\n",
       "      <td>0.028681</td>\n",
       "      <td>6.832860e-01</td>\n",
       "      <td>DDX41_K562_5081</td>\n",
       "      <td>&lt;-0.1</td>\n",
       "      <td>UTR5</td>\n",
       "    </tr>\n",
       "    <tr>\n",
       "      <th>1</th>\n",
       "      <td>0.034531</td>\n",
       "      <td>7.661756e-01</td>\n",
       "      <td>DDX41_K562_5081</td>\n",
       "      <td>&gt;0.1</td>\n",
       "      <td>UTR5</td>\n",
       "    </tr>\n",
       "    <tr>\n",
       "      <th>2</th>\n",
       "      <td>0.046089</td>\n",
       "      <td>1.816721e-28</td>\n",
       "      <td>DDX41_K562_5081</td>\n",
       "      <td>&lt;-0.1</td>\n",
       "      <td>CDS</td>\n",
       "    </tr>\n",
       "    <tr>\n",
       "      <th>3</th>\n",
       "      <td>0.029865</td>\n",
       "      <td>1.954611e-02</td>\n",
       "      <td>DDX41_K562_5081</td>\n",
       "      <td>&gt;0.1</td>\n",
       "      <td>CDS</td>\n",
       "    </tr>\n",
       "    <tr>\n",
       "      <th>4</th>\n",
       "      <td>0.186890</td>\n",
       "      <td>5.382955e-08</td>\n",
       "      <td>DDX41_K562_5081</td>\n",
       "      <td>&lt;-0.1</td>\n",
       "      <td>UTR3</td>\n",
       "    </tr>\n",
       "    <tr>\n",
       "      <th>...</th>\n",
       "      <td>...</td>\n",
       "      <td>...</td>\n",
       "      <td>...</td>\n",
       "      <td>...</td>\n",
       "      <td>...</td>\n",
       "    </tr>\n",
       "    <tr>\n",
       "      <th>1033</th>\n",
       "      <td>0.061878</td>\n",
       "      <td>1.189826e-01</td>\n",
       "      <td>ZNF800_K562_ENCSR586DGV</td>\n",
       "      <td>&gt;0.1</td>\n",
       "      <td>UTR5</td>\n",
       "    </tr>\n",
       "    <tr>\n",
       "      <th>1034</th>\n",
       "      <td>0.132168</td>\n",
       "      <td>9.502480e-232</td>\n",
       "      <td>ZNF800_K562_ENCSR586DGV</td>\n",
       "      <td>&lt;-0.1</td>\n",
       "      <td>CDS</td>\n",
       "    </tr>\n",
       "    <tr>\n",
       "      <th>1035</th>\n",
       "      <td>0.030986</td>\n",
       "      <td>1.372807e-02</td>\n",
       "      <td>ZNF800_K562_ENCSR586DGV</td>\n",
       "      <td>&gt;0.1</td>\n",
       "      <td>CDS</td>\n",
       "    </tr>\n",
       "    <tr>\n",
       "      <th>1036</th>\n",
       "      <td>0.084030</td>\n",
       "      <td>5.846302e-02</td>\n",
       "      <td>ZNF800_K562_ENCSR586DGV</td>\n",
       "      <td>&lt;-0.1</td>\n",
       "      <td>UTR3</td>\n",
       "    </tr>\n",
       "    <tr>\n",
       "      <th>1037</th>\n",
       "      <td>0.138689</td>\n",
       "      <td>1.925290e-02</td>\n",
       "      <td>ZNF800_K562_ENCSR586DGV</td>\n",
       "      <td>&gt;0.1</td>\n",
       "      <td>UTR3</td>\n",
       "    </tr>\n",
       "  </tbody>\n",
       "</table>\n",
       "<p>1038 rows × 5 columns</p>\n",
       "</div>"
      ],
      "text/plain": [
       "      KS statistics         pvalue             RBPNet_model category  \\\n",
       "0          0.028681   6.832860e-01          DDX41_K562_5081    <-0.1   \n",
       "1          0.034531   7.661756e-01          DDX41_K562_5081     >0.1   \n",
       "2          0.046089   1.816721e-28          DDX41_K562_5081    <-0.1   \n",
       "3          0.029865   1.954611e-02          DDX41_K562_5081     >0.1   \n",
       "4          0.186890   5.382955e-08          DDX41_K562_5081    <-0.1   \n",
       "...             ...            ...                      ...      ...   \n",
       "1033       0.061878   1.189826e-01  ZNF800_K562_ENCSR586DGV     >0.1   \n",
       "1034       0.132168  9.502480e-232  ZNF800_K562_ENCSR586DGV    <-0.1   \n",
       "1035       0.030986   1.372807e-02  ZNF800_K562_ENCSR586DGV     >0.1   \n",
       "1036       0.084030   5.846302e-02  ZNF800_K562_ENCSR586DGV    <-0.1   \n",
       "1037       0.138689   1.925290e-02  ZNF800_K562_ENCSR586DGV     >0.1   \n",
       "\n",
       "     annotation  \n",
       "0          UTR5  \n",
       "1          UTR5  \n",
       "2           CDS  \n",
       "3           CDS  \n",
       "4          UTR3  \n",
       "...         ...  \n",
       "1033       UTR5  \n",
       "1034        CDS  \n",
       "1035        CDS  \n",
       "1036       UTR3  \n",
       "1037       UTR3  \n",
       "\n",
       "[1038 rows x 5 columns]"
      ]
     },
     "execution_count": 11,
     "metadata": {},
     "output_type": "execute_result"
    }
   ],
   "source": [
    "stat"
   ]
  },
  {
   "cell_type": "code",
   "execution_count": 12,
   "id": "c00ded7a-66dc-447b-b49f-1a91258ae01a",
   "metadata": {},
   "outputs": [
    {
     "data": {
      "text/html": [
       "<div>\n",
       "<style scoped>\n",
       "    .dataframe tbody tr th:only-of-type {\n",
       "        vertical-align: middle;\n",
       "    }\n",
       "\n",
       "    .dataframe tbody tr th {\n",
       "        vertical-align: top;\n",
       "    }\n",
       "\n",
       "    .dataframe thead th {\n",
       "        text-align: right;\n",
       "    }\n",
       "</style>\n",
       "<table border=\"1\" class=\"dataframe\">\n",
       "  <thead>\n",
       "    <tr style=\"text-align: right;\">\n",
       "      <th></th>\n",
       "      <th>KS statistics</th>\n",
       "      <th>pvalue</th>\n",
       "      <th>RBPNet_model</th>\n",
       "      <th>category</th>\n",
       "      <th>annotation</th>\n",
       "    </tr>\n",
       "  </thead>\n",
       "  <tbody>\n",
       "    <tr>\n",
       "      <th>518</th>\n",
       "      <td>0.276152</td>\n",
       "      <td>0.000000</td>\n",
       "      <td>SFPQ_HepG2_ENCSR965DLL</td>\n",
       "      <td>&lt;-0.1</td>\n",
       "      <td>CDS</td>\n",
       "    </tr>\n",
       "    <tr>\n",
       "      <th>824</th>\n",
       "      <td>0.238017</td>\n",
       "      <td>0.000000</td>\n",
       "      <td>PTBP1_K562_ENCSR981WKN</td>\n",
       "      <td>&lt;-0.1</td>\n",
       "      <td>CDS</td>\n",
       "    </tr>\n",
       "    <tr>\n",
       "      <th>338</th>\n",
       "      <td>0.337973</td>\n",
       "      <td>0.000000</td>\n",
       "      <td>NONO_K562_4001</td>\n",
       "      <td>&lt;-0.1</td>\n",
       "      <td>CDS</td>\n",
       "    </tr>\n",
       "    <tr>\n",
       "      <th>980</th>\n",
       "      <td>0.189231</td>\n",
       "      <td>0.000000</td>\n",
       "      <td>GTF2F1_HepG2_ENCSR265ZIS</td>\n",
       "      <td>&lt;-0.1</td>\n",
       "      <td>CDS</td>\n",
       "    </tr>\n",
       "    <tr>\n",
       "      <th>104</th>\n",
       "      <td>0.263543</td>\n",
       "      <td>0.000000</td>\n",
       "      <td>PRPF39_HepG2_4149</td>\n",
       "      <td>&lt;-0.1</td>\n",
       "      <td>CDS</td>\n",
       "    </tr>\n",
       "    <tr>\n",
       "      <th>...</th>\n",
       "      <td>...</td>\n",
       "      <td>...</td>\n",
       "      <td>...</td>\n",
       "      <td>...</td>\n",
       "      <td>...</td>\n",
       "    </tr>\n",
       "    <tr>\n",
       "      <th>967</th>\n",
       "      <td>0.028519</td>\n",
       "      <td>0.921011</td>\n",
       "      <td>NONO_HepG2_4084</td>\n",
       "      <td>&gt;0.1</td>\n",
       "      <td>UTR5</td>\n",
       "    </tr>\n",
       "    <tr>\n",
       "      <th>31</th>\n",
       "      <td>0.028510</td>\n",
       "      <td>0.921193</td>\n",
       "      <td>PRK2_K562_5064</td>\n",
       "      <td>&gt;0.1</td>\n",
       "      <td>UTR5</td>\n",
       "    </tr>\n",
       "    <tr>\n",
       "      <th>858</th>\n",
       "      <td>0.020811</td>\n",
       "      <td>0.948288</td>\n",
       "      <td>SF3B4_K562_ENCSR267OLV</td>\n",
       "      <td>&lt;-0.1</td>\n",
       "      <td>UTR5</td>\n",
       "    </tr>\n",
       "    <tr>\n",
       "      <th>288</th>\n",
       "      <td>0.020661</td>\n",
       "      <td>0.951202</td>\n",
       "      <td>PDCD4_K562_5075</td>\n",
       "      <td>&lt;-0.1</td>\n",
       "      <td>UTR5</td>\n",
       "    </tr>\n",
       "    <tr>\n",
       "      <th>378</th>\n",
       "      <td>0.018373</td>\n",
       "      <td>0.983476</td>\n",
       "      <td>AKAP8L_K562_ENCSR206RXT</td>\n",
       "      <td>&lt;-0.1</td>\n",
       "      <td>UTR5</td>\n",
       "    </tr>\n",
       "  </tbody>\n",
       "</table>\n",
       "<p>1038 rows × 5 columns</p>\n",
       "</div>"
      ],
      "text/plain": [
       "     KS statistics    pvalue              RBPNet_model category annotation\n",
       "518       0.276152  0.000000    SFPQ_HepG2_ENCSR965DLL    <-0.1        CDS\n",
       "824       0.238017  0.000000    PTBP1_K562_ENCSR981WKN    <-0.1        CDS\n",
       "338       0.337973  0.000000            NONO_K562_4001    <-0.1        CDS\n",
       "980       0.189231  0.000000  GTF2F1_HepG2_ENCSR265ZIS    <-0.1        CDS\n",
       "104       0.263543  0.000000         PRPF39_HepG2_4149    <-0.1        CDS\n",
       "..             ...       ...                       ...      ...        ...\n",
       "967       0.028519  0.921011           NONO_HepG2_4084     >0.1       UTR5\n",
       "31        0.028510  0.921193            PRK2_K562_5064     >0.1       UTR5\n",
       "858       0.020811  0.948288    SF3B4_K562_ENCSR267OLV    <-0.1       UTR5\n",
       "288       0.020661  0.951202           PDCD4_K562_5075    <-0.1       UTR5\n",
       "378       0.018373  0.983476   AKAP8L_K562_ENCSR206RXT    <-0.1       UTR5\n",
       "\n",
       "[1038 rows x 5 columns]"
      ]
     },
     "execution_count": 12,
     "metadata": {},
     "output_type": "execute_result"
    }
   ],
   "source": [
    "stat.sort_values(by = 'pvalue')"
   ]
  },
  {
   "cell_type": "code",
   "execution_count": 13,
   "id": "b3a2dc25-b4c7-4f32-b8c1-95cbd8a923c4",
   "metadata": {},
   "outputs": [
    {
     "data": {
      "text/html": [
       "<div>\n",
       "<style scoped>\n",
       "    .dataframe tbody tr th:only-of-type {\n",
       "        vertical-align: middle;\n",
       "    }\n",
       "\n",
       "    .dataframe tbody tr th {\n",
       "        vertical-align: top;\n",
       "    }\n",
       "\n",
       "    .dataframe thead th {\n",
       "        text-align: right;\n",
       "    }\n",
       "</style>\n",
       "<table border=\"1\" class=\"dataframe\">\n",
       "  <thead>\n",
       "    <tr style=\"text-align: right;\">\n",
       "      <th></th>\n",
       "      <th>KS statistics</th>\n",
       "      <th>pvalue</th>\n",
       "      <th>RBPNet_model</th>\n",
       "      <th>category</th>\n",
       "      <th>annotation</th>\n",
       "    </tr>\n",
       "  </thead>\n",
       "  <tbody>\n",
       "    <tr>\n",
       "      <th>0</th>\n",
       "      <td>0.028681</td>\n",
       "      <td>6.832860e-01</td>\n",
       "      <td>DDX41_K562_5081</td>\n",
       "      <td>&lt;-0.1</td>\n",
       "      <td>UTR5</td>\n",
       "    </tr>\n",
       "    <tr>\n",
       "      <th>1</th>\n",
       "      <td>0.034531</td>\n",
       "      <td>7.661756e-01</td>\n",
       "      <td>DDX41_K562_5081</td>\n",
       "      <td>&gt;0.1</td>\n",
       "      <td>UTR5</td>\n",
       "    </tr>\n",
       "    <tr>\n",
       "      <th>2</th>\n",
       "      <td>0.046089</td>\n",
       "      <td>1.816721e-28</td>\n",
       "      <td>DDX41_K562_5081</td>\n",
       "      <td>&lt;-0.1</td>\n",
       "      <td>CDS</td>\n",
       "    </tr>\n",
       "    <tr>\n",
       "      <th>3</th>\n",
       "      <td>0.029865</td>\n",
       "      <td>1.954611e-02</td>\n",
       "      <td>DDX41_K562_5081</td>\n",
       "      <td>&gt;0.1</td>\n",
       "      <td>CDS</td>\n",
       "    </tr>\n",
       "    <tr>\n",
       "      <th>4</th>\n",
       "      <td>0.186890</td>\n",
       "      <td>5.382955e-08</td>\n",
       "      <td>DDX41_K562_5081</td>\n",
       "      <td>&lt;-0.1</td>\n",
       "      <td>UTR3</td>\n",
       "    </tr>\n",
       "    <tr>\n",
       "      <th>...</th>\n",
       "      <td>...</td>\n",
       "      <td>...</td>\n",
       "      <td>...</td>\n",
       "      <td>...</td>\n",
       "      <td>...</td>\n",
       "    </tr>\n",
       "    <tr>\n",
       "      <th>1033</th>\n",
       "      <td>0.061878</td>\n",
       "      <td>1.189826e-01</td>\n",
       "      <td>ZNF800_K562_ENCSR586DGV</td>\n",
       "      <td>&gt;0.1</td>\n",
       "      <td>UTR5</td>\n",
       "    </tr>\n",
       "    <tr>\n",
       "      <th>1034</th>\n",
       "      <td>0.132168</td>\n",
       "      <td>9.502480e-232</td>\n",
       "      <td>ZNF800_K562_ENCSR586DGV</td>\n",
       "      <td>&lt;-0.1</td>\n",
       "      <td>CDS</td>\n",
       "    </tr>\n",
       "    <tr>\n",
       "      <th>1035</th>\n",
       "      <td>0.030986</td>\n",
       "      <td>1.372807e-02</td>\n",
       "      <td>ZNF800_K562_ENCSR586DGV</td>\n",
       "      <td>&gt;0.1</td>\n",
       "      <td>CDS</td>\n",
       "    </tr>\n",
       "    <tr>\n",
       "      <th>1036</th>\n",
       "      <td>0.084030</td>\n",
       "      <td>5.846302e-02</td>\n",
       "      <td>ZNF800_K562_ENCSR586DGV</td>\n",
       "      <td>&lt;-0.1</td>\n",
       "      <td>UTR3</td>\n",
       "    </tr>\n",
       "    <tr>\n",
       "      <th>1037</th>\n",
       "      <td>0.138689</td>\n",
       "      <td>1.925290e-02</td>\n",
       "      <td>ZNF800_K562_ENCSR586DGV</td>\n",
       "      <td>&gt;0.1</td>\n",
       "      <td>UTR3</td>\n",
       "    </tr>\n",
       "  </tbody>\n",
       "</table>\n",
       "<p>1038 rows × 5 columns</p>\n",
       "</div>"
      ],
      "text/plain": [
       "      KS statistics         pvalue             RBPNet_model category  \\\n",
       "0          0.028681   6.832860e-01          DDX41_K562_5081    <-0.1   \n",
       "1          0.034531   7.661756e-01          DDX41_K562_5081     >0.1   \n",
       "2          0.046089   1.816721e-28          DDX41_K562_5081    <-0.1   \n",
       "3          0.029865   1.954611e-02          DDX41_K562_5081     >0.1   \n",
       "4          0.186890   5.382955e-08          DDX41_K562_5081    <-0.1   \n",
       "...             ...            ...                      ...      ...   \n",
       "1033       0.061878   1.189826e-01  ZNF800_K562_ENCSR586DGV     >0.1   \n",
       "1034       0.132168  9.502480e-232  ZNF800_K562_ENCSR586DGV    <-0.1   \n",
       "1035       0.030986   1.372807e-02  ZNF800_K562_ENCSR586DGV     >0.1   \n",
       "1036       0.084030   5.846302e-02  ZNF800_K562_ENCSR586DGV    <-0.1   \n",
       "1037       0.138689   1.925290e-02  ZNF800_K562_ENCSR586DGV     >0.1   \n",
       "\n",
       "     annotation  \n",
       "0          UTR5  \n",
       "1          UTR5  \n",
       "2           CDS  \n",
       "3           CDS  \n",
       "4          UTR3  \n",
       "...         ...  \n",
       "1033       UTR5  \n",
       "1034        CDS  \n",
       "1035        CDS  \n",
       "1036       UTR3  \n",
       "1037       UTR3  \n",
       "\n",
       "[1038 rows x 5 columns]"
      ]
     },
     "execution_count": 13,
     "metadata": {},
     "output_type": "execute_result"
    }
   ],
   "source": [
    "stat"
   ]
  },
  {
   "cell_type": "code",
   "execution_count": 14,
   "id": "a1eb2869-baa8-497e-a3b6-bd0f92c988c1",
   "metadata": {},
   "outputs": [],
   "source": [
    "#https://www.syngoportal.org/gene_hgnc10774\n",
    "#SynpatomeDB, synsysnet, integrated synapse proteome"
   ]
  },
  {
   "cell_type": "code",
   "execution_count": 15,
   "id": "25f24799-71a7-4ed3-ad0b-18ce920ce104",
   "metadata": {},
   "outputs": [
    {
     "data": {
      "text/plain": [
       "<AxesSubplot:>"
      ]
     },
     "execution_count": 15,
     "metadata": {},
     "output_type": "execute_result"
    },
    {
     "data": {
      "image/png": "[encoded data removed]",
      "text/plain": [
       "<Figure size 432x288 with 1 Axes>"
      ]
     },
     "metadata": {},
     "output_type": "display_data"
    }
   ],
   "source": [
    "stat['pvalue'].hist()"
   ]
  },
  {
   "cell_type": "code",
   "execution_count": 16,
   "id": "3be79722-9163-49ee-baf8-e53571a9c48d",
   "metadata": {},
   "outputs": [
    {
     "data": {
      "text/plain": [
       "<AxesSubplot:xlabel='ZNF800_K562_ENCSR586DGV', ylabel='difference'>"
      ]
     },
     "execution_count": 16,
     "metadata": {},
     "output_type": "execute_result"
    },
    {
     "data": {
      "image/png": "[encoded data removed]",
      "text/plain": [
       "<Figure size 432x288 with 1 Axes>"
      ]
     },
     "metadata": {},
     "output_type": "display_data"
    }
   ],
   "source": [
    "data.plot.scatter(x = name, y = 'difference', alpha = 0.01)"
   ]
  },
  {
   "cell_type": "code",
   "execution_count": 17,
   "id": "89f25006-80c7-41f6-bfd2-96e5178fd870",
   "metadata": {},
   "outputs": [
    {
     "ename": "SyntaxError",
     "evalue": "EOL while scanning string literal (670594129.py, line 1)",
     "output_type": "error",
     "traceback": [
      "\u001b[0;36m  File \u001b[0;32m\"/tmp/ipykernel_3258933/670594129.py\"\u001b[0;36m, line \u001b[0;32m1\u001b[0m\n\u001b[0;31m    data.plot.scatter(x = name, y = 'difference', alpha = 0.01, hue = ')\u001b[0m\n\u001b[0m                                                                        ^\u001b[0m\n\u001b[0;31mSyntaxError\u001b[0m\u001b[0;31m:\u001b[0m EOL while scanning string literal\n"
     ]
    }
   ],
   "source": [
    "data.plot.scatter(x = name, y = 'difference', alpha = 0.01, hue = ')"
   ]
  }
 ],
 "metadata": {
  "kernelspec": {
   "display_name": "my_metadensity",
   "language": "python",
   "name": "my_metadensity"
  },
  "language_info": {
   "codemirror_mode": {
    "name": "ipython",
    "version": 3
   },
   "file_extension": ".py",
   "mimetype": "text/x-python",
   "name": "python",
   "nbconvert_exporter": "python",
   "pygments_lexer": "ipython3",
   "version": "3.7.12"
  }
 },
 "nbformat": 4,
 "nbformat_minor": 5
}
