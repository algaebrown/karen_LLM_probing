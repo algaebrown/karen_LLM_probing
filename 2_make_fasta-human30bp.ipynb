{
 "cells": [
  {
   "cell_type": "code",
   "execution_count": 1,
   "id": "57542151-cb42-4405-bab7-546d97d0cdc0",
   "metadata": {
    "execution": {
     "iopub.execute_input": "2025-02-08T17:57:47.115596Z",
     "iopub.status.busy": "2025-02-08T17:57:47.115378Z",
     "iopub.status.idle": "2025-02-08T17:58:08.176268Z",
     "shell.execute_reply": "2025-02-08T17:58:08.175551Z",
     "shell.execute_reply.started": "2025-02-08T17:57:47.115577Z"
    }
   },
   "outputs": [],
   "source": [
    "from plot_params import *\n",
    "import pandas as pd\n",
    "df=pd.read_csv(outdir / 'Human_annotated_30bp.csv.gz')"
   ]
  },
  {
   "cell_type": "code",
   "execution_count": 2,
   "id": "de35faf2-d07b-4cc0-87e0-b904fb330370",
   "metadata": {
    "execution": {
     "iopub.execute_input": "2025-02-08T17:58:08.180291Z",
     "iopub.status.busy": "2025-02-08T17:58:08.178930Z",
     "iopub.status.idle": "2025-02-08T17:58:10.641400Z",
     "shell.execute_reply": "2025-02-08T17:58:10.640988Z",
     "shell.execute_reply.started": "2025-02-08T17:58:08.180263Z"
    }
   },
   "outputs": [
    {
     "data": {
      "text/plain": [
       "30"
      ]
     },
     "execution_count": 2,
     "metadata": {},
     "output_type": "execute_result"
    }
   ],
   "source": [
    "df['subseq'].str.len().min()"
   ]
  },
  {
   "cell_type": "code",
   "execution_count": 3,
   "id": "673d12d0-c891-496b-a171-40d791ac911b",
   "metadata": {
    "execution": {
     "iopub.execute_input": "2025-02-08T17:58:10.643992Z",
     "iopub.status.busy": "2025-02-08T17:58:10.643065Z",
     "iopub.status.idle": "2025-02-08T17:58:12.787319Z",
     "shell.execute_reply": "2025-02-08T17:58:12.786914Z",
     "shell.execute_reply.started": "2025-02-08T17:58:10.643971Z"
    }
   },
   "outputs": [
    {
     "data": {
      "text/plain": [
       "30"
      ]
     },
     "execution_count": 3,
     "metadata": {},
     "output_type": "execute_result"
    }
   ],
   "source": [
    "df['subseq'].str.len().max()"
   ]
  },
  {
   "cell_type": "code",
   "execution_count": 4,
   "id": "80d07450-85a1-43a7-9c66-0b4787c0cc46",
   "metadata": {
    "execution": {
     "iopub.execute_input": "2025-02-08T17:58:12.790248Z",
     "iopub.status.busy": "2025-02-08T17:58:12.789344Z",
     "iopub.status.idle": "2025-02-08T17:58:12.812990Z",
     "shell.execute_reply": "2025-02-08T17:58:12.812614Z",
     "shell.execute_reply.started": "2025-02-08T17:58:12.790223Z"
    }
   },
   "outputs": [
    {
     "data": {
      "text/html": [
       "<div>\n",
       "<style scoped>\n",
       "    .dataframe tbody tr th:only-of-type {\n",
       "        vertical-align: middle;\n",
       "    }\n",
       "\n",
       "    .dataframe tbody tr th {\n",
       "        vertical-align: top;\n",
       "    }\n",
       "\n",
       "    .dataframe thead th {\n",
       "        text-align: right;\n",
       "    }\n",
       "</style>\n",
       "<table border=\"1\" class=\"dataframe\">\n",
       "  <thead>\n",
       "    <tr style=\"text-align: right;\">\n",
       "      <th></th>\n",
       "      <th>Unnamed: 0</th>\n",
       "      <th>transcript_id</th>\n",
       "      <th>deletion_index_start</th>\n",
       "      <th>deletion_index_end</th>\n",
       "      <th>difference</th>\n",
       "      <th>synapse_probability</th>\n",
       "      <th>start_annotation</th>\n",
       "      <th>end_annotation</th>\n",
       "      <th>subseq</th>\n",
       "    </tr>\n",
       "  </thead>\n",
       "  <tbody>\n",
       "    <tr>\n",
       "      <th>0</th>\n",
       "      <td>0</td>\n",
       "      <td>ENST00000000233</td>\n",
       "      <td>0</td>\n",
       "      <td>30</td>\n",
       "      <td>0.000000</td>\n",
       "      <td>0.044434</td>\n",
       "      <td>UTR5</td>\n",
       "      <td>UTR5</td>\n",
       "      <td>CTGCTGCTGCTGCGCCCCATCCCCCCGCGG</td>\n",
       "    </tr>\n",
       "    <tr>\n",
       "      <th>1</th>\n",
       "      <td>1</td>\n",
       "      <td>ENST00000000233</td>\n",
       "      <td>15</td>\n",
       "      <td>45</td>\n",
       "      <td>0.000000</td>\n",
       "      <td>0.044434</td>\n",
       "      <td>UTR5</td>\n",
       "      <td>UTR5</td>\n",
       "      <td>CCCATCCCCCCGCGGCCGGCCAGTTCCAGC</td>\n",
       "    </tr>\n",
       "    <tr>\n",
       "      <th>2</th>\n",
       "      <td>2</td>\n",
       "      <td>ENST00000000233</td>\n",
       "      <td>30</td>\n",
       "      <td>60</td>\n",
       "      <td>0.000000</td>\n",
       "      <td>0.044434</td>\n",
       "      <td>UTR5</td>\n",
       "      <td>UTR5</td>\n",
       "      <td>CCGGCCAGTTCCAGCCCGCACCCCGCGTCG</td>\n",
       "    </tr>\n",
       "    <tr>\n",
       "      <th>3</th>\n",
       "      <td>3</td>\n",
       "      <td>ENST00000000233</td>\n",
       "      <td>45</td>\n",
       "      <td>75</td>\n",
       "      <td>0.000000</td>\n",
       "      <td>0.044434</td>\n",
       "      <td>UTR5</td>\n",
       "      <td>UTR5</td>\n",
       "      <td>CCGCACCCCGCGTCGGTGCCCGCGCCCCTC</td>\n",
       "    </tr>\n",
       "    <tr>\n",
       "      <th>4</th>\n",
       "      <td>4</td>\n",
       "      <td>ENST00000000233</td>\n",
       "      <td>60</td>\n",
       "      <td>90</td>\n",
       "      <td>-0.001953</td>\n",
       "      <td>0.042480</td>\n",
       "      <td>UTR5</td>\n",
       "      <td>CDS</td>\n",
       "      <td>GTGCCCGCGCCCCTCCCCGGGCCCCGCCAT</td>\n",
       "    </tr>\n",
       "  </tbody>\n",
       "</table>\n",
       "</div>"
      ],
      "text/plain": [
       "   Unnamed: 0    transcript_id  deletion_index_start  deletion_index_end  \\\n",
       "0           0  ENST00000000233                     0                  30   \n",
       "1           1  ENST00000000233                    15                  45   \n",
       "2           2  ENST00000000233                    30                  60   \n",
       "3           3  ENST00000000233                    45                  75   \n",
       "4           4  ENST00000000233                    60                  90   \n",
       "\n",
       "   difference  synapse_probability start_annotation end_annotation  \\\n",
       "0    0.000000             0.044434             UTR5           UTR5   \n",
       "1    0.000000             0.044434             UTR5           UTR5   \n",
       "2    0.000000             0.044434             UTR5           UTR5   \n",
       "3    0.000000             0.044434             UTR5           UTR5   \n",
       "4   -0.001953             0.042480             UTR5            CDS   \n",
       "\n",
       "                           subseq  \n",
       "0  CTGCTGCTGCTGCGCCCCATCCCCCCGCGG  \n",
       "1  CCCATCCCCCCGCGGCCGGCCAGTTCCAGC  \n",
       "2  CCGGCCAGTTCCAGCCCGCACCCCGCGTCG  \n",
       "3  CCGCACCCCGCGTCGGTGCCCGCGCCCCTC  \n",
       "4  GTGCCCGCGCCCCTCCCCGGGCCCCGCCAT  "
      ]
     },
     "execution_count": 4,
     "metadata": {},
     "output_type": "execute_result"
    }
   ],
   "source": [
    "df.head()"
   ]
  },
  {
   "cell_type": "code",
   "execution_count": 5,
   "id": "aff8f5ba-b12e-40d1-b46f-03125a0027ce",
   "metadata": {
    "execution": {
     "iopub.execute_input": "2025-02-08T17:58:12.815419Z",
     "iopub.status.busy": "2025-02-08T17:58:12.814529Z",
     "iopub.status.idle": "2025-02-08T17:58:13.172681Z",
     "shell.execute_reply": "2025-02-08T17:58:13.172254Z",
     "shell.execute_reply.started": "2025-02-08T17:58:12.815399Z"
    }
   },
   "outputs": [],
   "source": [
    "from Bio.SeqRecord import SeqRecord\n",
    "from Bio import SeqIO\n",
    "from Bio.Seq import Seq\n",
    "def df2fasta(df, fname, col='subseq', id='Unnamed: 0'):\n",
    "    \n",
    "    \n",
    "    sequences = []\n",
    "    for index, row in df.iterrows():\n",
    "        sequences.append(SeqRecord(Seq(row[col]), str(row[id]), \"\", \"\"))\n",
    "    with open(fname, \"w\") as output_handle:\n",
    "        SeqIO.write(sequences, output_handle, \"fasta\")\n"
   ]
  },
  {
   "cell_type": "code",
   "execution_count": 6,
   "id": "23ef3a38-85ab-4935-b053-d263b6dc9431",
   "metadata": {
    "execution": {
     "iopub.execute_input": "2025-02-08T17:58:13.173345Z",
     "iopub.status.busy": "2025-02-08T17:58:13.173181Z",
     "iopub.status.idle": "2025-02-08T17:58:13.179353Z",
     "shell.execute_reply": "2025-02-08T17:58:13.179015Z",
     "shell.execute_reply.started": "2025-02-08T17:58:13.173329Z"
    }
   },
   "outputs": [
    {
     "data": {
      "text/plain": [
       "PosixPath('/tscc/nfs/home/bay001/projects/karen_synapse_20240529/permanent_data/charlene_work')"
      ]
     },
     "execution_count": 6,
     "metadata": {},
     "output_type": "execute_result"
    }
   ],
   "source": [
    "outdir"
   ]
  },
  {
   "cell_type": "code",
   "execution_count": 7,
   "id": "3d7588d1-1b10-47ad-805f-ffe3302fc508",
   "metadata": {
    "execution": {
     "iopub.execute_input": "2025-02-08T17:58:13.179898Z",
     "iopub.status.busy": "2025-02-08T17:58:13.179760Z",
     "iopub.status.idle": "2025-02-08T18:03:29.115124Z",
     "shell.execute_reply": "2025-02-08T18:03:29.114481Z",
     "shell.execute_reply.started": "2025-02-08T17:58:13.179884Z"
    }
   },
   "outputs": [],
   "source": [
    "df2fasta(df, outdir / 'all_human_30bp.fa')"
   ]
  },
  {
   "cell_type": "code",
   "execution_count": 8,
   "id": "2b0800ae-a2a5-468e-986f-072ad134eb55",
   "metadata": {
    "execution": {
     "iopub.execute_input": "2025-02-08T18:03:29.118504Z",
     "iopub.status.busy": "2025-02-08T18:03:29.117452Z",
     "iopub.status.idle": "2025-02-08T18:04:11.914508Z",
     "shell.execute_reply": "2025-02-08T18:04:11.913855Z",
     "shell.execute_reply.started": "2025-02-08T18:03:29.118481Z"
    }
   },
   "outputs": [],
   "source": [
    "df['annotation']=df.apply(\n",
    "    lambda row: 'UTR5' if row['start_annotation']=='UTR5' and row['end_annotation']=='UTR5' else\n",
    "     'UTR3' if row['start_annotation']=='UTR3' and row['end_annotation']=='UTR3' else 'CDS', axis = 1)"
   ]
  },
  {
   "cell_type": "code",
   "execution_count": 9,
   "id": "2a60e6e1-67e3-4420-a2d5-e48c30a3a04c",
   "metadata": {
    "execution": {
     "iopub.execute_input": "2025-02-08T18:04:11.918180Z",
     "iopub.status.busy": "2025-02-08T18:04:11.916935Z",
     "iopub.status.idle": "2025-02-08T18:04:13.134360Z",
     "shell.execute_reply": "2025-02-08T18:04:13.133918Z",
     "shell.execute_reply.started": "2025-02-08T18:04:11.918150Z"
    }
   },
   "outputs": [],
   "source": [
    "df2fasta(df.loc[(df['annotation']=='UTR3')&(df['difference']<-0.1)], \n",
    "         outdir / 'utr3_forefround_human_30bp.fa')\n",
    "df2fasta(df.loc[(df['annotation']=='UTR3')&(df['difference']>0.1)], \n",
    "         outdir / 'utr3_backfround_human_30bp.fa')\n",
    "\n",
    "df2fasta(df.loc[(df['annotation']=='UTR5')&(df['difference']<-0.1)], \n",
    "         outdir / 'utr5_forefround_human_30bp.fa')\n",
    "df2fasta(df.loc[(df['annotation']=='UTR5')&(df['difference']>0.1)], \n",
    "         outdir / 'utr5_backfround_human_30bp.fa')"
   ]
  },
  {
   "cell_type": "code",
   "execution_count": 10,
   "id": "9ae0a9d7-3418-47ee-a754-be0dd7d2189f",
   "metadata": {
    "execution": {
     "iopub.execute_input": "2025-02-08T18:04:13.138097Z",
     "iopub.status.busy": "2025-02-08T18:04:13.136965Z",
     "iopub.status.idle": "2025-02-08T18:04:13.413080Z",
     "shell.execute_reply": "2025-02-08T18:04:13.412705Z",
     "shell.execute_reply.started": "2025-02-08T18:04:13.138074Z"
    }
   },
   "outputs": [
    {
     "data": {
      "text/html": [
       "<div>\n",
       "<style scoped>\n",
       "    .dataframe tbody tr th:only-of-type {\n",
       "        vertical-align: middle;\n",
       "    }\n",
       "\n",
       "    .dataframe tbody tr th {\n",
       "        vertical-align: top;\n",
       "    }\n",
       "\n",
       "    .dataframe thead th {\n",
       "        text-align: right;\n",
       "    }\n",
       "</style>\n",
       "<table border=\"1\" class=\"dataframe\">\n",
       "  <thead>\n",
       "    <tr style=\"text-align: right;\">\n",
       "      <th></th>\n",
       "      <th>Unnamed: 0</th>\n",
       "      <th>transcript_id</th>\n",
       "      <th>deletion_index_start</th>\n",
       "      <th>deletion_index_end</th>\n",
       "      <th>difference</th>\n",
       "      <th>synapse_probability</th>\n",
       "      <th>start_annotation</th>\n",
       "      <th>end_annotation</th>\n",
       "      <th>subseq</th>\n",
       "      <th>annotation</th>\n",
       "    </tr>\n",
       "  </thead>\n",
       "  <tbody>\n",
       "    <tr>\n",
       "      <th>2781</th>\n",
       "      <td>2781</td>\n",
       "      <td>ENST00000005259</td>\n",
       "      <td>0</td>\n",
       "      <td>30</td>\n",
       "      <td>-0.369141</td>\n",
       "      <td>0.279297</td>\n",
       "      <td>UTR5</td>\n",
       "      <td>UTR5</td>\n",
       "      <td>GTCCCGCGCGTCGGCGGCCGCGGAGCAGCG</td>\n",
       "      <td>UTR5</td>\n",
       "    </tr>\n",
       "    <tr>\n",
       "      <th>2782</th>\n",
       "      <td>2782</td>\n",
       "      <td>ENST00000005259</td>\n",
       "      <td>15</td>\n",
       "      <td>45</td>\n",
       "      <td>-0.212891</td>\n",
       "      <td>0.435547</td>\n",
       "      <td>UTR5</td>\n",
       "      <td>UTR5</td>\n",
       "      <td>GGCCGCGGAGCAGCGCAGGGAGCCAGGCGG</td>\n",
       "      <td>UTR5</td>\n",
       "    </tr>\n",
       "    <tr>\n",
       "      <th>13444</th>\n",
       "      <td>13444</td>\n",
       "      <td>ENST00000035307</td>\n",
       "      <td>1080</td>\n",
       "      <td>1110</td>\n",
       "      <td>-0.185547</td>\n",
       "      <td>0.043945</td>\n",
       "      <td>UTR5</td>\n",
       "      <td>UTR5</td>\n",
       "      <td>GGGGCTGTTGTTTTGATGGATCGTGTGCTT</td>\n",
       "      <td>UTR5</td>\n",
       "    </tr>\n",
       "    <tr>\n",
       "      <th>13445</th>\n",
       "      <td>13445</td>\n",
       "      <td>ENST00000035307</td>\n",
       "      <td>1095</td>\n",
       "      <td>1125</td>\n",
       "      <td>-0.195801</td>\n",
       "      <td>0.033691</td>\n",
       "      <td>UTR5</td>\n",
       "      <td>UTR5</td>\n",
       "      <td>ATGGATCGTGTGCTTTTCCCTTACCTCTTA</td>\n",
       "      <td>UTR5</td>\n",
       "    </tr>\n",
       "    <tr>\n",
       "      <th>13446</th>\n",
       "      <td>13446</td>\n",
       "      <td>ENST00000035307</td>\n",
       "      <td>1110</td>\n",
       "      <td>1140</td>\n",
       "      <td>-0.138672</td>\n",
       "      <td>0.090820</td>\n",
       "      <td>UTR5</td>\n",
       "      <td>UTR5</td>\n",
       "      <td>TTCCCTTACCTCTTATCACTTGCTGTCATC</td>\n",
       "      <td>UTR5</td>\n",
       "    </tr>\n",
       "    <tr>\n",
       "      <th>...</th>\n",
       "      <td>...</td>\n",
       "      <td>...</td>\n",
       "      <td>...</td>\n",
       "      <td>...</td>\n",
       "      <td>...</td>\n",
       "      <td>...</td>\n",
       "      <td>...</td>\n",
       "      <td>...</td>\n",
       "      <td>...</td>\n",
       "      <td>...</td>\n",
       "    </tr>\n",
       "    <tr>\n",
       "      <th>6949606</th>\n",
       "      <td>6949606</td>\n",
       "      <td>ENST00000706492</td>\n",
       "      <td>150</td>\n",
       "      <td>180</td>\n",
       "      <td>-0.229492</td>\n",
       "      <td>0.131836</td>\n",
       "      <td>UTR5</td>\n",
       "      <td>UTR5</td>\n",
       "      <td>AGTTGGGATCTCTTTGCTTTTCTGTTTGGC</td>\n",
       "      <td>UTR5</td>\n",
       "    </tr>\n",
       "    <tr>\n",
       "      <th>6950081</th>\n",
       "      <td>6950081</td>\n",
       "      <td>ENST00000706533</td>\n",
       "      <td>120</td>\n",
       "      <td>150</td>\n",
       "      <td>-0.462891</td>\n",
       "      <td>0.279297</td>\n",
       "      <td>UTR5</td>\n",
       "      <td>UTR5</td>\n",
       "      <td>CGCCGGCGGGGCTCGGTCCAGTCCTCATGG</td>\n",
       "      <td>UTR5</td>\n",
       "    </tr>\n",
       "    <tr>\n",
       "      <th>6961296</th>\n",
       "      <td>6961296</td>\n",
       "      <td>ENST00000706836</td>\n",
       "      <td>360</td>\n",
       "      <td>390</td>\n",
       "      <td>-0.179688</td>\n",
       "      <td>0.464844</td>\n",
       "      <td>UTR5</td>\n",
       "      <td>UTR5</td>\n",
       "      <td>AGCGTGGGAACGCGGCTGGCAGGCTGTGGA</td>\n",
       "      <td>UTR5</td>\n",
       "    </tr>\n",
       "    <tr>\n",
       "      <th>6961297</th>\n",
       "      <td>6961297</td>\n",
       "      <td>ENST00000706836</td>\n",
       "      <td>375</td>\n",
       "      <td>405</td>\n",
       "      <td>-0.433594</td>\n",
       "      <td>0.210938</td>\n",
       "      <td>UTR5</td>\n",
       "      <td>UTR5</td>\n",
       "      <td>CTGGCAGGCTGTGGACCTCGTCCTCACCAC</td>\n",
       "      <td>UTR5</td>\n",
       "    </tr>\n",
       "    <tr>\n",
       "      <th>6965492</th>\n",
       "      <td>6965492</td>\n",
       "      <td>ENST00000706915</td>\n",
       "      <td>375</td>\n",
       "      <td>405</td>\n",
       "      <td>-0.117188</td>\n",
       "      <td>0.335938</td>\n",
       "      <td>UTR5</td>\n",
       "      <td>UTR5</td>\n",
       "      <td>TGAACCTTAGGGGTCTGATGGAAATTCACT</td>\n",
       "      <td>UTR5</td>\n",
       "    </tr>\n",
       "  </tbody>\n",
       "</table>\n",
       "<p>1096 rows × 10 columns</p>\n",
       "</div>"
      ],
      "text/plain": [
       "         Unnamed: 0    transcript_id  deletion_index_start  \\\n",
       "2781           2781  ENST00000005259                     0   \n",
       "2782           2782  ENST00000005259                    15   \n",
       "13444         13444  ENST00000035307                  1080   \n",
       "13445         13445  ENST00000035307                  1095   \n",
       "13446         13446  ENST00000035307                  1110   \n",
       "...             ...              ...                   ...   \n",
       "6949606     6949606  ENST00000706492                   150   \n",
       "6950081     6950081  ENST00000706533                   120   \n",
       "6961296     6961296  ENST00000706836                   360   \n",
       "6961297     6961297  ENST00000706836                   375   \n",
       "6965492     6965492  ENST00000706915                   375   \n",
       "\n",
       "         deletion_index_end  difference  synapse_probability start_annotation  \\\n",
       "2781                     30   -0.369141             0.279297             UTR5   \n",
       "2782                     45   -0.212891             0.435547             UTR5   \n",
       "13444                  1110   -0.185547             0.043945             UTR5   \n",
       "13445                  1125   -0.195801             0.033691             UTR5   \n",
       "13446                  1140   -0.138672             0.090820             UTR5   \n",
       "...                     ...         ...                  ...              ...   \n",
       "6949606                 180   -0.229492             0.131836             UTR5   \n",
       "6950081                 150   -0.462891             0.279297             UTR5   \n",
       "6961296                 390   -0.179688             0.464844             UTR5   \n",
       "6961297                 405   -0.433594             0.210938             UTR5   \n",
       "6965492                 405   -0.117188             0.335938             UTR5   \n",
       "\n",
       "        end_annotation                          subseq annotation  \n",
       "2781              UTR5  GTCCCGCGCGTCGGCGGCCGCGGAGCAGCG       UTR5  \n",
       "2782              UTR5  GGCCGCGGAGCAGCGCAGGGAGCCAGGCGG       UTR5  \n",
       "13444             UTR5  GGGGCTGTTGTTTTGATGGATCGTGTGCTT       UTR5  \n",
       "13445             UTR5  ATGGATCGTGTGCTTTTCCCTTACCTCTTA       UTR5  \n",
       "13446             UTR5  TTCCCTTACCTCTTATCACTTGCTGTCATC       UTR5  \n",
       "...                ...                             ...        ...  \n",
       "6949606           UTR5  AGTTGGGATCTCTTTGCTTTTCTGTTTGGC       UTR5  \n",
       "6950081           UTR5  CGCCGGCGGGGCTCGGTCCAGTCCTCATGG       UTR5  \n",
       "6961296           UTR5  AGCGTGGGAACGCGGCTGGCAGGCTGTGGA       UTR5  \n",
       "6961297           UTR5  CTGGCAGGCTGTGGACCTCGTCCTCACCAC       UTR5  \n",
       "6965492           UTR5  TGAACCTTAGGGGTCTGATGGAAATTCACT       UTR5  \n",
       "\n",
       "[1096 rows x 10 columns]"
      ]
     },
     "execution_count": 10,
     "metadata": {},
     "output_type": "execute_result"
    }
   ],
   "source": [
    "df.loc[(df['annotation']=='UTR5')&(df['difference']<-0.1)]"
   ]
  },
  {
   "cell_type": "markdown",
   "id": "704a8cfd-dab8-46db-90ac-efee875098b4",
   "metadata": {},
   "source": [
    "# Commands to run HOMER"
   ]
  },
  {
   "cell_type": "markdown",
   "id": "b220068b-04b8-47da-b1ff-5c764e850434",
   "metadata": {},
   "source": [
    "```\n",
    "cd /tscc/nfs/home/hsher/ps-yeolab5/karen_data\n",
    "findMotifs.pl utr3_forefround_human_30bp.fa fasta utr3_homer_results_human/ -fasta utr3_backfround_human_30bp.fa \\\n",
    "    -rna -nofacts\n",
    "findMotifs.pl utr5_forefround_human_30bp.fa fasta utr5_homer_results_human/ -fasta utr5_backfround_human_30bp.fa \\\n",
    "    -rna -nofacts\n",
    "```"
   ]
  }
 ],
 "metadata": {
  "kernelspec": {
   "display_name": "Python 3 (ipykernel)",
   "language": "python",
   "name": "python3"
  },
  "language_info": {
   "codemirror_mode": {
    "name": "ipython",
    "version": 3
   },
   "file_extension": ".py",
   "mimetype": "text/x-python",
   "name": "python",
   "nbconvert_exporter": "python",
   "pygments_lexer": "ipython3",
   "version": "3.9.15"
  }
 },
 "nbformat": 4,
 "nbformat_minor": 5
}
